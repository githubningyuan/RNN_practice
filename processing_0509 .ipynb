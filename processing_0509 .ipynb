{
 "cells": [
  {
   "cell_type": "code",
   "execution_count": 1,
   "metadata": {
    "collapsed": false
   },
   "outputs": [
    {
     "name": "stdout",
     "output_type": "stream",
     "text": [
      "Using matplotlib backend: TkAgg\n"
     ]
    }
   ],
   "source": [
    "% matplotlib"
   ]
  },
  {
   "cell_type": "code",
   "execution_count": 1,
   "metadata": {
    "collapsed": false
   },
   "outputs": [],
   "source": [
    "% matplotlib inline"
   ]
  },
  {
   "cell_type": "code",
   "execution_count": 4,
   "metadata": {
    "collapsed": true
   },
   "outputs": [],
   "source": [
    "import pandas as pd\n",
    "import numpy as np\n",
    "import math\n",
    "import csv\n",
    "import matplotlib.pyplot as plt\n",
    "import datetime\n",
    "import time\n",
    "import pickle\n",
    "from datetime import datetime, date , timedelta\n",
    "import seaborn as sns \n",
    "import pylab as pl"
   ]
  },
  {
   "cell_type": "code",
   "execution_count": 5,
   "metadata": {
    "collapsed": false
   },
   "outputs": [],
   "source": [
    "import seaborn as sns \n",
    "import pylab as pl"
   ]
  },
  {
   "cell_type": "code",
   "execution_count": 17,
   "metadata": {
    "collapsed": false
   },
   "outputs": [
    {
     "name": "stdout",
     "output_type": "stream",
     "text": [
      "25.8231909275\n"
     ]
    }
   ],
   "source": [
    "t1 = time.time()\n",
    "df = pd.read_csv('diabetes.csv')\n",
    "print(time.time()-t1)  \n",
    "#  reading time = 73.35 secs"
   ]
  },
  {
   "cell_type": "code",
   "execution_count": 8,
   "metadata": {
    "collapsed": false
   },
   "outputs": [],
   "source": [
    "# df.shape = (610383, 648)\n",
    "# len(df.columns) = 648\n",
    "# len(set(df['uid'])) = 111291\n",
    "# sum(df['diabetes']==1) = 6509"
   ]
  },
  {
   "cell_type": "code",
   "execution_count": 5,
   "metadata": {
    "collapsed": true
   },
   "outputs": [],
   "source": [
    "uid_set = set(df.uid)"
   ]
  },
  {
   "cell_type": "code",
   "execution_count": 6,
   "metadata": {
    "collapsed": false
   },
   "outputs": [
    {
     "data": {
      "text/plain": [
       "111291"
      ]
     },
     "execution_count": 6,
     "metadata": {},
     "output_type": "execute_result"
    }
   ],
   "source": [
    "len(uid_set)"
   ]
  },
  {
   "cell_type": "markdown",
   "metadata": {},
   "source": [
    "### 製作 得糖尿病 名單"
   ]
  },
  {
   "cell_type": "code",
   "execution_count": 23,
   "metadata": {
    "collapsed": false
   },
   "outputs": [
    {
     "data": {
      "text/plain": [
       "3317"
      ]
     },
     "execution_count": 23,
     "metadata": {},
     "output_type": "execute_result"
    }
   ],
   "source": [
    "with_diabetes = set(df.uid[df.diabetes==1])\n",
    "len(with_diabetes)"
   ]
  },
  {
   "cell_type": "markdown",
   "metadata": {},
   "source": [
    "### 製作 非糖尿病 名單"
   ]
  },
  {
   "cell_type": "code",
   "execution_count": null,
   "metadata": {
    "collapsed": true
   },
   "outputs": [],
   "source": [
    "'''\n",
    "s1.union(s2)\n",
    "s1.difference(s2)\n",
    "s1.intersection(s2)\n",
    "'''"
   ]
  },
  {
   "cell_type": "code",
   "execution_count": 24,
   "metadata": {
    "collapsed": false
   },
   "outputs": [
    {
     "name": "stdout",
     "output_type": "stream",
     "text": [
      "111291\n",
      "111291\n"
     ]
    }
   ],
   "source": [
    "ever_without_diabetes = set(df.uid[df.diabetes==0])\n",
    "print(len(ever_without_diabetes)  )\n",
    "print( len(with_diabetes.union(ever_without_diabetes))    )"
   ]
  },
  {
   "cell_type": "code",
   "execution_count": 10,
   "metadata": {
    "collapsed": false
   },
   "outputs": [
    {
     "data": {
      "text/plain": [
       "107974"
      ]
     },
     "execution_count": 10,
     "metadata": {},
     "output_type": "execute_result"
    }
   ],
   "source": [
    "without_diabetes = ever_without_diabetes.difference(with_diabetes)\n",
    "len(without_diabetes)"
   ]
  },
  {
   "cell_type": "markdown",
   "metadata": {},
   "source": [
    "###  得糖尿病比例"
   ]
  },
  {
   "cell_type": "code",
   "execution_count": 54,
   "metadata": {
    "collapsed": false
   },
   "outputs": [
    {
     "name": "stdout",
     "output_type": "stream",
     "text": [
      "2.9804746116   %\n"
     ]
    }
   ],
   "source": [
    "print(str(100 * 3317./111291.)+'   %')"
   ]
  },
  {
   "cell_type": "markdown",
   "metadata": {},
   "source": [
    "### 製作 得糖尿病 資料"
   ]
  },
  {
   "cell_type": "code",
   "execution_count": 44,
   "metadata": {
    "collapsed": true
   },
   "outputs": [],
   "source": [
    "with_diab_list = list(with_diabetes)"
   ]
  },
  {
   "cell_type": "code",
   "execution_count": 50,
   "metadata": {
    "collapsed": false
   },
   "outputs": [
    {
     "name": "stdout",
     "output_type": "stream",
     "text": [
      "1370.91799998\n"
     ]
    }
   ],
   "source": [
    "t1 = time.time()\n",
    "df_concat = df[df.uid==with_diab_list[0]]\n",
    "for i in range(1,len(with_diab_list)):\n",
    "    df_new = df[df.uid==with_diab_list[i]]\n",
    "    df_concat = pd.concat([df_concat,  df_new], axis=0)\n",
    "print(time.time() - t1)"
   ]
  },
  {
   "cell_type": "code",
   "execution_count": 54,
   "metadata": {
    "collapsed": false
   },
   "outputs": [
    {
     "data": {
      "text/plain": [
       "(25142, 648)"
      ]
     },
     "execution_count": 54,
     "metadata": {},
     "output_type": "execute_result"
    }
   ],
   "source": [
    "df_concat.shape"
   ]
  },
  {
   "cell_type": "code",
   "execution_count": 65,
   "metadata": {
    "collapsed": false
   },
   "outputs": [],
   "source": [
    "diab_index = list(df_concat.index)"
   ]
  },
  {
   "cell_type": "code",
   "execution_count": 66,
   "metadata": {
    "collapsed": false
   },
   "outputs": [
    {
     "data": {
      "text/plain": [
       "25142"
      ]
     },
     "execution_count": 66,
     "metadata": {},
     "output_type": "execute_result"
    }
   ],
   "source": [
    "len(diab_index)"
   ]
  },
  {
   "cell_type": "markdown",
   "metadata": {},
   "source": [
    "### 製作 非糖尿病 資料"
   ]
  },
  {
   "cell_type": "code",
   "execution_count": 67,
   "metadata": {
    "collapsed": false
   },
   "outputs": [
    {
     "name": "stdout",
     "output_type": "stream",
     "text": [
      "77.8310000896\n"
     ]
    }
   ],
   "source": [
    "t1 = time.time()\n",
    "df_no_diab = df.drop( diab_index )\n",
    "print(time.time() - t1)"
   ]
  },
  {
   "cell_type": "markdown",
   "metadata": {},
   "source": [
    "### 儲存切好的 非糖尿病 / 得糖尿病 資料"
   ]
  },
  {
   "cell_type": "code",
   "execution_count": null,
   "metadata": {
    "collapsed": false
   },
   "outputs": [],
   "source": [
    "df_concat.to_csv('with_diabetes.csv', index=False)"
   ]
  },
  {
   "cell_type": "code",
   "execution_count": 68,
   "metadata": {
    "collapsed": true
   },
   "outputs": [],
   "source": [
    "df_no_diab.to_csv('without_diabetes.csv', index=False)"
   ]
  },
  {
   "cell_type": "markdown",
   "metadata": {},
   "source": [
    "### 載入切好的 非糖尿病 / 得糖尿病 資料"
   ]
  },
  {
   "cell_type": "code",
   "execution_count": 6,
   "metadata": {
    "collapsed": false
   },
   "outputs": [],
   "source": [
    "df_diab = pd.read_csv('with_diabetes.csv')"
   ]
  },
  {
   "cell_type": "code",
   "execution_count": 14,
   "metadata": {
    "collapsed": true
   },
   "outputs": [],
   "source": [
    "df_no_diab = pd.read_csv('without_diabetes.csv')"
   ]
  },
  {
   "cell_type": "code",
   "execution_count": null,
   "metadata": {
    "collapsed": false
   },
   "outputs": [],
   "source": []
  },
  {
   "cell_type": "markdown",
   "metadata": {},
   "source": [
    "### 重建 特徵字典"
   ]
  },
  {
   "cell_type": "code",
   "execution_count": 7,
   "metadata": {
    "collapsed": true
   },
   "outputs": [],
   "source": [
    "dict_df = pd.read_csv('dict_.csv')\n",
    "dict_ = {}\n",
    "for idx in dict_df.index:\n",
    "    dict_[dict_df.feature[idx]] = dict_df.description[idx]"
   ]
  },
  {
   "cell_type": "code",
   "execution_count": 8,
   "metadata": {
    "collapsed": true
   },
   "outputs": [],
   "source": [
    "df = df_diab\n",
    "cols = list(df.columns)"
   ]
  },
  {
   "cell_type": "code",
   "execution_count": 9,
   "metadata": {
    "collapsed": false
   },
   "outputs": [
    {
     "data": {
      "text/plain": [
       "(25142, 648)"
      ]
     },
     "execution_count": 9,
     "metadata": {},
     "output_type": "execute_result"
    }
   ],
   "source": [
    "df.shape"
   ]
  },
  {
   "cell_type": "code",
   "execution_count": null,
   "metadata": {
    "collapsed": true
   },
   "outputs": [],
   "source": []
  },
  {
   "cell_type": "code",
   "execution_count": 10,
   "metadata": {
    "collapsed": false
   },
   "outputs": [
    {
     "name": "stdout",
     "output_type": "stream",
     "text": [
      "15.1276631355\n"
     ]
    }
   ],
   "source": [
    "t1 = time.time()\n",
    "null_percentage = []\n",
    "for colname in cols:\n",
    "    null_percentage.append(sum(df[colname].isnull() )/25142.)\n",
    "print(time.time() - t1)"
   ]
  },
  {
   "cell_type": "code",
   "execution_count": null,
   "metadata": {
    "collapsed": true
   },
   "outputs": [],
   "source": [
    "dict_['cr_fobt']\n",
    "dict_['pronormal']\n",
    "dict_[]"
   ]
  },
  {
   "cell_type": "code",
   "execution_count": null,
   "metadata": {
    "collapsed": false
   },
   "outputs": [],
   "source": []
  },
  {
   "cell_type": "code",
   "execution_count": 11,
   "metadata": {
    "collapsed": false
   },
   "outputs": [
    {
     "data": {
      "text/plain": [
       "Index([u'uid', u'gender', u'age', u'diabetes', u'yr', u'mon', u'day',\n",
       "       u'bloodtype', u'whichhand', u'twins', u'earlobe', u'tongue',\n",
       "       u'forehead', u'eyetype', u'dimple', u'thumb', u'forefinger',\n",
       "       u'lfinger1', u'lfinger2', u'lfinger3', u'lfinger4', u'lfinger5',\n",
       "       u'rfinger5', u'rfinger4', u'rfinger3', u'rfinger2', u'rfinger1',\n",
       "       u'bornweight', u'father', u'gfather_f', u'gmother_f', u'mother',\n",
       "       u'gfather_m', u'gmother_m', u'marriage_96', u'marriage_98',\n",
       "       u'marriage_14', u'education', u'occupation', u'pollution', u'solvent',\n",
       "       u'asbestos', u'coalash', u'paint', u'radiation', u'pesticide',\n",
       "       u'others', u'ergonomic', u'nopolution', u'fincome'],\n",
       "      dtype='object')"
      ]
     },
     "execution_count": 11,
     "metadata": {},
     "output_type": "execute_result"
    }
   ],
   "source": [
    "df.columns[:50]"
   ]
  },
  {
   "cell_type": "code",
   "execution_count": 12,
   "metadata": {
    "collapsed": false
   },
   "outputs": [],
   "source": [
    "### Determine the data type\n",
    "d_types = []\n",
    "for idx in range(648):\n",
    "    rand_1 = np.random.choice(10000,5, replace =False )\n",
    "    ft = cols[idx]\n",
    "    #pd.DataFrame( [type(df[ft][idx]) for idx in rand_1] ).value_counts()\n",
    "    sorted(pd.DataFrame( [type(df[ft][idx]) for idx in rand_1] )[0].value_counts())\n",
    "    d_type = np.argmax(pd.DataFrame( [type(df[ft][idx]) for idx in rand_1] )[0].value_counts())   \n",
    "    d_types.append(d_type) \n",
    "#pd.DataFrame(d_types)[0].value_counts()"
   ]
  },
  {
   "cell_type": "code",
   "execution_count": 11,
   "metadata": {
    "collapsed": false
   },
   "outputs": [
    {
     "name": "stdout",
     "output_type": "stream",
     "text": [
      "217 features were left\n"
     ]
    }
   ],
   "source": [
    "### Select features with fewer missing values\n",
    "missing_threshold = 0.2\n",
    "idx_usable = [idx for idx in range(len(cols)) if null_percentage[idx] < missing_threshold]\n",
    "fts_usable = [cols[idx] for idx in idx_usable]\n",
    "print(len(fts_usable), 'features were left')\n",
    "#df = df[fts_usable]\n",
    "#cols_select = df.columns"
   ]
  },
  {
   "cell_type": "code",
   "execution_count": null,
   "metadata": {
    "collapsed": true
   },
   "outputs": [],
   "source": []
  },
  {
   "cell_type": "code",
   "execution_count": null,
   "metadata": {
    "collapsed": false
   },
   "outputs": [],
   "source": []
  },
  {
   "cell_type": "code",
   "execution_count": 25,
   "metadata": {
    "collapsed": false
   },
   "outputs": [
    {
     "name": "stdout",
     "output_type": "stream",
     "text": [
      "anomalous feature index: 0\n",
      "corresponding name: uid\n",
      "anomalous feature index: 534\n",
      "corresponding name: ur_ot\n",
      "Have 2 anomalous features\n"
     ]
    }
   ],
   "source": [
    "cnt = 0\n",
    "for ii_ in range(648):\n",
    "    summary_ = df[cols[ii_]].describe()\n",
    "    if len(summary_)!=8:\n",
    "#        print(len(summary_))\n",
    "        cnt+=1\n",
    "        print('anomalous feature index: %d'% ii_)\n",
    "        print('corresponding name: ' + str(cols[ii_])  )\n",
    "print('Have %d anomalous features' % cnt)\n"
   ]
  },
  {
   "cell_type": "code",
   "execution_count": null,
   "metadata": {
    "collapsed": false
   },
   "outputs": [],
   "source": []
  },
  {
   "cell_type": "code",
   "execution_count": 96,
   "metadata": {
    "collapsed": false
   },
   "outputs": [
    {
     "name": "stdout",
     "output_type": "stream",
     "text": [
      "1045\n"
     ]
    }
   ],
   "source": [
    "cnt = 0\n",
    "for jj_ in range(25142):\n",
    "    if type(df[cols[534]][jj_]) == str:\n",
    "#        print(jj_, df[cols[534]][jj_])\n",
    "        cnt += 1\n",
    "print(cnt)"
   ]
  },
  {
   "cell_type": "code",
   "execution_count": 37,
   "metadata": {
    "collapsed": false
   },
   "outputs": [
    {
     "data": {
      "text/plain": [
       "count     1045\n",
       "unique      53\n",
       "top       黏液絲狀\n",
       "freq       517\n",
       "Name: ur_ot, dtype: object"
      ]
     },
     "execution_count": 37,
     "metadata": {},
     "output_type": "execute_result"
    }
   ],
   "source": [
    "df[cols[534]].describe()"
   ]
  },
  {
   "cell_type": "code",
   "execution_count": null,
   "metadata": {
    "collapsed": true
   },
   "outputs": [],
   "source": []
  },
  {
   "cell_type": "code",
   "execution_count": 145,
   "metadata": {
    "collapsed": true
   },
   "outputs": [],
   "source": [
    "### construct the description for all features:\n",
    "\n",
    "### deal with feature 'uid'\n",
    "df0 = pd.Series(np.zeros(8))\n",
    "df0.index = df[cols[1]].describe().index\n",
    "concat_ = df0\n",
    "type_list = [str]\n",
    "\n",
    "### deal with features No.1 to No.533 \n",
    "for ii_ in range(1,534):\n",
    "    concat_ = pd.concat([concat_, df[cols[ii_]].describe()], axis =1)\n",
    "    type_list.append(df[cols[ii_]].describe().dtype   )\n",
    "\n",
    "### deal with feature 'ur_ot':\n",
    "df534 = pd.Series(np.zeros(8))\n",
    "df534.index = df[cols[1]].describe().index\n",
    "concat_ = pd.concat([concat_, df534], axis =1)\n",
    "type_list.append(  str   )\n",
    "\n",
    "### deal with features No.535 to No.648 \n",
    "for ii_ in range(535,648):\n",
    "    concat_ = pd.concat([concat_, df[cols[ii_]].describe()], axis =1)\n",
    "    type_list.append(df[cols[ii_]].describe().dtype   )\n",
    "    \n",
    "concat_.columns.values[0] = 'uid'\n",
    "concat_.columns.values[534] = 'ur_ot'\n",
    "\n",
    "### combine the \"data type\" row into the big dataframe \"concat_\"\n",
    "df_type = pd.DataFrame( np.array(type_list).reshape([1,648]) )\n",
    "df_type.columns = concat_.columns\n",
    "concat_ = pd.concat([concat_, df_type  ], axis = 0)\n",
    "concat_.index.values[8] = 'type'\n",
    "\n",
    "descp_path = './save_features/feature_description.csv'\n",
    "concat_.to_csv(descp_path, index = False)"
   ]
  },
  {
   "cell_type": "code",
   "execution_count": 146,
   "metadata": {
    "collapsed": true
   },
   "outputs": [],
   "source": []
  },
  {
   "cell_type": "code",
   "execution_count": null,
   "metadata": {
    "collapsed": true
   },
   "outputs": [],
   "source": []
  },
  {
   "cell_type": "markdown",
   "metadata": {},
   "source": [
    "## Process features, ONE BY ONE:"
   ]
  },
  {
   "cell_type": "code",
   "execution_count": 11,
   "metadata": {
    "collapsed": true
   },
   "outputs": [],
   "source": [
    "### Read the description for all features:\n",
    "descp_path = './save_features/feature_description.csv'\n",
    "df_desc = pd.read_csv(descp_path)\n",
    "df_desc.index = [u'count', u'mean', u'std', u'min', u'25%',\n",
    "                 u'50%', u'75%', u'max', u'type']"
   ]
  },
  {
   "cell_type": "code",
   "execution_count": 12,
   "metadata": {
    "collapsed": true
   },
   "outputs": [],
   "source": [
    "### Read the process record:\n",
    "record_path = './save_features/process_record_0312_ny.csv'\n",
    "df_process = pd.read_csv(record_path)\n",
    "##df_process.to_csv(record_path, index =False)"
   ]
  },
  {
   "cell_type": "code",
   "execution_count": 13,
   "metadata": {
    "collapsed": false
   },
   "outputs": [
    {
     "data": {
      "text/html": [
       "<div>\n",
       "<table border=\"1\" class=\"dataframe\">\n",
       "  <thead>\n",
       "    <tr style=\"text-align: right;\">\n",
       "      <th></th>\n",
       "      <th>ft_name</th>\n",
       "      <th>num_var</th>\n",
       "      <th>cate_var</th>\n",
       "      <th>other_var</th>\n",
       "      <th>drop_var</th>\n",
       "      <th>fill_with_most</th>\n",
       "      <th>fill_with_unknown</th>\n",
       "      <th>fill_with_mean</th>\n",
       "      <th>fill_with_pre</th>\n",
       "      <th>combined_with</th>\n",
       "      <th>reduce_class</th>\n",
       "      <th>year_consistancy</th>\n",
       "      <th>other_error</th>\n",
       "      <th>embeddings</th>\n",
       "    </tr>\n",
       "  </thead>\n",
       "  <tbody>\n",
       "    <tr>\n",
       "      <th>0</th>\n",
       "      <td>uid</td>\n",
       "      <td>0</td>\n",
       "      <td>0</td>\n",
       "      <td>0</td>\n",
       "      <td>0</td>\n",
       "      <td>0</td>\n",
       "      <td>0</td>\n",
       "      <td>0</td>\n",
       "      <td>0</td>\n",
       "      <td>0</td>\n",
       "      <td>0</td>\n",
       "      <td>0</td>\n",
       "      <td>0</td>\n",
       "      <td>0</td>\n",
       "    </tr>\n",
       "  </tbody>\n",
       "</table>\n",
       "</div>"
      ],
      "text/plain": [
       "  ft_name  num_var  cate_var  other_var  drop_var  fill_with_most  \\\n",
       "0     uid        0         0          0         0               0   \n",
       "\n",
       "   fill_with_unknown  fill_with_mean  fill_with_pre  combined_with  \\\n",
       "0                  0               0              0              0   \n",
       "\n",
       "   reduce_class  year_consistancy  other_error  embeddings  \n",
       "0             0                 0            0           0  "
      ]
     },
     "execution_count": 13,
     "metadata": {},
     "output_type": "execute_result"
    }
   ],
   "source": [
    "df_process.head(1)"
   ]
  },
  {
   "cell_type": "code",
   "execution_count": null,
   "metadata": {
    "collapsed": true
   },
   "outputs": [],
   "source": [
    "### Read just one feature in the document \"./save_features\" :\n",
    "#file_path = './save_features/'+str(idx)+'_'+str(ft)+'.csv'\n",
    "#df_one_ft = pd.read_csv(file_path)"
   ]
  },
  {
   "cell_type": "code",
   "execution_count": null,
   "metadata": {
    "collapsed": true
   },
   "outputs": [],
   "source": [
    "'''\n",
    "step 1: Run the feature summary. \n",
    "     1-1 If the 'Attention!...' appears, check:\n",
    "          **missing percentage is too high? ( > 0.4)\n",
    "          **maximum is not reasonable?      ( > 20)\n",
    "          **minimun is not reasonable?      ( < 0 )\n",
    "     1-2 Did the histogram show ? If not, check \"wrong data type\".\n",
    "     \n",
    "step 2: Determine the processing strategy (Fill the process_record)\n",
    "\n",
    "step 3: Processing and save the feature\n",
    "     3-1 categorical variable\n",
    "        ** fill the missing values\n",
    "        ** one-hot encoding\n",
    "     3-2 numerical variable\n",
    "        ** fill the missing values\n",
    "        ** normalize\n",
    "'''"
   ]
  },
  {
   "cell_type": "code",
   "execution_count": 14,
   "metadata": {
    "collapsed": false
   },
   "outputs": [],
   "source": [
    "### find the starting point for each id -- column ['uid_start'] :\n",
    "df['uid_start'] = df['uid'] != df['uid'].shift(1)"
   ]
  },
  {
   "cell_type": "code",
   "execution_count": 23,
   "metadata": {
    "collapsed": false
   },
   "outputs": [],
   "source": [
    "### construct columns ['date', 'delta_month']:\n",
    "df['date'] = df.apply(lambda row: datetime(\n",
    "          row['yr'], row['mon'], row['day']), axis=1)\n",
    "## 365 days = 31536000 seconds , 30 days = 2592000 seconds.\n",
    "df['delta_yr'] = df['date'].diff().dt.total_seconds().fillna(0)/31536000.  \n",
    "df.loc[df['uid_start']==True, 'delta_yr']= 0\n",
    "#df['delta_month'] = df['date'].diff().dt.total_seconds().fillna(0)/2592000.  \n",
    "#df.loc[df['uid_start']==True, 'delta_month']= 0"
   ]
  },
  {
   "cell_type": "code",
   "execution_count": null,
   "metadata": {
    "collapsed": true
   },
   "outputs": [],
   "source": []
  },
  {
   "cell_type": "code",
   "execution_count": 107,
   "metadata": {
    "collapsed": false
   },
   "outputs": [
    {
     "name": "stdout",
     "output_type": "stream",
     "text": [
      "isd_hbabcv\n",
      "('max=', 13.07, 'min=', 0.029999998999999999, 'mean=', 2.5227272702689394)\n",
      "Attention! Attention! Attention! Attention! \n",
      "Attention! Attention! Attention! Attention! \n",
      "Attention! Attention! Attention! Attention! \n"
     ]
    },
    {
     "data": {
      "image/png": "[encoded data removed]",
      "text/plain": [
       "<matplotlib.figure.Figure at 0x7f1a9fde9b50>"
      ]
     },
     "metadata": {},
     "output_type": "display_data"
    }
   ],
   "source": [
    "idx = 500\n",
    "ft = cols[idx]\n",
    "df_one_ft = df[ ft ]\n",
    "print( ft )\n",
    "#print( ft, dict_[ft]  )\n",
    "null_thres = 0.4\n",
    "#print('null percent:', null_percentage[idx])\n",
    "#print( 'possible values:', set(df_one_ft))\n",
    "summary_ = df_one_ft.describe()\n",
    "print('max=', summary_[7], 'min=', summary_[3], 'mean=', summary_[1]  )\n",
    "if (summary_[7]>20 or summary_[3]<0 or null_percentage[idx]> null_thres):\n",
    "    print('Attention! Attention! Attention! Attention! ')\n",
    "    print('Attention! Attention! Attention! Attention! ')\n",
    "    print('Attention! Attention! Attention! Attention! ')\n",
    "#print( summary_ )\n",
    "#print( df_one_ft.value_counts() )\n",
    "df_one_ft.hist(bins=50, figsize=(6,4),color='red')\n",
    "plt.show()\n",
    "#print(sorted(df_one_ft))\n",
    "\n",
    "#flat = df[ ft ]\n",
    "#bins = np.linspace(np.min(flat), np.max(flat), 50)\n",
    "#plt.hist(flat, bins=bins, color = 'blue')\n",
    "#plt.show()"
   ]
  },
  {
   "cell_type": "code",
   "execution_count": 31,
   "metadata": {
    "collapsed": false
   },
   "outputs": [
    {
     "data": {
      "text/plain": [
       "0.31124401092529297"
      ]
     },
     "execution_count": 31,
     "metadata": {},
     "output_type": "execute_result"
    }
   ],
   "source": [
    "### Numerical variables \n",
    "t1 = time.time()\n",
    "#summary_ = df_one_ft.describe()\n",
    "max_ = summary_[7]  \n",
    "min_ = summary_[3]\n",
    "mean_ = summary_[1]\n",
    "std_ = summary_[2]\n",
    "\n",
    "## 1. data type transfer: from numpy.int64 to numpy.float64\n",
    "#df_float = [float(df[ft][idx]) for idx in range(25142)  ]\n",
    "df_float = df[ft].astype('float')\n",
    "\n",
    "## 2. fill missing values\n",
    "df_float[df_float.isnull()==True]= mean_\n",
    "\n",
    "## 3. normalization\n",
    "#    df_float = (df_float - min_)/(max_ - min_)\n",
    "for idx_ in range(25142):\n",
    "    df_float[idx_] = (df_float[idx_] - mean_)/std_\n",
    "\n",
    "## 4. record the processing strategy\n",
    "df_process['num_var'].values[idx] = 1\n",
    "df_process['fill_with_mean'].values[idx] = 1\n",
    "\n",
    "file_path = './save_features/numerical/'+str(idx)+'_'+str(ft)+'.csv'\n",
    "df_float.to_csv(file_path, index =False)\n",
    "    \n",
    "time.time() - t1"
   ]
  },
  {
   "cell_type": "code",
   "execution_count": null,
   "metadata": {
    "collapsed": false
   },
   "outputs": [],
   "source": []
  },
  {
   "cell_type": "code",
   "execution_count": 474,
   "metadata": {
    "collapsed": true
   },
   "outputs": [],
   "source": [
    "### Drop variables \n",
    "\n",
    "df_process['drop_var'].values[idx] = 1\n",
    "#df_process['combined_with'][idx] = 1\n",
    "#df_process['reduce_class'][idx] = 1\n",
    "#df_process['year_consistancy'][idx] = 1\n",
    "#df_process['other_error'][idx] = 1\n",
    "\n",
    "file_path = './save_features/drop/'+str(idx)+'_'+str(ft)+'.csv'\n",
    "df_one_ft.to_csv(file_path, index =False)\n"
   ]
  },
  {
   "cell_type": "code",
   "execution_count": 251,
   "metadata": {
    "collapsed": false
   },
   "outputs": [],
   "source": [
    "### Other variables -- which needs extra considerations\n",
    "\n",
    "df_process['other_var'].values[idx] = 1\n",
    "#df_process['combined_with'][idx] = 1\n",
    "#df_process['reduce_class'][idx] = 1\n",
    "#df_process['year_consistancy'][idx] = 1\n",
    "#df_process['other_error'][idx] = 1\n",
    "\n",
    "file_path = './save_features/other/'+str(idx)+'_'+str(ft)+'.csv'\n",
    "df_one_ft.to_csv(file_path, index =False)\n"
   ]
  },
  {
   "cell_type": "code",
   "execution_count": 257,
   "metadata": {
    "collapsed": false
   },
   "outputs": [
    {
     "data": {
      "text/plain": [
       "0.0    10309\n",
       "1.0     7453\n",
       "2.0     7380\n",
       "Name: nutrino, dtype: int64"
      ]
     },
     "execution_count": 257,
     "metadata": {},
     "output_type": "execute_result"
    }
   ],
   "source": [
    "(df_one_ft.value_counts())"
   ]
  },
  {
   "cell_type": "code",
   "execution_count": 348,
   "metadata": {
    "collapsed": false
   },
   "outputs": [
    {
     "name": "stderr",
     "output_type": "stream",
     "text": [
      "/usr/local/lib/python2.7/dist-packages/ipykernel/__main__.py:10: SettingWithCopyWarning: \n",
      "A value is trying to be set on a copy of a slice from a DataFrame\n",
      "\n",
      "See the caveats in the documentation: http://pandas.pydata.org/pandas-docs/stable/indexing.html#indexing-view-versus-copy\n"
     ]
    },
    {
     "data": {
      "text/plain": [
       "0.07622480392456055"
      ]
     },
     "execution_count": 348,
     "metadata": {},
     "output_type": "execute_result"
    }
   ],
   "source": [
    "### Processing categorical variable\n",
    "t1 = time.time()\n",
    "\n",
    "max_ = summary_[7]  \n",
    "min_ = summary_[3]\n",
    "\n",
    "## 1. fill missing values\n",
    "df_one_ft[df_one_ft.isnull()==True]= max_ + 1\n",
    "df_process['fill_with_unknown'].values[idx] = 1\n",
    "#df_one_ft[df_one_ft.isnull()==True]= (df_one_ft.value_counts()).index[0]\n",
    "#df_process['fill_with_most'].values[idx] = 1\n",
    "\n",
    "#if null_percentage[idx]> null_thres:\n",
    "#    df_one_ft[df_one_ft.isnull()==True]= max_ + 1\n",
    "#    df_process['fill_with_unknown'].values[idx] = 1\n",
    "#elif sum(df_one_ft.isnull() ) == 0:\n",
    "#    break\n",
    "#else:\n",
    "#    df_one_ft[df_one_ft.isnull()==True]= (df_one_ft.value_counts()).index[0]\n",
    "#    df_process['fill_with_most'].values[idx] = 1\n",
    "\n",
    "## 2. one-hot encoding:\n",
    "df_one_hot = pd.get_dummies(df_one_ft)\n",
    "df_one_hot.columns = [ft+'_'+str(col) for col in df_one_hot.columns]\n",
    "\n",
    "## 3. record the processing strategy\n",
    "df_process['cate_var'].values[idx] = 1\n",
    "\n",
    "file_path = './save_features/categorical/'+str(idx)+'_'+str(ft)+'.csv'\n",
    "df_one_hot.to_csv(file_path, index =False)\n",
    "\n",
    "time.time() - t1"
   ]
  },
  {
   "cell_type": "code",
   "execution_count": 475,
   "metadata": {
    "collapsed": true
   },
   "outputs": [],
   "source": [
    "### Save df_process to csv file:\n",
    "record_path = './save_features/process_record_0320_ny_303_to_500.csv'\n",
    "df_process.to_csv(record_path, index =False)"
   ]
  },
  {
   "cell_type": "code",
   "execution_count": null,
   "metadata": {
    "collapsed": true
   },
   "outputs": [],
   "source": [
    "'''\n",
    "An interesting feature:\n",
    "'cbc_mcv'\n",
    "'cbc_mch'\n",
    "'cpi_ts'\n",
    "'isd_hbagsv'\n",
    "'''"
   ]
  },
  {
   "cell_type": "code",
   "execution_count": null,
   "metadata": {
    "collapsed": true
   },
   "outputs": [],
   "source": []
  },
  {
   "cell_type": "code",
   "execution_count": null,
   "metadata": {
    "collapsed": true
   },
   "outputs": [],
   "source": []
  },
  {
   "cell_type": "code",
   "execution_count": null,
   "metadata": {
    "collapsed": true
   },
   "outputs": [],
   "source": []
  },
  {
   "cell_type": "code",
   "execution_count": null,
   "metadata": {
    "collapsed": true
   },
   "outputs": [],
   "source": []
  },
  {
   "cell_type": "code",
   "execution_count": null,
   "metadata": {
    "collapsed": true
   },
   "outputs": [],
   "source": []
  },
  {
   "cell_type": "code",
   "execution_count": null,
   "metadata": {
    "collapsed": true
   },
   "outputs": [],
   "source": [
    "### DEAL WITH TIME FORMAT DATA:\n",
    "'''\n",
    "min_ = datetime.strptime('2020/01/01', \"%Y/%m/%d\")\n",
    "max_ = datetime.strptime('1950/01/01', \"%Y/%m/%d\")\n",
    "for i_ in range(len(PO_7_110)):\n",
    "#    val_ = int(PO_7_110['caldt'][i_][:4]) \n",
    "    val_ = datetime.strptime(PO_7_110['caldt'][i_], \"%Y/%m/%d\")\n",
    "    if val_.date() < min_.date():\n",
    "        min_ = val_\n",
    "    if val_.date() > max_.date():\n",
    "        max_ = val_\n",
    "print(min_, max_)\n",
    "# from_date = date.today()-timedelta(days=3)\n",
    "# val_.date() > from_date\n",
    "'''"
   ]
  },
  {
   "cell_type": "code",
   "execution_count": 89,
   "metadata": {
    "collapsed": true
   },
   "outputs": [],
   "source": [
    "#import pickle\n",
    "with open(\"df_num.txt\", \"wb\") as fp:   #Pickling\n",
    "    pickle.dump(df_num, fp)\n",
    "with open(\"min_max.txt\", \"wb\") as fp:   #Pickling\n",
    "    pickle.dump(min_max, fp)\n",
    "with open(\"df_cat.txt\", \"wb\") as fp:   #Pickling\n",
    "    pickle.dump(df_cat, fp)\n",
    "with open(\"drop_list.txt\", \"wb\") as fp:   #Pickling\n",
    "    pickle.dump(drop_list, fp)\n",
    "################################# \n",
    "with open(\"df_num.txt\", \"rb\") as fp:   # Unpickling\n",
    "    df_num = pickle.load(fp)\n",
    "with open(\"min_max.txt\", \"rb\") as fp:   # Unpickling\n",
    "    min_max = pickle.load(fp)\n",
    "with open(\"df_cat.txt\", \"rb\") as fp:   # Unpickling\n",
    "    df_cat = pickle.load(fp)\n",
    "with open(\"drop_list.txt\", \"rb\") as fp:   # Unpickling\n",
    "    drop_list = pickle.load(fp)\n",
    "#################################\n",
    "with open('df_num.txt', 'rb') as fp:\n",
    "    u = pickle._Unpickler(fp)\n",
    "    u.encoding = 'latin1'\n",
    "    df_num = u.load()\n",
    "with open('min_max.txt', 'rb') as fp:\n",
    "    u = pickle._Unpickler(fp)\n",
    "    u.encoding = 'latin1'\n",
    "    min_max = u.load()\n",
    "with open('df_cat.txt', 'rb') as fp:\n",
    "    u = pickle._Unpickler(fp)\n",
    "    u.encoding = 'latin1'\n",
    "    df_cat = u.load()\n",
    "with open('drop_list.txt', 'rb') as fp:\n",
    "    u = pickle._Unpickler(fp)\n",
    "    u.encoding = 'latin1'\n",
    "    drop_list = u.load()"
   ]
  },
  {
   "cell_type": "code",
   "execution_count": 30,
   "metadata": {
    "collapsed": false
   },
   "outputs": [],
   "source": [
    "#df_cat=[]\n",
    "#df_num = []\n",
    "#min_max = []\n",
    "#drop_list = []"
   ]
  },
  {
   "cell_type": "code",
   "execution_count": null,
   "metadata": {
    "collapsed": false
   },
   "outputs": [],
   "source": [
    "for i_ in range(70,87):\n",
    "    idx = idx_usable[   i_    ]\n",
    "    ft = cols[idx]"
   ]
  },
  {
   "cell_type": "code",
   "execution_count": 264,
   "metadata": {
    "collapsed": false
   },
   "outputs": [],
   "source": [
    "    ### Numerical variables \n",
    "    ## 1. data type transfer: from numpy.int64 to numpy.float64\n",
    "    #df_float = [float(df[ft][idx]) for idx in range(25142)  ]\n",
    "    df_float = df[ft].astype('float', copy=True)\n",
    "\n",
    "    ## 2. fill missing values\n",
    "    mean_ = np.mean(df_float)\n",
    "    df_float[df_float.isnull()==True]= np.mean(df_float)\n",
    "\n",
    "    ## 3. normalization\n",
    "    min_ = np.min(df_float)\n",
    "    max_ = np.max(df_float)   \n",
    "#    df_float = (df_float - min_)/(max_ - min_)\n",
    "    for idx_ in range(25142):\n",
    "        df_float[idx] = (df_float[idx_] - min_)/(max_ - min_)\n",
    "    df_num.append([idx, df_float])\n",
    "    min_max.append([idx, min_, max_])"
   ]
  },
  {
   "cell_type": "code",
   "execution_count": 267,
   "metadata": {
    "collapsed": false
   },
   "outputs": [
    {
     "name": "stdout",
     "output_type": "stream",
     "text": [
      "383\n",
      "386\n",
      "403\n",
      "405\n",
      "407\n",
      "409\n",
      "429\n",
      "430\n"
     ]
    }
   ],
   "source": [
    "len_ = len(min_max)\n",
    "for j_ in range(len_-8,len_):\n",
    "#for j_ in range(-8,-0):\n",
    "    print( min_max[j_][0]  )"
   ]
  },
  {
   "cell_type": "code",
   "execution_count": 240,
   "metadata": {
    "collapsed": false
   },
   "outputs": [
    {
     "data": {
      "text/plain": [
       "100"
      ]
     },
     "execution_count": 240,
     "metadata": {},
     "output_type": "execute_result"
    }
   ],
   "source": [
    "len_"
   ]
  },
  {
   "cell_type": "code",
   "execution_count": 238,
   "metadata": {
    "collapsed": false
   },
   "outputs": [
    {
     "data": {
      "text/plain": [
       "[403, 1.0, 5.0]"
      ]
     },
     "execution_count": 238,
     "metadata": {},
     "output_type": "execute_result"
    }
   ],
   "source": [
    "df_num.pop(100)\n",
    "min_max.pop(100)"
   ]
  },
  {
   "cell_type": "code",
   "execution_count": 45,
   "metadata": {
    "collapsed": false
   },
   "outputs": [],
   "source": [
    "#df_num[82][0]=346"
   ]
  },
  {
   "cell_type": "code",
   "execution_count": 395,
   "metadata": {
    "collapsed": false
   },
   "outputs": [],
   "source": [
    "### check if the processing  is reasonable\n",
    "# 1. for numerical variables:\n",
    "#for obj in min_max:\n",
    "#    if obj[1]<0. or obj[2]>6.:\n",
    "#        print(obj[0], obj[1], obj[2])"
   ]
  },
  {
   "cell_type": "code",
   "execution_count": 41,
   "metadata": {
    "collapsed": true
   },
   "outputs": [],
   "source": []
  },
  {
   "cell_type": "code",
   "execution_count": null,
   "metadata": {
    "collapsed": false
   },
   "outputs": [],
   "source": []
  },
  {
   "cell_type": "code",
   "execution_count": 48,
   "metadata": {
    "collapsed": false
   },
   "outputs": [
    {
     "data": {
      "text/plain": [
       "0.020816936880214073"
      ]
     },
     "execution_count": 48,
     "metadata": {},
     "output_type": "execute_result"
    }
   ],
   "source": [
    "sum(df[ft].isnull())/25412."
   ]
  },
  {
   "cell_type": "code",
   "execution_count": null,
   "metadata": {
    "collapsed": true
   },
   "outputs": [],
   "source": [
    "df[cols[310]]"
   ]
  },
  {
   "cell_type": "code",
   "execution_count": 270,
   "metadata": {
    "collapsed": false
   },
   "outputs": [
    {
     "data": {
      "text/plain": [
       "431"
      ]
     },
     "execution_count": 270,
     "metadata": {},
     "output_type": "execute_result"
    }
   ],
   "source": [
    "cols[87]\n",
    "idx"
   ]
  },
  {
   "cell_type": "code",
   "execution_count": 225,
   "metadata": {
    "collapsed": false
   },
   "outputs": [
    {
     "name": "stdout",
     "output_type": "stream",
     "text": [
      "food20_98\n",
      "food23_98\n",
      "food24_98\n",
      "food25_98\n"
     ]
    }
   ],
   "source": [
    "for i_ in range(403,411,2):\n",
    "    print(cols[i_])"
   ]
  },
  {
   "cell_type": "code",
   "execution_count": 269,
   "metadata": {
    "collapsed": false
   },
   "outputs": [
    {
     "name": "stdout",
     "output_type": "stream",
     "text": [
      "g_bmi\n",
      "身體質量指數\n",
      "data type <class 'numpy.float64'>\n",
      "null percent 0.0003579667488664386\n",
      "count    25133.000000\n",
      "mean        25.311595\n",
      "std          4.031893\n",
      "min         12.802926\n",
      "25%               NaN\n",
      "50%               NaN\n",
      "75%               NaN\n",
      "max         50.760326\n",
      "Name: g_bmi, dtype: float64\n"
     ]
    },
    {
     "name": "stderr",
     "output_type": "stream",
     "text": [
      "/home/ny/anaconda3/lib/python3.5/site-packages/numpy/lib/function_base.py:4291: RuntimeWarning: Invalid value encountered in percentile\n",
      "  interpolation=interpolation)\n"
     ]
    },
    {
     "data": {
      "image/png": "[encoded data removed]",
      "text/plain": [
       "<matplotlib.figure.Figure at 0x7f6a3c54b208>"
      ]
     },
     "metadata": {},
     "output_type": "display_data"
    },
    {
     "name": "stdout",
     "output_type": "stream",
     "text": [
      "22.592533    8\n",
      "22.290512    7\n",
      "25.160698    7\n",
      "23.059315    7\n",
      "24.653254    7\n",
      "23.850155    7\n",
      "23.317591    7\n",
      "22.160666    6\n",
      "26.818117    6\n",
      "24.498270    6\n",
      "24.049681    6\n",
      "25.314175    6\n",
      "22.714979    6\n",
      "25.443186    6\n",
      "22.105629    6\n",
      "23.238926    6\n",
      "24.605921    6\n",
      "21.751322    6\n",
      "23.515625    6\n",
      "27.036736    6\n",
      "26.014496    6\n",
      "24.438887    6\n",
      "24.287401    6\n",
      "23.262991    6\n",
      "25.349253    6\n",
      "27.842058    6\n",
      "24.224766    6\n",
      "24.502239    6\n",
      "25.641026    6\n",
      "22.455156    6\n",
      "            ..\n",
      "27.920498    1\n",
      "22.240932    1\n",
      "29.581751    1\n",
      "16.170414    1\n",
      "30.948605    1\n",
      "29.972967    1\n",
      "19.436752    1\n",
      "31.527826    1\n",
      "34.129032    1\n",
      "25.637869    1\n",
      "22.224375    1\n",
      "28.102577    1\n",
      "27.343777    1\n",
      "26.989204    1\n",
      "24.246014    1\n",
      "31.509796    1\n",
      "33.001938    1\n",
      "27.447483    1\n",
      "30.330215    1\n",
      "28.680109    1\n",
      "27.636377    1\n",
      "20.421764    1\n",
      "29.515572    1\n",
      "28.535740    1\n",
      "26.792439    1\n",
      "31.017355    1\n",
      "30.634003    1\n",
      "24.303679    1\n",
      "24.889303    1\n",
      "26.709366    1\n",
      "Name: g_bmi, dtype: int64\n"
     ]
    }
   ],
   "source": [
    "idx = idx_usable[   115    ]\n",
    "#idx = 368\n",
    "ft = cols[idx]\n",
    "print( ft )\n",
    "print(  dict_[ft]  )\n",
    "print('data type', type(df[ft][0]) )  \n",
    "print('null percent', null_percentage[idx])\n",
    "print(df[ ft ].describe()  )\n",
    "df[cols[idx]].hist(bins=50, figsize=(11,8),color='red')\n",
    "plt.show()\n",
    "print(   df[ ft ].value_counts() )\n",
    "#print(sorted(df[ ft ]))\n",
    "\n",
    "#flat = df[ ft ]\n",
    "#bins = np.linspace(np.min(flat), np.max(flat), 50)\n",
    "#plt.hist(flat, bins=bins, color = 'blue')\n",
    "#plt.show()"
   ]
  },
  {
   "cell_type": "code",
   "execution_count": null,
   "metadata": {
    "collapsed": true
   },
   "outputs": [],
   "source": []
  },
  {
   "cell_type": "code",
   "execution_count": 23,
   "metadata": {
    "collapsed": false
   },
   "outputs": [],
   "source": [
    "df_categ = df[ft]\n",
    "#df_categ[df_categ.isnull()==True]= 2.\n",
    "df_one_hot = pd.get_dummies(df_categ)\n",
    "df_one_hot.columns = [ft+'_'+str(col) for col in df_one_hot.columns]"
   ]
  },
  {
   "cell_type": "code",
   "execution_count": 24,
   "metadata": {
    "collapsed": false
   },
   "outputs": [],
   "source": [
    "#df_num = pd.concat([df_num, df_new], axis=1)\n",
    "df_cat.append([idx, df_one_hot])"
   ]
  },
  {
   "cell_type": "code",
   "execution_count": 116,
   "metadata": {
    "collapsed": false
   },
   "outputs": [
    {
     "name": "stdout",
     "output_type": "stream",
     "text": [
      "1\n",
      "35\n"
     ]
    }
   ],
   "source": [
    "for obj in df_cat:\n",
    "    print(obj[0])"
   ]
  },
  {
   "cell_type": "code",
   "execution_count": 115,
   "metadata": {
    "collapsed": false
   },
   "outputs": [],
   "source": [
    "#df_cat.pop(2)"
   ]
  },
  {
   "cell_type": "code",
   "execution_count": null,
   "metadata": {
    "collapsed": true
   },
   "outputs": [],
   "source": [
    "dm_fg(QX) , dm_fg2(QY) , dm_g(QZ) , ushbalc2(VJ)"
   ]
  },
  {
   "cell_type": "code",
   "execution_count": 271,
   "metadata": {
    "collapsed": false
   },
   "outputs": [
    {
     "data": {
      "text/plain": [
       "0"
      ]
     },
     "execution_count": 271,
     "metadata": {},
     "output_type": "execute_result"
    }
   ],
   "source": [
    "for j_ in rnage()"
   ]
  },
  {
   "cell_type": "code",
   "execution_count": null,
   "metadata": {
    "collapsed": true
   },
   "outputs": [],
   "source": []
  },
  {
   "cell_type": "code",
   "execution_count": 194,
   "metadata": {
    "collapsed": true
   },
   "outputs": [],
   "source": [
    "### features TO DROP:\n",
    "drop_list.append([idx,ft])\n",
    "#df = df.drop(drop_list, axis = 1)"
   ]
  },
  {
   "cell_type": "code",
   "execution_count": 15,
   "metadata": {
    "collapsed": false
   },
   "outputs": [
    {
     "data": {
      "text/plain": [
       "[[3, 'diabetes'],\n",
       " [4, 'yr'],\n",
       " [5, 'mon'],\n",
       " [6, 'day'],\n",
       " [40, 'solvent'],\n",
       " [38, 'occupation'],\n",
       " [41, 'asbestos'],\n",
       " [44, 'radiation'],\n",
       " [47, 'ergonomic'],\n",
       " [83, 'mdrug05'],\n",
       " [106, 'psick10']]"
      ]
     },
     "execution_count": 15,
     "metadata": {},
     "output_type": "execute_result"
    }
   ],
   "source": [
    "drop_list"
   ]
  },
  {
   "cell_type": "code",
   "execution_count": null,
   "metadata": {
    "collapsed": true
   },
   "outputs": [],
   "source": []
  },
  {
   "cell_type": "code",
   "execution_count": 129,
   "metadata": {
    "collapsed": false
   },
   "outputs": [
    {
     "name": "stderr",
     "output_type": "stream",
     "text": [
      "/home/ny/anaconda3/lib/python3.5/site-packages/ipykernel/__main__.py:3: SettingWithCopyWarning: \n",
      "A value is trying to be set on a copy of a slice from a DataFrame\n",
      "\n",
      "See the caveats in the documentation: http://pandas.pydata.org/pandas-docs/stable/indexing.html#indexing-view-versus-copy\n",
      "  app.launch_new_instance()\n"
     ]
    }
   ],
   "source": [
    "### combine food features \n",
    "for i_ in range(356,370,2):\n",
    "    select_ = df[cols[i_]].isnull()\n",
    "    df[cols[i_]][select_]=df[cols[i_-1]][select_]"
   ]
  },
  {
   "cell_type": "code",
   "execution_count": 226,
   "metadata": {
    "collapsed": false
   },
   "outputs": [
    {
     "name": "stderr",
     "output_type": "stream",
     "text": [
      "/home/ny/anaconda3/lib/python3.5/site-packages/ipykernel/__main__.py:3: SettingWithCopyWarning: \n",
      "A value is trying to be set on a copy of a slice from a DataFrame\n",
      "\n",
      "See the caveats in the documentation: http://pandas.pydata.org/pandas-docs/stable/indexing.html#indexing-view-versus-copy\n",
      "  app.launch_new_instance()\n"
     ]
    }
   ],
   "source": [
    "for i_ in range(403,411,2):\n",
    "    select_ = df[cols[i_]].isnull()\n",
    "    df[cols[i_]][select_]=df[cols[i_-1]][select_]"
   ]
  },
  {
   "cell_type": "code",
   "execution_count": null,
   "metadata": {
    "collapsed": true
   },
   "outputs": [],
   "source": [
    "df_sport_time = df[cols[314]]\n",
    "\n",
    "df_sport_time[df[cols[310]]==1]=1.\n",
    "df_sport_time[df[cols[310]]==0]=0.\n",
    "df_sport_time[df[cols[311]]==1]=2.\n",
    "df_sport_time[df[cols[311]]==0]=0.\n",
    "df_sport_time[df[cols[312]]==1]=3.\n",
    "df_sport_time[df[cols[312]]==0]=0.\n",
    "df_sport_time[df[cols[313]]==1]=4.\n",
    "df_sport_time[df[cols[313]]==0]=0."
   ]
  },
  {
   "cell_type": "code",
   "execution_count": null,
   "metadata": {
    "collapsed": false
   },
   "outputs": [],
   "source": [
    "### processing sport features: feature 309~313\n",
    "df_sport = df[cols[309]]\n",
    "df_sport[df_sport==5] = 0\n",
    "\n",
    "df_sport[df[cols[310]]==1]=1.\n",
    "df_sport[df[cols[310]]==0]=0.\n",
    "df_sport[df[cols[311]]==1]=2.\n",
    "df_sport[df[cols[311]]==0]=0.\n",
    "df_sport[df[cols[312]]==1]=3.\n",
    "df_sport[df[cols[312]]==0]=0.\n",
    "df_sport[df[cols[313]]==1]=4.\n",
    "df_sport[df[cols[313]]==0]=0."
   ]
  },
  {
   "cell_type": "code",
   "execution_count": 350,
   "metadata": {
    "collapsed": false
   },
   "outputs": [
    {
     "name": "stdout",
     "output_type": "stream",
     "text": [
      "0.25783094601\n"
     ]
    },
    {
     "name": "stderr",
     "output_type": "stream",
     "text": [
      "/usr/local/lib/python2.7/dist-packages/ipykernel/__main__.py:9: SettingWithCopyWarning: \n",
      "A value is trying to be set on a copy of a slice from a DataFrame\n",
      "\n",
      "See the caveats in the documentation: http://pandas.pydata.org/pandas-docs/stable/indexing.html#indexing-view-versus-copy\n",
      "/usr/local/lib/python2.7/dist-packages/ipykernel/__main__.py:13: SettingWithCopyWarning: \n",
      "A value is trying to be set on a copy of a slice from a DataFrame\n",
      "\n",
      "See the caveats in the documentation: http://pandas.pydata.org/pandas-docs/stable/indexing.html#indexing-view-versus-copy\n",
      "/usr/local/lib/python2.7/dist-packages/ipykernel/__main__.py:17: SettingWithCopyWarning: \n",
      "A value is trying to be set on a copy of a slice from a DataFrame\n",
      "\n",
      "See the caveats in the documentation: http://pandas.pydata.org/pandas-docs/stable/indexing.html#indexing-view-versus-copy\n"
     ]
    }
   ],
   "source": [
    "### processing smokeornot features: feature 267~270\n",
    "\n",
    "df_smoke = df[cols[270]]\n",
    "df_smoke.name = 'smokeornot'\n",
    "#print(sum(df[cols[270]].isnull())/25412.)\n",
    "\n",
    "sellect_ = df['yr']==1996\n",
    "df_96 = df[cols[267]]\n",
    "df_smoke[sellect_] = df_96[sellect_]\n",
    "\n",
    "sellect_ = df['yr']==1997\n",
    "df_97 = df[cols[268]]\n",
    "df_smoke[sellect_] = df_97[sellect_]\n",
    "\n",
    "sellect_ = df['yr']==1998\n",
    "df_98 = df[cols[269]]\n",
    "df_smoke[sellect_] = df_98[sellect_]\n",
    "\n",
    "print(sum(df_smoke.isnull())/25412.)"
   ]
  },
  {
   "cell_type": "code",
   "execution_count": null,
   "metadata": {
    "collapsed": true
   },
   "outputs": [],
   "source": []
  },
  {
   "cell_type": "code",
   "execution_count": 128,
   "metadata": {
    "collapsed": false
   },
   "outputs": [
    {
     "data": {
      "text/plain": [
       "(25142, 16)"
      ]
     },
     "execution_count": 128,
     "metadata": {},
     "output_type": "execute_result"
    }
   ],
   "source": [
    "### Concate all dataframe in the list\n",
    "\n",
    "df_test = df_num[0][1]\n",
    "for idx in range(1,16):\n",
    "    df_test = pd.concat([df_test, df_num[idx][1]], axis=1)\n",
    "df_test.shape"
   ]
  },
  {
   "cell_type": "code",
   "execution_count": null,
   "metadata": {
    "collapsed": true
   },
   "outputs": [],
   "source": []
  },
  {
   "cell_type": "code",
   "execution_count": null,
   "metadata": {
    "collapsed": true
   },
   "outputs": [],
   "source": []
  },
  {
   "cell_type": "code",
   "execution_count": null,
   "metadata": {
    "collapsed": true
   },
   "outputs": [],
   "source": []
  },
  {
   "cell_type": "code",
   "execution_count": 150,
   "metadata": {
    "collapsed": false
   },
   "outputs": [],
   "source": [
    "### Categorical variables -- one hot encoding\n",
    "#df_one_hot = pd.get_dummies(df[ft])"
   ]
  },
  {
   "cell_type": "code",
   "execution_count": 140,
   "metadata": {
    "collapsed": false
   },
   "outputs": [],
   "source": [
    "#pd.concat([df_old, df_new], axis=1)"
   ]
  },
  {
   "cell_type": "code",
   "execution_count": 16,
   "metadata": {
    "collapsed": false
   },
   "outputs": [
    {
     "data": {
      "text/plain": [
       "Index([u'uid', u'gender', u'age', u'diabetes', u'yr', u'mon', u'day',\n",
       "       u'marriage_98', u'education', u'occupation', u'solvent', u'asbestos',\n",
       "       u'radiation', u'ergonomic', u'infect', u'mdrug01', u'mdrug02',\n",
       "       u'mdrug03', u'mdrug04', u'mdrug05', u'mdrug06', u'mdrug07', u'mdrug08',\n",
       "       u'mdrug10', u'mdrug11', u'mdrug12', u'mdrug13', u'mdrug14', u'mdrug15',\n",
       "       u'mdrug09', u'nopsick', u'psick01', u'psick02', u'psick03', u'psick04',\n",
       "       u'psick05', u'psick06', u'psick08', u'psick09', u'psick10', u'psick11',\n",
       "       u'psick12', u'psick13', u'psick14', u'psick15', u'psick16', u'psick17',\n",
       "       u'psick18', u'psick19', u'psick20'],\n",
       "      dtype='object')"
      ]
     },
     "execution_count": 16,
     "metadata": {},
     "output_type": "execute_result"
    }
   ],
   "source": [
    "df.columns[:50]"
   ]
  },
  {
   "cell_type": "code",
   "execution_count": null,
   "metadata": {
    "collapsed": false
   },
   "outputs": [],
   "source": []
  },
  {
   "cell_type": "code",
   "execution_count": 147,
   "metadata": {
    "collapsed": false
   },
   "outputs": [
    {
     "data": {
      "text/html": [
       "<div>\n",
       "<table border=\"1\" class=\"dataframe\">\n",
       "  <thead>\n",
       "    <tr style=\"text-align: right;\">\n",
       "      <th></th>\n",
       "      <th>uid</th>\n",
       "      <th>gender_1</th>\n",
       "      <th>gender_2</th>\n",
       "    </tr>\n",
       "  </thead>\n",
       "  <tbody>\n",
       "    <tr>\n",
       "      <th>0</th>\n",
       "      <td>mj0114219</td>\n",
       "      <td>0.0</td>\n",
       "      <td>1.0</td>\n",
       "    </tr>\n",
       "    <tr>\n",
       "      <th>1</th>\n",
       "      <td>mj0114219</td>\n",
       "      <td>0.0</td>\n",
       "      <td>1.0</td>\n",
       "    </tr>\n",
       "    <tr>\n",
       "      <th>2</th>\n",
       "      <td>mj0114219</td>\n",
       "      <td>0.0</td>\n",
       "      <td>1.0</td>\n",
       "    </tr>\n",
       "    <tr>\n",
       "      <th>3</th>\n",
       "      <td>mj0114219</td>\n",
       "      <td>0.0</td>\n",
       "      <td>1.0</td>\n",
       "    </tr>\n",
       "    <tr>\n",
       "      <th>4</th>\n",
       "      <td>mj0114219</td>\n",
       "      <td>0.0</td>\n",
       "      <td>1.0</td>\n",
       "    </tr>\n",
       "  </tbody>\n",
       "</table>\n",
       "</div>"
      ],
      "text/plain": [
       "         uid  gender_1  gender_2\n",
       "0  mj0114219       0.0       1.0\n",
       "1  mj0114219       0.0       1.0\n",
       "2  mj0114219       0.0       1.0\n",
       "3  mj0114219       0.0       1.0\n",
       "4  mj0114219       0.0       1.0"
      ]
     },
     "execution_count": 147,
     "metadata": {},
     "output_type": "execute_result"
    }
   ],
   "source": [
    "### Categorical variables  \n",
    "## 1. one hot encoding\n",
    "idx = 1\n",
    "ft = cols_select[idx]\n",
    "df_one_hot = pd.get_dummies(df[ft])\n",
    "df_one_hot.columns = [ft+'_'+str(col) for col in df_one_hot.columns]\n",
    "\n",
    "## 2. concate to generate new dataframe\n",
    "df_old = df['uid']\n",
    "df_new = df_one_hot\n",
    "df_old = pd.concat([df_old, df_new], axis=1)\n",
    "df_old.head()"
   ]
  },
  {
   "cell_type": "code",
   "execution_count": 23,
   "metadata": {
    "collapsed": false
   },
   "outputs": [
    {
     "data": {
      "text/plain": [
       "(6.0, 95.0)"
      ]
     },
     "execution_count": 23,
     "metadata": {},
     "output_type": "execute_result"
    }
   ],
   "source": [
    "dict_min_max[ft]"
   ]
  },
  {
   "cell_type": "code",
   "execution_count": null,
   "metadata": {
    "collapsed": true
   },
   "outputs": [],
   "source": []
  },
  {
   "cell_type": "code",
   "execution_count": null,
   "metadata": {
    "collapsed": true
   },
   "outputs": [],
   "source": []
  },
  {
   "cell_type": "code",
   "execution_count": 72,
   "metadata": {
    "collapsed": false
   },
   "outputs": [
    {
     "name": "stdout",
     "output_type": "stream",
     "text": [
      "gender\n",
      "性別\n",
      "('null percent', 1.0)\n",
      "count    25142.000000\n",
      "mean         1.480153\n",
      "std          0.499616\n",
      "min          1.000000\n",
      "25%          1.000000\n",
      "50%          1.000000\n",
      "75%          2.000000\n",
      "max          2.000000\n",
      "Name: gender, dtype: float64\n"
     ]
    },
    {
     "data": {
      "image/png": "[encoded data removed]",
      "text/plain": [
       "<matplotlib.figure.Figure at 0x7f0c1f538e50>"
      ]
     },
     "metadata": {},
     "output_type": "display_data"
    },
    {
     "name": "stdout",
     "output_type": "stream",
     "text": [
      "1    13070\n",
      "2    12072\n",
      "Name: gender, dtype: int64\n"
     ]
    }
   ],
   "source": [
    "idx = 1\n",
    "ft = cols[idx]\n",
    "print( ft )\n",
    "print(  dict_[ft]  )\n",
    "print('null percent', 1- null_percentage[idx])\n",
    "print(df[ ft ].describe()  )\n",
    "df[cols[idx]].hist(bins=50, figsize=(11,8),color='red')\n",
    "plt.show()\n",
    "print(   df[ ft ].value_counts() )\n",
    "#print(sorted(df[ ft ]))\n",
    "\n",
    "#flat = df[ ft ]\n",
    "#bins = np.linspace(np.min(flat), np.max(flat), 50)\n",
    "#plt.hist(flat, bins=bins, color = 'blue')\n",
    "#plt.show()"
   ]
  },
  {
   "cell_type": "code",
   "execution_count": null,
   "metadata": {
    "collapsed": true
   },
   "outputs": [],
   "source": []
  },
  {
   "cell_type": "code",
   "execution_count": 99,
   "metadata": {
    "collapsed": false
   },
   "outputs": [
    {
     "data": {
      "image/png": "[encoded data removed]",
      "text/plain": [
       "<matplotlib.figure.Figure at 0x11018208>"
      ]
     },
     "metadata": {},
     "output_type": "display_data"
    }
   ],
   "source": [
    "df[df.columns[:50]].hist(bins=50, figsize=(11,8),color='grey')\n",
    "plt.show()"
   ]
  },
  {
   "cell_type": "code",
   "execution_count": 57,
   "metadata": {
    "collapsed": false
   },
   "outputs": [
    {
     "name": "stdout",
     "output_type": "stream",
     "text": [
      "(3, 25142)\n",
      "(4, 23666)\n",
      "(5, 21862)\n",
      "(6, 19962)\n",
      "(7, 18054)\n",
      "(8, 16010)\n",
      "(9, 13786)\n",
      "(10, 11986)\n",
      "(11, 10296)\n",
      "(12, 8591)\n",
      "(13, 7199)\n",
      "(14, 6042)\n",
      "(15, 4656)\n",
      "(16, 3321)\n",
      "(17, 2329)\n",
      "(18, 1615)\n",
      "(19, 841)\n",
      "(20, 499)\n",
      "(21, 219)\n",
      "(22, 72)\n",
      "(23, 50)\n",
      "(24, 50)\n",
      "(25, 50)\n",
      "(26, 0)\n"
     ]
    }
   ],
   "source": [
    "cc = df[ ft ].value_counts()\n",
    "for crit in range(2,26):\n",
    "    print(crit+1, sum(cc[cc>crit]))"
   ]
  },
  {
   "cell_type": "code",
   "execution_count": 346,
   "metadata": {
    "collapsed": false
   },
   "outputs": [
    {
     "data": {
      "text/html": [
       "<div>\n",
       "<table border=\"1\" class=\"dataframe\">\n",
       "  <thead>\n",
       "    <tr style=\"text-align: right;\">\n",
       "      <th></th>\n",
       "      <th>a</th>\n",
       "      <th>b</th>\n",
       "    </tr>\n",
       "  </thead>\n",
       "  <tbody>\n",
       "    <tr>\n",
       "      <th>0</th>\n",
       "      <td>1</td>\n",
       "      <td>2</td>\n",
       "    </tr>\n",
       "    <tr>\n",
       "      <th>1</th>\n",
       "      <td>3</td>\n",
       "      <td>4</td>\n",
       "    </tr>\n",
       "  </tbody>\n",
       "</table>\n",
       "</div>"
      ],
      "text/plain": [
       "   a  b\n",
       "0  1  2\n",
       "1  3  4"
      ]
     },
     "execution_count": 346,
     "metadata": {},
     "output_type": "execute_result"
    }
   ],
   "source": [
    "### copy a dataframe without changing the original one\n",
    "\n",
    "aaa = pd.DataFrame([[1,2],[3,4]])\n",
    "aaa.columns = ['a','b']\n",
    "bbb = aaa\n",
    "ccc = bbb\n",
    "ddd = ccc.copy(deep=True)\n",
    "ccc['b']=1000\n",
    "#aaa\n",
    "ddd"
   ]
  },
  {
   "cell_type": "code",
   "execution_count": null,
   "metadata": {
    "collapsed": true
   },
   "outputs": [],
   "source": []
  },
  {
   "cell_type": "code",
   "execution_count": 347,
   "metadata": {
    "collapsed": false
   },
   "outputs": [],
   "source": [
    "#df[[\"yr\",'gender']]"
   ]
  },
  {
   "cell_type": "code",
   "execution_count": 21,
   "metadata": {
    "collapsed": false
   },
   "outputs": [
    {
     "data": {
      "text/html": [
       "<div>\n",
       "<table border=\"1\" class=\"dataframe\">\n",
       "  <thead>\n",
       "    <tr style=\"text-align: right;\">\n",
       "      <th></th>\n",
       "      <th>uid</th>\n",
       "      <th>gender</th>\n",
       "      <th>age</th>\n",
       "      <th>diabetes</th>\n",
       "      <th>yr</th>\n",
       "      <th>mon</th>\n",
       "      <th>day</th>\n",
       "      <th>bloodtype</th>\n",
       "      <th>whichhand</th>\n",
       "      <th>twins</th>\n",
       "      <th>...</th>\n",
       "      <th>igaantiea</th>\n",
       "      <th>igaantivca</th>\n",
       "      <th>ct_calcium</th>\n",
       "      <th>ntprobnp</th>\n",
       "      <th>caronormal</th>\n",
       "      <th>sevanum</th>\n",
       "      <th>sevaact</th>\n",
       "      <th>sevago</th>\n",
       "      <th>sevanom</th>\n",
       "      <th>testost</th>\n",
       "    </tr>\n",
       "  </thead>\n",
       "  <tbody>\n",
       "    <tr>\n",
       "      <th>0</th>\n",
       "      <td>mj0114219</td>\n",
       "      <td>2</td>\n",
       "      <td>48</td>\n",
       "      <td>0</td>\n",
       "      <td>2005</td>\n",
       "      <td>3</td>\n",
       "      <td>12</td>\n",
       "      <td>1.0</td>\n",
       "      <td>NaN</td>\n",
       "      <td>NaN</td>\n",
       "      <td>...</td>\n",
       "      <td>NaN</td>\n",
       "      <td>NaN</td>\n",
       "      <td>NaN</td>\n",
       "      <td>NaN</td>\n",
       "      <td>NaN</td>\n",
       "      <td>NaN</td>\n",
       "      <td>NaN</td>\n",
       "      <td>NaN</td>\n",
       "      <td>NaN</td>\n",
       "      <td>NaN</td>\n",
       "    </tr>\n",
       "    <tr>\n",
       "      <th>1</th>\n",
       "      <td>mj0114219</td>\n",
       "      <td>2</td>\n",
       "      <td>49</td>\n",
       "      <td>0</td>\n",
       "      <td>2006</td>\n",
       "      <td>10</td>\n",
       "      <td>21</td>\n",
       "      <td>1.0</td>\n",
       "      <td>NaN</td>\n",
       "      <td>NaN</td>\n",
       "      <td>...</td>\n",
       "      <td>NaN</td>\n",
       "      <td>NaN</td>\n",
       "      <td>NaN</td>\n",
       "      <td>NaN</td>\n",
       "      <td>NaN</td>\n",
       "      <td>NaN</td>\n",
       "      <td>NaN</td>\n",
       "      <td>NaN</td>\n",
       "      <td>NaN</td>\n",
       "      <td>NaN</td>\n",
       "    </tr>\n",
       "    <tr>\n",
       "      <th>2</th>\n",
       "      <td>mj0114219</td>\n",
       "      <td>2</td>\n",
       "      <td>51</td>\n",
       "      <td>0</td>\n",
       "      <td>2008</td>\n",
       "      <td>6</td>\n",
       "      <td>20</td>\n",
       "      <td>1.0</td>\n",
       "      <td>2.0</td>\n",
       "      <td>NaN</td>\n",
       "      <td>...</td>\n",
       "      <td>NaN</td>\n",
       "      <td>NaN</td>\n",
       "      <td>NaN</td>\n",
       "      <td>NaN</td>\n",
       "      <td>NaN</td>\n",
       "      <td>NaN</td>\n",
       "      <td>NaN</td>\n",
       "      <td>NaN</td>\n",
       "      <td>NaN</td>\n",
       "      <td>NaN</td>\n",
       "    </tr>\n",
       "    <tr>\n",
       "      <th>3</th>\n",
       "      <td>mj0114219</td>\n",
       "      <td>2</td>\n",
       "      <td>53</td>\n",
       "      <td>0</td>\n",
       "      <td>2010</td>\n",
       "      <td>8</td>\n",
       "      <td>26</td>\n",
       "      <td>1.0</td>\n",
       "      <td>2.0</td>\n",
       "      <td>NaN</td>\n",
       "      <td>...</td>\n",
       "      <td>NaN</td>\n",
       "      <td>NaN</td>\n",
       "      <td>NaN</td>\n",
       "      <td>NaN</td>\n",
       "      <td>NaN</td>\n",
       "      <td>NaN</td>\n",
       "      <td>NaN</td>\n",
       "      <td>NaN</td>\n",
       "      <td>NaN</td>\n",
       "      <td>NaN</td>\n",
       "    </tr>\n",
       "    <tr>\n",
       "      <th>4</th>\n",
       "      <td>mj0114219</td>\n",
       "      <td>2</td>\n",
       "      <td>54</td>\n",
       "      <td>0</td>\n",
       "      <td>2011</td>\n",
       "      <td>10</td>\n",
       "      <td>7</td>\n",
       "      <td>1.0</td>\n",
       "      <td>2.0</td>\n",
       "      <td>NaN</td>\n",
       "      <td>...</td>\n",
       "      <td>NaN</td>\n",
       "      <td>NaN</td>\n",
       "      <td>NaN</td>\n",
       "      <td>NaN</td>\n",
       "      <td>NaN</td>\n",
       "      <td>NaN</td>\n",
       "      <td>NaN</td>\n",
       "      <td>NaN</td>\n",
       "      <td>NaN</td>\n",
       "      <td>NaN</td>\n",
       "    </tr>\n",
       "  </tbody>\n",
       "</table>\n",
       "<p>5 rows × 648 columns</p>\n",
       "</div>"
      ],
      "text/plain": [
       "         uid  gender  age  diabetes    yr  mon  day  bloodtype  whichhand  \\\n",
       "0  mj0114219       2   48         0  2005    3   12        1.0        NaN   \n",
       "1  mj0114219       2   49         0  2006   10   21        1.0        NaN   \n",
       "2  mj0114219       2   51         0  2008    6   20        1.0        2.0   \n",
       "3  mj0114219       2   53         0  2010    8   26        1.0        2.0   \n",
       "4  mj0114219       2   54         0  2011   10    7        1.0        2.0   \n",
       "\n",
       "   twins   ...     igaantiea  igaantivca  ct_calcium  ntprobnp  caronormal  \\\n",
       "0    NaN   ...           NaN         NaN         NaN       NaN         NaN   \n",
       "1    NaN   ...           NaN         NaN         NaN       NaN         NaN   \n",
       "2    NaN   ...           NaN         NaN         NaN       NaN         NaN   \n",
       "3    NaN   ...           NaN         NaN         NaN       NaN         NaN   \n",
       "4    NaN   ...           NaN         NaN         NaN       NaN         NaN   \n",
       "\n",
       "   sevanum  sevaact  sevago  sevanom  testost  \n",
       "0      NaN      NaN     NaN      NaN      NaN  \n",
       "1      NaN      NaN     NaN      NaN      NaN  \n",
       "2      NaN      NaN     NaN      NaN      NaN  \n",
       "3      NaN      NaN     NaN      NaN      NaN  \n",
       "4      NaN      NaN     NaN      NaN      NaN  \n",
       "\n",
       "[5 rows x 648 columns]"
      ]
     },
     "execution_count": 21,
     "metadata": {},
     "output_type": "execute_result"
    }
   ],
   "source": [
    "df.head()"
   ]
  },
  {
   "cell_type": "code",
   "execution_count": null,
   "metadata": {
    "collapsed": true
   },
   "outputs": [],
   "source": []
  },
  {
   "cell_type": "code",
   "execution_count": 10,
   "metadata": {
    "collapsed": false
   },
   "outputs": [
    {
     "name": "stdout",
     "output_type": "stream",
     "text": [
      "['uid', 'gender', 'age', 'diabetes', 'yr', 'mon', 'day', 'bloodtype', 'whichhand', 'twins', 'earlobe', 'tongue', 'forehead', 'eyetype', 'dimple', 'thumb', 'forefinger', 'lfinger1', 'lfinger2', 'lfinger3', 'lfinger4', 'lfinger5', 'rfinger5', 'rfinger4', 'rfinger3', 'rfinger2', 'rfinger1', 'bornweight', 'father', 'gfather_f', 'gmother_f', 'mother', 'gfather_m', 'gmother_m', 'marriage_96', 'marriage_98', 'marriage_14', 'education', 'occupation', 'pollution', 'solvent', 'asbestos', 'coalash', 'paint', 'radiation', 'pesticide', 'others', 'ergonomic', 'nopolution', 'fincome']\n"
     ]
    }
   ],
   "source": [
    "print(cols[:50])"
   ]
  },
  {
   "cell_type": "code",
   "execution_count": 348,
   "metadata": {
    "collapsed": false
   },
   "outputs": [
    {
     "data": {
      "text/plain": [
       "[1, 3, 5, 6, 10]"
      ]
     },
     "execution_count": 348,
     "metadata": {},
     "output_type": "execute_result"
    }
   ],
   "source": [
    "## use pop to delete an element in a list\n",
    "aaa = [1,3,4,5,6,10]\n",
    "aaa.pop(2)\n",
    "aaa"
   ]
  },
  {
   "cell_type": "code",
   "execution_count": null,
   "metadata": {
    "collapsed": true
   },
   "outputs": [],
   "source": []
  },
  {
   "cell_type": "code",
   "execution_count": null,
   "metadata": {
    "collapsed": true
   },
   "outputs": [],
   "source": []
  },
  {
   "cell_type": "code",
   "execution_count": null,
   "metadata": {
    "collapsed": true
   },
   "outputs": [],
   "source": []
  },
  {
   "cell_type": "code",
   "execution_count": null,
   "metadata": {
    "collapsed": true
   },
   "outputs": [],
   "source": []
  },
  {
   "cell_type": "code",
   "execution_count": 349,
   "metadata": {
    "collapsed": false
   },
   "outputs": [
    {
     "data": {
      "text/html": [
       "<div>\n",
       "<table border=\"1\" class=\"dataframe\">\n",
       "  <thead>\n",
       "    <tr style=\"text-align: right;\">\n",
       "      <th></th>\n",
       "      <th>uid</th>\n",
       "      <th>gender</th>\n",
       "      <th>age</th>\n",
       "      <th>diabetes</th>\n",
       "      <th>yr</th>\n",
       "      <th>mon</th>\n",
       "      <th>day</th>\n",
       "      <th>bloodtype</th>\n",
       "      <th>whichhand</th>\n",
       "      <th>twins</th>\n",
       "      <th>...</th>\n",
       "      <th>igaantiea</th>\n",
       "      <th>igaantivca</th>\n",
       "      <th>ct_calcium</th>\n",
       "      <th>ntprobnp</th>\n",
       "      <th>caronormal</th>\n",
       "      <th>sevanum</th>\n",
       "      <th>sevaact</th>\n",
       "      <th>sevago</th>\n",
       "      <th>sevanom</th>\n",
       "      <th>testost</th>\n",
       "    </tr>\n",
       "  </thead>\n",
       "  <tbody>\n",
       "    <tr>\n",
       "      <th>0</th>\n",
       "      <td>mj0114219</td>\n",
       "      <td>2</td>\n",
       "      <td>48</td>\n",
       "      <td>0</td>\n",
       "      <td>2005</td>\n",
       "      <td>3</td>\n",
       "      <td>12</td>\n",
       "      <td>1.0</td>\n",
       "      <td>NaN</td>\n",
       "      <td>NaN</td>\n",
       "      <td>...</td>\n",
       "      <td>NaN</td>\n",
       "      <td>NaN</td>\n",
       "      <td>NaN</td>\n",
       "      <td>NaN</td>\n",
       "      <td>NaN</td>\n",
       "      <td>NaN</td>\n",
       "      <td>NaN</td>\n",
       "      <td>NaN</td>\n",
       "      <td>NaN</td>\n",
       "      <td>NaN</td>\n",
       "    </tr>\n",
       "    <tr>\n",
       "      <th>1</th>\n",
       "      <td>mj0114219</td>\n",
       "      <td>2</td>\n",
       "      <td>49</td>\n",
       "      <td>0</td>\n",
       "      <td>2006</td>\n",
       "      <td>10</td>\n",
       "      <td>21</td>\n",
       "      <td>1.0</td>\n",
       "      <td>NaN</td>\n",
       "      <td>NaN</td>\n",
       "      <td>...</td>\n",
       "      <td>NaN</td>\n",
       "      <td>NaN</td>\n",
       "      <td>NaN</td>\n",
       "      <td>NaN</td>\n",
       "      <td>NaN</td>\n",
       "      <td>NaN</td>\n",
       "      <td>NaN</td>\n",
       "      <td>NaN</td>\n",
       "      <td>NaN</td>\n",
       "      <td>NaN</td>\n",
       "    </tr>\n",
       "    <tr>\n",
       "      <th>2</th>\n",
       "      <td>mj0114219</td>\n",
       "      <td>2</td>\n",
       "      <td>51</td>\n",
       "      <td>0</td>\n",
       "      <td>2008</td>\n",
       "      <td>6</td>\n",
       "      <td>20</td>\n",
       "      <td>1.0</td>\n",
       "      <td>2.0</td>\n",
       "      <td>NaN</td>\n",
       "      <td>...</td>\n",
       "      <td>NaN</td>\n",
       "      <td>NaN</td>\n",
       "      <td>NaN</td>\n",
       "      <td>NaN</td>\n",
       "      <td>NaN</td>\n",
       "      <td>NaN</td>\n",
       "      <td>NaN</td>\n",
       "      <td>NaN</td>\n",
       "      <td>NaN</td>\n",
       "      <td>NaN</td>\n",
       "    </tr>\n",
       "    <tr>\n",
       "      <th>3</th>\n",
       "      <td>mj0114219</td>\n",
       "      <td>2</td>\n",
       "      <td>53</td>\n",
       "      <td>0</td>\n",
       "      <td>2010</td>\n",
       "      <td>8</td>\n",
       "      <td>26</td>\n",
       "      <td>1.0</td>\n",
       "      <td>2.0</td>\n",
       "      <td>NaN</td>\n",
       "      <td>...</td>\n",
       "      <td>NaN</td>\n",
       "      <td>NaN</td>\n",
       "      <td>NaN</td>\n",
       "      <td>NaN</td>\n",
       "      <td>NaN</td>\n",
       "      <td>NaN</td>\n",
       "      <td>NaN</td>\n",
       "      <td>NaN</td>\n",
       "      <td>NaN</td>\n",
       "      <td>NaN</td>\n",
       "    </tr>\n",
       "    <tr>\n",
       "      <th>4</th>\n",
       "      <td>mj0114219</td>\n",
       "      <td>2</td>\n",
       "      <td>54</td>\n",
       "      <td>0</td>\n",
       "      <td>2011</td>\n",
       "      <td>10</td>\n",
       "      <td>7</td>\n",
       "      <td>1.0</td>\n",
       "      <td>2.0</td>\n",
       "      <td>NaN</td>\n",
       "      <td>...</td>\n",
       "      <td>NaN</td>\n",
       "      <td>NaN</td>\n",
       "      <td>NaN</td>\n",
       "      <td>NaN</td>\n",
       "      <td>NaN</td>\n",
       "      <td>NaN</td>\n",
       "      <td>NaN</td>\n",
       "      <td>NaN</td>\n",
       "      <td>NaN</td>\n",
       "      <td>NaN</td>\n",
       "    </tr>\n",
       "    <tr>\n",
       "      <th>5</th>\n",
       "      <td>mj0114219</td>\n",
       "      <td>2</td>\n",
       "      <td>56</td>\n",
       "      <td>1</td>\n",
       "      <td>2013</td>\n",
       "      <td>7</td>\n",
       "      <td>24</td>\n",
       "      <td>1.0</td>\n",
       "      <td>2.0</td>\n",
       "      <td>NaN</td>\n",
       "      <td>...</td>\n",
       "      <td>NaN</td>\n",
       "      <td>2.0</td>\n",
       "      <td>NaN</td>\n",
       "      <td>-9995.0</td>\n",
       "      <td>-9995.0</td>\n",
       "      <td>NaN</td>\n",
       "      <td>NaN</td>\n",
       "      <td>NaN</td>\n",
       "      <td>NaN</td>\n",
       "      <td>NaN</td>\n",
       "    </tr>\n",
       "    <tr>\n",
       "      <th>6</th>\n",
       "      <td>mj0114219</td>\n",
       "      <td>2</td>\n",
       "      <td>57</td>\n",
       "      <td>1</td>\n",
       "      <td>2014</td>\n",
       "      <td>12</td>\n",
       "      <td>2</td>\n",
       "      <td>1.0</td>\n",
       "      <td>2.0</td>\n",
       "      <td>NaN</td>\n",
       "      <td>...</td>\n",
       "      <td>NaN</td>\n",
       "      <td>2.0</td>\n",
       "      <td>NaN</td>\n",
       "      <td>-9995.0</td>\n",
       "      <td>-9995.0</td>\n",
       "      <td>NaN</td>\n",
       "      <td>NaN</td>\n",
       "      <td>NaN</td>\n",
       "      <td>NaN</td>\n",
       "      <td>NaN</td>\n",
       "    </tr>\n",
       "    <tr>\n",
       "      <th>7</th>\n",
       "      <td>mj0114219</td>\n",
       "      <td>2</td>\n",
       "      <td>58</td>\n",
       "      <td>1</td>\n",
       "      <td>2015</td>\n",
       "      <td>12</td>\n",
       "      <td>11</td>\n",
       "      <td>NaN</td>\n",
       "      <td>NaN</td>\n",
       "      <td>NaN</td>\n",
       "      <td>...</td>\n",
       "      <td>NaN</td>\n",
       "      <td>2.0</td>\n",
       "      <td>NaN</td>\n",
       "      <td>-9995.0</td>\n",
       "      <td>-9995.0</td>\n",
       "      <td>NaN</td>\n",
       "      <td>NaN</td>\n",
       "      <td>NaN</td>\n",
       "      <td>NaN</td>\n",
       "      <td>NaN</td>\n",
       "    </tr>\n",
       "    <tr>\n",
       "      <th>8</th>\n",
       "      <td>mj0540286</td>\n",
       "      <td>1</td>\n",
       "      <td>42</td>\n",
       "      <td>0</td>\n",
       "      <td>1996</td>\n",
       "      <td>7</td>\n",
       "      <td>23</td>\n",
       "      <td>NaN</td>\n",
       "      <td>NaN</td>\n",
       "      <td>NaN</td>\n",
       "      <td>...</td>\n",
       "      <td>NaN</td>\n",
       "      <td>NaN</td>\n",
       "      <td>NaN</td>\n",
       "      <td>NaN</td>\n",
       "      <td>NaN</td>\n",
       "      <td>NaN</td>\n",
       "      <td>NaN</td>\n",
       "      <td>NaN</td>\n",
       "      <td>NaN</td>\n",
       "      <td>NaN</td>\n",
       "    </tr>\n",
       "    <tr>\n",
       "      <th>9</th>\n",
       "      <td>mj0540286</td>\n",
       "      <td>1</td>\n",
       "      <td>43</td>\n",
       "      <td>0</td>\n",
       "      <td>1997</td>\n",
       "      <td>10</td>\n",
       "      <td>2</td>\n",
       "      <td>NaN</td>\n",
       "      <td>NaN</td>\n",
       "      <td>NaN</td>\n",
       "      <td>...</td>\n",
       "      <td>NaN</td>\n",
       "      <td>NaN</td>\n",
       "      <td>NaN</td>\n",
       "      <td>NaN</td>\n",
       "      <td>NaN</td>\n",
       "      <td>NaN</td>\n",
       "      <td>NaN</td>\n",
       "      <td>NaN</td>\n",
       "      <td>NaN</td>\n",
       "      <td>NaN</td>\n",
       "    </tr>\n",
       "  </tbody>\n",
       "</table>\n",
       "<p>10 rows × 648 columns</p>\n",
       "</div>"
      ],
      "text/plain": [
       "         uid  gender  age  diabetes    yr  mon  day  bloodtype  whichhand  \\\n",
       "0  mj0114219       2   48         0  2005    3   12        1.0        NaN   \n",
       "1  mj0114219       2   49         0  2006   10   21        1.0        NaN   \n",
       "2  mj0114219       2   51         0  2008    6   20        1.0        2.0   \n",
       "3  mj0114219       2   53         0  2010    8   26        1.0        2.0   \n",
       "4  mj0114219       2   54         0  2011   10    7        1.0        2.0   \n",
       "5  mj0114219       2   56         1  2013    7   24        1.0        2.0   \n",
       "6  mj0114219       2   57         1  2014   12    2        1.0        2.0   \n",
       "7  mj0114219       2   58         1  2015   12   11        NaN        NaN   \n",
       "8  mj0540286       1   42         0  1996    7   23        NaN        NaN   \n",
       "9  mj0540286       1   43         0  1997   10    2        NaN        NaN   \n",
       "\n",
       "   twins   ...     igaantiea  igaantivca  ct_calcium  ntprobnp  caronormal  \\\n",
       "0    NaN   ...           NaN         NaN         NaN       NaN         NaN   \n",
       "1    NaN   ...           NaN         NaN         NaN       NaN         NaN   \n",
       "2    NaN   ...           NaN         NaN         NaN       NaN         NaN   \n",
       "3    NaN   ...           NaN         NaN         NaN       NaN         NaN   \n",
       "4    NaN   ...           NaN         NaN         NaN       NaN         NaN   \n",
       "5    NaN   ...           NaN         2.0         NaN   -9995.0     -9995.0   \n",
       "6    NaN   ...           NaN         2.0         NaN   -9995.0     -9995.0   \n",
       "7    NaN   ...           NaN         2.0         NaN   -9995.0     -9995.0   \n",
       "8    NaN   ...           NaN         NaN         NaN       NaN         NaN   \n",
       "9    NaN   ...           NaN         NaN         NaN       NaN         NaN   \n",
       "\n",
       "   sevanum  sevaact  sevago  sevanom  testost  \n",
       "0      NaN      NaN     NaN      NaN      NaN  \n",
       "1      NaN      NaN     NaN      NaN      NaN  \n",
       "2      NaN      NaN     NaN      NaN      NaN  \n",
       "3      NaN      NaN     NaN      NaN      NaN  \n",
       "4      NaN      NaN     NaN      NaN      NaN  \n",
       "5      NaN      NaN     NaN      NaN      NaN  \n",
       "6      NaN      NaN     NaN      NaN      NaN  \n",
       "7      NaN      NaN     NaN      NaN      NaN  \n",
       "8      NaN      NaN     NaN      NaN      NaN  \n",
       "9      NaN      NaN     NaN      NaN      NaN  \n",
       "\n",
       "[10 rows x 648 columns]"
      ]
     },
     "execution_count": 349,
     "metadata": {},
     "output_type": "execute_result"
    }
   ],
   "source": [
    "df_diab[:10]"
   ]
  },
  {
   "cell_type": "code",
   "execution_count": null,
   "metadata": {
    "collapsed": true
   },
   "outputs": [],
   "source": []
  },
  {
   "cell_type": "code",
   "execution_count": 56,
   "metadata": {
    "collapsed": false
   },
   "outputs": [
    {
     "data": {
      "text/html": [
       "<div>\n",
       "<table border=\"1\" class=\"dataframe\">\n",
       "  <thead>\n",
       "    <tr style=\"text-align: right;\">\n",
       "      <th></th>\n",
       "      <th>uid</th>\n",
       "      <th>gender</th>\n",
       "      <th>age</th>\n",
       "      <th>diabetes</th>\n",
       "      <th>yr</th>\n",
       "      <th>mon</th>\n",
       "      <th>day</th>\n",
       "      <th>bloodtype</th>\n",
       "      <th>whichhand</th>\n",
       "      <th>twins</th>\n",
       "      <th>...</th>\n",
       "      <th>igaantiea</th>\n",
       "      <th>igaantivca</th>\n",
       "      <th>ct_calcium</th>\n",
       "      <th>ntprobnp</th>\n",
       "      <th>caronormal</th>\n",
       "      <th>sevanum</th>\n",
       "      <th>sevaact</th>\n",
       "      <th>sevago</th>\n",
       "      <th>sevanom</th>\n",
       "      <th>testost</th>\n",
       "    </tr>\n",
       "  </thead>\n",
       "  <tbody>\n",
       "    <tr>\n",
       "      <th>24609</th>\n",
       "      <td>mj0060066</td>\n",
       "      <td>1</td>\n",
       "      <td>50</td>\n",
       "      <td>0</td>\n",
       "      <td>2002</td>\n",
       "      <td>7</td>\n",
       "      <td>23</td>\n",
       "      <td>NaN</td>\n",
       "      <td>NaN</td>\n",
       "      <td>NaN</td>\n",
       "      <td>...</td>\n",
       "      <td>NaN</td>\n",
       "      <td>NaN</td>\n",
       "      <td>NaN</td>\n",
       "      <td>NaN</td>\n",
       "      <td>NaN</td>\n",
       "      <td>NaN</td>\n",
       "      <td>NaN</td>\n",
       "      <td>NaN</td>\n",
       "      <td>NaN</td>\n",
       "      <td>NaN</td>\n",
       "    </tr>\n",
       "    <tr>\n",
       "      <th>24610</th>\n",
       "      <td>mj0060066</td>\n",
       "      <td>1</td>\n",
       "      <td>51</td>\n",
       "      <td>0</td>\n",
       "      <td>2003</td>\n",
       "      <td>8</td>\n",
       "      <td>13</td>\n",
       "      <td>NaN</td>\n",
       "      <td>NaN</td>\n",
       "      <td>NaN</td>\n",
       "      <td>...</td>\n",
       "      <td>NaN</td>\n",
       "      <td>NaN</td>\n",
       "      <td>NaN</td>\n",
       "      <td>NaN</td>\n",
       "      <td>NaN</td>\n",
       "      <td>NaN</td>\n",
       "      <td>NaN</td>\n",
       "      <td>NaN</td>\n",
       "      <td>NaN</td>\n",
       "      <td>NaN</td>\n",
       "    </tr>\n",
       "    <tr>\n",
       "      <th>24611</th>\n",
       "      <td>mj0060066</td>\n",
       "      <td>1</td>\n",
       "      <td>52</td>\n",
       "      <td>1</td>\n",
       "      <td>2004</td>\n",
       "      <td>8</td>\n",
       "      <td>11</td>\n",
       "      <td>NaN</td>\n",
       "      <td>NaN</td>\n",
       "      <td>NaN</td>\n",
       "      <td>...</td>\n",
       "      <td>NaN</td>\n",
       "      <td>NaN</td>\n",
       "      <td>NaN</td>\n",
       "      <td>NaN</td>\n",
       "      <td>NaN</td>\n",
       "      <td>NaN</td>\n",
       "      <td>NaN</td>\n",
       "      <td>NaN</td>\n",
       "      <td>NaN</td>\n",
       "      <td>NaN</td>\n",
       "    </tr>\n",
       "    <tr>\n",
       "      <th>24612</th>\n",
       "      <td>mj0060066</td>\n",
       "      <td>1</td>\n",
       "      <td>53</td>\n",
       "      <td>0</td>\n",
       "      <td>2005</td>\n",
       "      <td>8</td>\n",
       "      <td>4</td>\n",
       "      <td>3.0</td>\n",
       "      <td>NaN</td>\n",
       "      <td>NaN</td>\n",
       "      <td>...</td>\n",
       "      <td>NaN</td>\n",
       "      <td>NaN</td>\n",
       "      <td>NaN</td>\n",
       "      <td>NaN</td>\n",
       "      <td>NaN</td>\n",
       "      <td>NaN</td>\n",
       "      <td>NaN</td>\n",
       "      <td>NaN</td>\n",
       "      <td>NaN</td>\n",
       "      <td>NaN</td>\n",
       "    </tr>\n",
       "    <tr>\n",
       "      <th>24613</th>\n",
       "      <td>mj0060066</td>\n",
       "      <td>1</td>\n",
       "      <td>54</td>\n",
       "      <td>0</td>\n",
       "      <td>2006</td>\n",
       "      <td>8</td>\n",
       "      <td>2</td>\n",
       "      <td>3.0</td>\n",
       "      <td>NaN</td>\n",
       "      <td>NaN</td>\n",
       "      <td>...</td>\n",
       "      <td>NaN</td>\n",
       "      <td>NaN</td>\n",
       "      <td>NaN</td>\n",
       "      <td>NaN</td>\n",
       "      <td>-9995.0</td>\n",
       "      <td>NaN</td>\n",
       "      <td>NaN</td>\n",
       "      <td>NaN</td>\n",
       "      <td>NaN</td>\n",
       "      <td>NaN</td>\n",
       "    </tr>\n",
       "    <tr>\n",
       "      <th>24614</th>\n",
       "      <td>mj0060066</td>\n",
       "      <td>1</td>\n",
       "      <td>55</td>\n",
       "      <td>0</td>\n",
       "      <td>2007</td>\n",
       "      <td>8</td>\n",
       "      <td>8</td>\n",
       "      <td>3.0</td>\n",
       "      <td>2.0</td>\n",
       "      <td>NaN</td>\n",
       "      <td>...</td>\n",
       "      <td>NaN</td>\n",
       "      <td>NaN</td>\n",
       "      <td>NaN</td>\n",
       "      <td>NaN</td>\n",
       "      <td>-9995.0</td>\n",
       "      <td>NaN</td>\n",
       "      <td>NaN</td>\n",
       "      <td>NaN</td>\n",
       "      <td>NaN</td>\n",
       "      <td>NaN</td>\n",
       "    </tr>\n",
       "    <tr>\n",
       "      <th>24615</th>\n",
       "      <td>mj0060066</td>\n",
       "      <td>1</td>\n",
       "      <td>56</td>\n",
       "      <td>0</td>\n",
       "      <td>2008</td>\n",
       "      <td>8</td>\n",
       "      <td>7</td>\n",
       "      <td>3.0</td>\n",
       "      <td>2.0</td>\n",
       "      <td>NaN</td>\n",
       "      <td>...</td>\n",
       "      <td>NaN</td>\n",
       "      <td>NaN</td>\n",
       "      <td>NaN</td>\n",
       "      <td>NaN</td>\n",
       "      <td>-9995.0</td>\n",
       "      <td>NaN</td>\n",
       "      <td>NaN</td>\n",
       "      <td>NaN</td>\n",
       "      <td>NaN</td>\n",
       "      <td>NaN</td>\n",
       "    </tr>\n",
       "    <tr>\n",
       "      <th>24616</th>\n",
       "      <td>mj0060066</td>\n",
       "      <td>1</td>\n",
       "      <td>57</td>\n",
       "      <td>0</td>\n",
       "      <td>2009</td>\n",
       "      <td>8</td>\n",
       "      <td>5</td>\n",
       "      <td>3.0</td>\n",
       "      <td>2.0</td>\n",
       "      <td>NaN</td>\n",
       "      <td>...</td>\n",
       "      <td>NaN</td>\n",
       "      <td>NaN</td>\n",
       "      <td>NaN</td>\n",
       "      <td>NaN</td>\n",
       "      <td>-9995.0</td>\n",
       "      <td>NaN</td>\n",
       "      <td>NaN</td>\n",
       "      <td>NaN</td>\n",
       "      <td>NaN</td>\n",
       "      <td>NaN</td>\n",
       "    </tr>\n",
       "    <tr>\n",
       "      <th>24617</th>\n",
       "      <td>mj0060066</td>\n",
       "      <td>1</td>\n",
       "      <td>58</td>\n",
       "      <td>0</td>\n",
       "      <td>2010</td>\n",
       "      <td>8</td>\n",
       "      <td>4</td>\n",
       "      <td>3.0</td>\n",
       "      <td>2.0</td>\n",
       "      <td>NaN</td>\n",
       "      <td>...</td>\n",
       "      <td>NaN</td>\n",
       "      <td>NaN</td>\n",
       "      <td>NaN</td>\n",
       "      <td>-9995.0</td>\n",
       "      <td>-9995.0</td>\n",
       "      <td>NaN</td>\n",
       "      <td>NaN</td>\n",
       "      <td>NaN</td>\n",
       "      <td>NaN</td>\n",
       "      <td>NaN</td>\n",
       "    </tr>\n",
       "    <tr>\n",
       "      <th>24618</th>\n",
       "      <td>mj0060066</td>\n",
       "      <td>1</td>\n",
       "      <td>59</td>\n",
       "      <td>0</td>\n",
       "      <td>2011</td>\n",
       "      <td>8</td>\n",
       "      <td>3</td>\n",
       "      <td>3.0</td>\n",
       "      <td>2.0</td>\n",
       "      <td>NaN</td>\n",
       "      <td>...</td>\n",
       "      <td>NaN</td>\n",
       "      <td>NaN</td>\n",
       "      <td>NaN</td>\n",
       "      <td>-9995.0</td>\n",
       "      <td>-9995.0</td>\n",
       "      <td>NaN</td>\n",
       "      <td>NaN</td>\n",
       "      <td>NaN</td>\n",
       "      <td>NaN</td>\n",
       "      <td>NaN</td>\n",
       "    </tr>\n",
       "    <tr>\n",
       "      <th>24619</th>\n",
       "      <td>mj0060066</td>\n",
       "      <td>1</td>\n",
       "      <td>60</td>\n",
       "      <td>0</td>\n",
       "      <td>2012</td>\n",
       "      <td>8</td>\n",
       "      <td>16</td>\n",
       "      <td>3.0</td>\n",
       "      <td>NaN</td>\n",
       "      <td>NaN</td>\n",
       "      <td>...</td>\n",
       "      <td>NaN</td>\n",
       "      <td>NaN</td>\n",
       "      <td>NaN</td>\n",
       "      <td>-9995.0</td>\n",
       "      <td>-9995.0</td>\n",
       "      <td>NaN</td>\n",
       "      <td>NaN</td>\n",
       "      <td>NaN</td>\n",
       "      <td>NaN</td>\n",
       "      <td>NaN</td>\n",
       "    </tr>\n",
       "    <tr>\n",
       "      <th>24620</th>\n",
       "      <td>mj0060066</td>\n",
       "      <td>1</td>\n",
       "      <td>61</td>\n",
       "      <td>0</td>\n",
       "      <td>2013</td>\n",
       "      <td>8</td>\n",
       "      <td>14</td>\n",
       "      <td>3.0</td>\n",
       "      <td>2.0</td>\n",
       "      <td>NaN</td>\n",
       "      <td>...</td>\n",
       "      <td>NaN</td>\n",
       "      <td>NaN</td>\n",
       "      <td>NaN</td>\n",
       "      <td>-9995.0</td>\n",
       "      <td>-9995.0</td>\n",
       "      <td>NaN</td>\n",
       "      <td>NaN</td>\n",
       "      <td>NaN</td>\n",
       "      <td>NaN</td>\n",
       "      <td>NaN</td>\n",
       "    </tr>\n",
       "    <tr>\n",
       "      <th>24621</th>\n",
       "      <td>mj0060066</td>\n",
       "      <td>1</td>\n",
       "      <td>62</td>\n",
       "      <td>0</td>\n",
       "      <td>2014</td>\n",
       "      <td>8</td>\n",
       "      <td>6</td>\n",
       "      <td>3.0</td>\n",
       "      <td>2.0</td>\n",
       "      <td>NaN</td>\n",
       "      <td>...</td>\n",
       "      <td>NaN</td>\n",
       "      <td>NaN</td>\n",
       "      <td>NaN</td>\n",
       "      <td>-9995.0</td>\n",
       "      <td>-9995.0</td>\n",
       "      <td>NaN</td>\n",
       "      <td>NaN</td>\n",
       "      <td>NaN</td>\n",
       "      <td>NaN</td>\n",
       "      <td>NaN</td>\n",
       "    </tr>\n",
       "    <tr>\n",
       "      <th>24622</th>\n",
       "      <td>mj0060066</td>\n",
       "      <td>1</td>\n",
       "      <td>63</td>\n",
       "      <td>0</td>\n",
       "      <td>2015</td>\n",
       "      <td>8</td>\n",
       "      <td>5</td>\n",
       "      <td>3.0</td>\n",
       "      <td>2.0</td>\n",
       "      <td>NaN</td>\n",
       "      <td>...</td>\n",
       "      <td>NaN</td>\n",
       "      <td>2.0</td>\n",
       "      <td>NaN</td>\n",
       "      <td>-9995.0</td>\n",
       "      <td>-9995.0</td>\n",
       "      <td>NaN</td>\n",
       "      <td>NaN</td>\n",
       "      <td>NaN</td>\n",
       "      <td>NaN</td>\n",
       "      <td>NaN</td>\n",
       "    </tr>\n",
       "  </tbody>\n",
       "</table>\n",
       "<p>14 rows × 648 columns</p>\n",
       "</div>"
      ],
      "text/plain": [
       "             uid  gender  age  diabetes    yr  mon  day  bloodtype  whichhand  \\\n",
       "24609  mj0060066       1   50         0  2002    7   23        NaN        NaN   \n",
       "24610  mj0060066       1   51         0  2003    8   13        NaN        NaN   \n",
       "24611  mj0060066       1   52         1  2004    8   11        NaN        NaN   \n",
       "24612  mj0060066       1   53         0  2005    8    4        3.0        NaN   \n",
       "24613  mj0060066       1   54         0  2006    8    2        3.0        NaN   \n",
       "24614  mj0060066       1   55         0  2007    8    8        3.0        2.0   \n",
       "24615  mj0060066       1   56         0  2008    8    7        3.0        2.0   \n",
       "24616  mj0060066       1   57         0  2009    8    5        3.0        2.0   \n",
       "24617  mj0060066       1   58         0  2010    8    4        3.0        2.0   \n",
       "24618  mj0060066       1   59         0  2011    8    3        3.0        2.0   \n",
       "24619  mj0060066       1   60         0  2012    8   16        3.0        NaN   \n",
       "24620  mj0060066       1   61         0  2013    8   14        3.0        2.0   \n",
       "24621  mj0060066       1   62         0  2014    8    6        3.0        2.0   \n",
       "24622  mj0060066       1   63         0  2015    8    5        3.0        2.0   \n",
       "\n",
       "       twins   ...     igaantiea  igaantivca  ct_calcium  ntprobnp  \\\n",
       "24609    NaN   ...           NaN         NaN         NaN       NaN   \n",
       "24610    NaN   ...           NaN         NaN         NaN       NaN   \n",
       "24611    NaN   ...           NaN         NaN         NaN       NaN   \n",
       "24612    NaN   ...           NaN         NaN         NaN       NaN   \n",
       "24613    NaN   ...           NaN         NaN         NaN       NaN   \n",
       "24614    NaN   ...           NaN         NaN         NaN       NaN   \n",
       "24615    NaN   ...           NaN         NaN         NaN       NaN   \n",
       "24616    NaN   ...           NaN         NaN         NaN       NaN   \n",
       "24617    NaN   ...           NaN         NaN         NaN   -9995.0   \n",
       "24618    NaN   ...           NaN         NaN         NaN   -9995.0   \n",
       "24619    NaN   ...           NaN         NaN         NaN   -9995.0   \n",
       "24620    NaN   ...           NaN         NaN         NaN   -9995.0   \n",
       "24621    NaN   ...           NaN         NaN         NaN   -9995.0   \n",
       "24622    NaN   ...           NaN         2.0         NaN   -9995.0   \n",
       "\n",
       "       caronormal  sevanum  sevaact  sevago  sevanom  testost  \n",
       "24609         NaN      NaN      NaN     NaN      NaN      NaN  \n",
       "24610         NaN      NaN      NaN     NaN      NaN      NaN  \n",
       "24611         NaN      NaN      NaN     NaN      NaN      NaN  \n",
       "24612         NaN      NaN      NaN     NaN      NaN      NaN  \n",
       "24613     -9995.0      NaN      NaN     NaN      NaN      NaN  \n",
       "24614     -9995.0      NaN      NaN     NaN      NaN      NaN  \n",
       "24615     -9995.0      NaN      NaN     NaN      NaN      NaN  \n",
       "24616     -9995.0      NaN      NaN     NaN      NaN      NaN  \n",
       "24617     -9995.0      NaN      NaN     NaN      NaN      NaN  \n",
       "24618     -9995.0      NaN      NaN     NaN      NaN      NaN  \n",
       "24619     -9995.0      NaN      NaN     NaN      NaN      NaN  \n",
       "24620     -9995.0      NaN      NaN     NaN      NaN      NaN  \n",
       "24621     -9995.0      NaN      NaN     NaN      NaN      NaN  \n",
       "24622     -9995.0      NaN      NaN     NaN      NaN      NaN  \n",
       "\n",
       "[14 rows x 648 columns]"
      ]
     },
     "execution_count": 56,
     "metadata": {},
     "output_type": "execute_result"
    }
   ],
   "source": [
    "df_diab[df_diab.uid=='mj0060066']"
   ]
  },
  {
   "cell_type": "code",
   "execution_count": 49,
   "metadata": {
    "collapsed": false
   },
   "outputs": [
    {
     "data": {
      "text/plain": [
       "1"
      ]
     },
     "execution_count": 49,
     "metadata": {},
     "output_type": "execute_result"
    }
   ],
   "source": [
    "sum(df_diab.diabetes[df_diab.uid=='mj0060066'])"
   ]
  },
  {
   "cell_type": "code",
   "execution_count": 31,
   "metadata": {
    "collapsed": false
   },
   "outputs": [
    {
     "data": {
      "text/plain": [
       "array([], dtype=float64)"
      ]
     },
     "execution_count": 31,
     "metadata": {},
     "output_type": "execute_result"
    }
   ],
   "source": [
    "np.repeat([], [4], axis=0)\n",
    "df0 = pd.DataFrame(np.array([1]*648).reshape(1,648) )\n",
    "df0.columns = df.columns"
   ]
  },
  {
   "cell_type": "code",
   "execution_count": 7,
   "metadata": {
    "collapsed": false
   },
   "outputs": [
    {
     "data": {
      "text/plain": [
       "0     True\n",
       "1    False\n",
       "dtype: bool"
      ]
     },
     "execution_count": 7,
     "metadata": {},
     "output_type": "execute_result"
    }
   ],
   "source": [
    "aa = (df['yr'] ==2003)&(df['diabetes'] ==0)"
   ]
  },
  {
   "cell_type": "code",
   "execution_count": null,
   "metadata": {
    "collapsed": true
   },
   "outputs": [],
   "source": []
  },
  {
   "cell_type": "code",
   "execution_count": null,
   "metadata": {
    "collapsed": true
   },
   "outputs": [],
   "source": []
  },
  {
   "cell_type": "code",
   "execution_count": 41,
   "metadata": {
    "collapsed": false
   },
   "outputs": [],
   "source": []
  },
  {
   "cell_type": "code",
   "execution_count": null,
   "metadata": {
    "collapsed": true
   },
   "outputs": [],
   "source": [
    "'''\n",
    "no_diabetes_id = []\n",
    "for id in uid_set:\n",
    "    t1 = time.time()\n",
    "    df_one_person = df[df.uid ==id]\n",
    "#    if (len(df_one_person.diabetes) == sum(df_one_person.diabetes) ) &  :\n",
    "    if sum(df_one_person.diabetes) == 0:\n",
    "        no_diabetes_id.append(id)\n",
    "    print(time.time() - t1)\n",
    "'''"
   ]
  },
  {
   "cell_type": "code",
   "execution_count": null,
   "metadata": {
    "collapsed": true
   },
   "outputs": [],
   "source": []
  },
  {
   "cell_type": "code",
   "execution_count": null,
   "metadata": {
    "collapsed": true
   },
   "outputs": [],
   "source": []
  },
  {
   "cell_type": "code",
   "execution_count": null,
   "metadata": {
    "collapsed": true
   },
   "outputs": [],
   "source": []
  },
  {
   "cell_type": "code",
   "execution_count": 57,
   "metadata": {
    "collapsed": false
   },
   "outputs": [
    {
     "name": "stderr",
     "output_type": "stream",
     "text": [
      "C:\\Anaconda2\\lib\\site-packages\\numpy\\lib\\function_base.py:3834: RuntimeWarning: Invalid value encountered in percentile\n",
      "  RuntimeWarning)\n"
     ]
    }
   ],
   "source": [
    "stat = df.describe()"
   ]
  },
  {
   "cell_type": "code",
   "execution_count": 85,
   "metadata": {
    "collapsed": false
   },
   "outputs": [
    {
     "data": {
      "text/plain": [
       "2    332951\n",
       "1    277432\n",
       "Name: gender, dtype: int64"
      ]
     },
     "execution_count": 85,
     "metadata": {},
     "output_type": "execute_result"
    }
   ],
   "source": [
    "df[u'gender'].value_counts()"
   ]
  },
  {
   "cell_type": "code",
   "execution_count": null,
   "metadata": {
    "collapsed": true
   },
   "outputs": [],
   "source": []
  },
  {
   "cell_type": "code",
   "execution_count": 29,
   "metadata": {
    "collapsed": false
   },
   "outputs": [],
   "source": [
    "array_ = np.array(df)"
   ]
  },
  {
   "cell_type": "code",
   "execution_count": 58,
   "metadata": {
    "collapsed": false
   },
   "outputs": [],
   "source": [
    "ccc = df[(df.yr ==2003)&(df.diabetes ==0)]"
   ]
  },
  {
   "cell_type": "code",
   "execution_count": null,
   "metadata": {
    "collapsed": true
   },
   "outputs": [],
   "source": []
  },
  {
   "cell_type": "code",
   "execution_count": 20,
   "metadata": {
    "collapsed": false
   },
   "outputs": [
    {
     "data": {
      "text/plain": [
       "True"
      ]
     },
     "execution_count": 20,
     "metadata": {},
     "output_type": "execute_result"
    }
   ],
   "source": [
    "x=float('nan')\n",
    "math.isnan(x)"
   ]
  },
  {
   "cell_type": "code",
   "execution_count": 23,
   "metadata": {
    "collapsed": false
   },
   "outputs": [
    {
     "data": {
      "text/plain": [
       "inf"
      ]
     },
     "execution_count": 23,
     "metadata": {},
     "output_type": "execute_result"
    }
   ],
   "source": [
    "float('inf')"
   ]
  },
  {
   "cell_type": "code",
   "execution_count": 46,
   "metadata": {
    "collapsed": false
   },
   "outputs": [
    {
     "data": {
      "image/png": "[encoded data removed]",
      "text/plain": [
       "<matplotlib.figure.Figure at 0x34dc7cc50>"
      ]
     },
     "metadata": {},
     "output_type": "display_data"
    }
   ],
   "source": [
    "from matplotlib import cm\n",
    "array = np.array([[1,-1],[2,x]])\n",
    "#plt.imshow(array, cmap=cm.afmhot)\n",
    "plt.imshow(array)\n",
    "plt.colorbar()\n",
    "plt.show()"
   ]
  },
  {
   "cell_type": "code",
   "execution_count": null,
   "metadata": {
    "collapsed": true
   },
   "outputs": [],
   "source": []
  },
  {
   "cell_type": "code",
   "execution_count": 24,
   "metadata": {
    "collapsed": false
   },
   "outputs": [
    {
     "name": "stdout",
     "output_type": "stream",
     "text": [
      "[[0 1 2]\n",
      " [3 4 5]]\n"
     ]
    },
    {
     "data": {
      "text/plain": [
       "array([[ 0,  1,  2],\n",
       "       [44, 55, 44]])"
      ]
     },
     "execution_count": 24,
     "metadata": {},
     "output_type": "execute_result"
    }
   ],
   "source": [
    "arr = np.arange(6).reshape(2, 3)\n",
    "print(arr)\n",
    "np.place(arr, arr>2, [44, 55])\n",
    "arr"
   ]
  },
  {
   "cell_type": "code",
   "execution_count": null,
   "metadata": {
    "collapsed": true
   },
   "outputs": [],
   "source": [
    "np.place(arr, arr==x, [44, 55])"
   ]
  },
  {
   "cell_type": "code",
   "execution_count": 27,
   "metadata": {
    "collapsed": false
   },
   "outputs": [
    {
     "data": {
      "text/plain": [
       "nan"
      ]
     },
     "execution_count": 27,
     "metadata": {},
     "output_type": "execute_result"
    }
   ],
   "source": [
    "np.min(np.array([1,x,7]))"
   ]
  },
  {
   "cell_type": "code",
   "execution_count": 47,
   "metadata": {
    "collapsed": true
   },
   "outputs": [],
   "source": [
    "df = df.drop([u'ur_ot'], axis = 1)"
   ]
  },
  {
   "cell_type": "code",
   "execution_count": 49,
   "metadata": {
    "collapsed": false
   },
   "outputs": [],
   "source": [
    "df[df>3000]=x"
   ]
  },
  {
   "cell_type": "code",
   "execution_count": 50,
   "metadata": {
    "collapsed": true
   },
   "outputs": [],
   "source": [
    "df[df<-3000]=x"
   ]
  },
  {
   "cell_type": "code",
   "execution_count": null,
   "metadata": {
    "collapsed": true
   },
   "outputs": [],
   "source": []
  },
  {
   "cell_type": "code",
   "execution_count": null,
   "metadata": {
    "collapsed": true
   },
   "outputs": [],
   "source": []
  },
  {
   "cell_type": "code",
   "execution_count": null,
   "metadata": {
    "collapsed": true
   },
   "outputs": [],
   "source": []
  },
  {
   "cell_type": "code",
   "execution_count": null,
   "metadata": {
    "collapsed": true
   },
   "outputs": [],
   "source": []
  },
  {
   "cell_type": "code",
   "execution_count": null,
   "metadata": {
    "collapsed": true
   },
   "outputs": [],
   "source": []
  },
  {
   "cell_type": "code",
   "execution_count": null,
   "metadata": {
    "collapsed": true
   },
   "outputs": [],
   "source": []
  },
  {
   "cell_type": "code",
   "execution_count": 31,
   "metadata": {
    "collapsed": false
   },
   "outputs": [
    {
     "data": {
      "text/plain": [
       "array(['mj0965860', 2L, 109L, 1L, 2016L, 12L, 31L, 3.0, 2.0, nan, 2.0, 1.0,\n",
       "       2.0, 1.0, 4.0, 2.0, 2.0, 2.0, 2.0, 2.0, 2.0, 2.0, 2.0, 2.0, 2.0,\n",
       "       2.0, 2.0, 9.0, 2.0, 2.0, 2.0, 2.0, 2.0, 2.0, nan, nan, 2.0, 6.0,\n",
       "       19.0, nan, 1L, 1L, nan, nan, 1L, nan, nan, 1.0, 1.0, 6.0, nan, 1.0,\n",
       "       2.0, 3.0, 2.0, 2.0, 2.0, 3.0, 3.0, 3.0, 3.0, 3.0, 3.0, 3.0, 1.0,\n",
       "       nan, nan, nan, nan, 2.0, nan, nan, 2.0, 0.0, 0.0, 1.0, 12.0, 31.0,\n",
       "       1.0, 1L, 1L, 1L, 1L, 1L, 1L, 1L, 1L, 1L, 1L, 1L, 1L, 1L, 0.0, 1L,\n",
       "       1.0, 0.0, 1.0, 1L, 1L, 1L, 1L, 1L, 1L, 0.0, 1L, 1L, 1L, 1L, 1L, 1L,\n",
       "       1L, 1L, 1L, 1L, 0.0, 1L, 1L, 1L, 1L, 1L, 1L, 0.0, 0.0, 0.0, 0.0,\n",
       "       0.0, nan, nan, 0.0, nan, 0.0, nan, 0.0, nan, nan, 0.0, nan, 0.0,\n",
       "       nan, 0.0, nan, 0.0, nan, nan, 0.0, nan, 0.0, nan, 0.0, nan, 0.0,\n",
       "       nan, 0.0, nan, nan, nan, nan, 0.0, nan, nan, 1.0, nan, 1.0, 1.0,\n",
       "       1.0, 1.0, 1.0, 1.0, 1.0, 1.0, 1.0, 1.0, 1.0, 1.0, 1.0, 1.0, 1.0,\n",
       "       0.0, 0.0, 0.0, 0.0, nan, nan, nan, 4.0, 4.0, 4.0, 4.0, 3.0, 1.0,\n",
       "       1.0, 1.0, 1.0, 3.0, 2.0, 2.0, 3.0, 2.0, 2.0, 1.0, 1.0, 3.0, nan,\n",
       "       0.0, nan, 0.0, nan, 1.0, 0.0, 0.0, 0.0, 0.0, nan, nan, nan, nan,\n",
       "       nan, nan, nan, nan, nan, nan, nan, nan, nan, nan, nan, nan, nan,\n",
       "       nan, nan, nan, nan, nan, nan, nan, nan, nan, nan, nan, nan, nan,\n",
       "       nan, nan, nan, nan, nan, nan, 0.0, 1.0, 3.0, 0.0, nan, 1.0, nan,\n",
       "       0.0, nan, 0.0, 1.0, 3.0, nan, nan, nan, nan, nan, nan, nan, nan,\n",
       "       nan, nan, 2.0, nan, nan, nan, nan, nan, nan, nan, nan, nan, 1.0,\n",
       "       nan, nan, nan, nan, nan, nan, nan, nan, nan, nan, 1.0, nan, nan,\n",
       "       nan, nan, 5.0, nan, 0.0, 0.0, 1.0, 0.0, 1.0, 1.0, 4.0, 0.0, 0.0,\n",
       "       0.0, 0.0, 5.0, nan, nan, nan, nan, nan, nan, nan, 5.0, 2.0, 3.0,\n",
       "       nan, nan, nan, nan, nan, nan, nan, nan, nan, nan, nan, nan, nan,\n",
       "       nan, nan, nan, nan, nan, nan, nan, nan, nan, nan, nan, nan, nan,\n",
       "       1.0, 0.0, nan, nan, 3.0, nan, 3.0, 4.0, nan, nan, 5.0, nan, 4.0,\n",
       "       nan, 3.0, nan, 2.0, nan, 4.0, nan, 4.0, nan, 2.0, nan, nan, 2.0,\n",
       "       nan, 2.0, nan, nan, 3.0, nan, nan, 2.0, nan, 2.0, nan, 2.0, nan,\n",
       "       nan, 3.0, nan, nan, nan, nan, nan, nan, nan, nan, nan, nan, nan,\n",
       "       nan, nan, nan, 2.0, nan, 3.0, nan, 3.0, nan, 2.0, nan, 3.0, 1.0,\n",
       "       1.0, 1.0, 0.0, 0.0, 0.0, 0.0, 0.0, 0.0, nan, 0.0, 0.0, 1.0, 0.0,\n",
       "       0.0, 0.0, 1.0, 0.0, 0.0, 191.0, 106.7, 41.138023, 39.299999, 93.0,\n",
       "       101.0, 0.94897962, nan, nan, nan, nan, nan, 198.0, nan, nan, nan,\n",
       "       123.0, 104.0, 20.0, 96.0, 103.0, 0.0, 19.799999, 6.920000099999999,\n",
       "       17.299999, 53.5, 102.0, 34.799999, 36.0, 23.0, 512.0, 87.199997,\n",
       "       55.299999, 16.889999, 15.3, 3.1099999, 407L, nan, nan, 2.52,\n",
       "       0.80000001, 8.3999996, 5.0999999, nan, 3.8, 215.0, 242.0, 409.0,\n",
       "       264.0, 164.0, 27.4, 1.75, 89.0, 12.0, 1215.0, 333.0, 103.0, 145.0,\n",
       "       4.2916665, nan, nan, nan, nan, nan, nan, nan, nan, nan, nan, nan,\n",
       "       nan, nan, 22.5, 2.7, nan, nan, 1.1, nan, nan, nan, nan, nan, nan,\n",
       "       nan, nan, 1.0, 1.0, 1.0, 1.0, 1.0, 1.0, 1.0, 1.0, 0.0, 1.02, 6.5,\n",
       "       nan, nan, nan, nan, nan, nan, nan, nan, nan,\n",
       "       '\\xe9\\xbb\\x8f\\xe6\\xb6\\xb2\\xe7\\xb5\\xb2\\xe7\\x8b\\x80\\xe9\\x99\\xb0\\xe9\\x81\\x93\\xe9\\x9e\\xad\\xe6\\xaf\\x9b\\xe6\\xbb\\xb4\\xe8\\x9f\\xb2',\n",
       "       0.0, 1.0, 0.0, 0.0, 0.0, 1.0, 0.0, 0.0, 0.0, 1.0, 0.0, nan, 1.0,\n",
       "       0.0, 0.0, 0.0, 0.0, 0.0, 1.0, nan, nan, nan, 30.0, 23.0, nan, 1.5,\n",
       "       nan, 1.2, nan, 2.0, nan, 1.0, 19.0, 20.0, nan, 1.0, 1.0, nan, nan,\n",
       "       nan, nan, nan, nan, nan, nan, nan, nan, nan, nan, nan, nan, nan,\n",
       "       9.0, nan, nan, nan, nan, nan, nan, nan, nan, nan, nan, nan, nan,\n",
       "       nan, nan, nan, 0.0, 0.0, -9995.0, -9995.0, nan, nan, nan, nan, nan,\n",
       "       nan, nan, 9.6999998, nan, nan, nan, nan, nan, nan, nan, nan, nan,\n",
       "       nan, nan, nan, nan, nan, nan, nan, nan, nan, nan, nan, nan, nan,\n",
       "       nan, nan, nan, nan, -9995.0, -9995.0, nan, nan, nan, nan, nan], dtype=object)"
      ]
     },
     "execution_count": 31,
     "metadata": {},
     "output_type": "execute_result"
    }
   ],
   "source": [
    "max_"
   ]
  },
  {
   "cell_type": "code",
   "execution_count": null,
   "metadata": {
    "collapsed": true
   },
   "outputs": [],
   "source": []
  },
  {
   "cell_type": "code",
   "execution_count": 30,
   "metadata": {
    "collapsed": false
   },
   "outputs": [],
   "source": [
    "max_ = np.max(array_,axis = 0)"
   ]
  },
  {
   "cell_type": "code",
   "execution_count": 9,
   "metadata": {
    "collapsed": false
   },
   "outputs": [],
   "source": [
    "max_ = max_.reshape(1,648)"
   ]
  },
  {
   "cell_type": "code",
   "execution_count": 10,
   "metadata": {
    "collapsed": true
   },
   "outputs": [],
   "source": [
    "min_ = np.min(array_,axis = 0).reshape(1,648)"
   ]
  },
  {
   "cell_type": "code",
   "execution_count": 14,
   "metadata": {
    "collapsed": false
   },
   "outputs": [],
   "source": [
    "name_set = set(df[u'uid'])"
   ]
  },
  {
   "cell_type": "code",
   "execution_count": 17,
   "metadata": {
    "collapsed": false
   },
   "outputs": [],
   "source": [
    "name_list = list(name_set)"
   ]
  },
  {
   "cell_type": "code",
   "execution_count": 30,
   "metadata": {
    "collapsed": false
   },
   "outputs": [
    {
     "name": "stdout",
     "output_type": "stream",
     "text": [
      "65.4190001488\n"
     ]
    }
   ],
   "source": [
    "num_ = 0\n",
    "t1 = time.time()\n",
    "for name in set(name_list[:100]):\n",
    "    num_ += np.sum(df[u'uid']==name)\n",
    "print(time.time() - t1)"
   ]
  },
  {
   "cell_type": "code",
   "execution_count": 31,
   "metadata": {
    "collapsed": false
   },
   "outputs": [
    {
     "data": {
      "text/plain": [
       "559"
      ]
     },
     "execution_count": 31,
     "metadata": {},
     "output_type": "execute_result"
    }
   ],
   "source": [
    "num_"
   ]
  },
  {
   "cell_type": "code",
   "execution_count": 38,
   "metadata": {
    "collapsed": false
   },
   "outputs": [],
   "source": [
    "min_1 = pd.DataFrame(min_).isnull()\n",
    "max_1 = pd.DataFrame(max_).isnull()"
   ]
  },
  {
   "cell_type": "code",
   "execution_count": 89,
   "metadata": {
    "collapsed": false
   },
   "outputs": [
    {
     "data": {
      "text/plain": [
       "209628"
      ]
     },
     "execution_count": 89,
     "metadata": {},
     "output_type": "execute_result"
    }
   ],
   "source": [
    "sum(min_1)"
   ]
  },
  {
   "cell_type": "code",
   "execution_count": 90,
   "metadata": {
    "collapsed": false
   },
   "outputs": [
    {
     "data": {
      "text/plain": [
       "209628"
      ]
     },
     "execution_count": 90,
     "metadata": {},
     "output_type": "execute_result"
    }
   ],
   "source": [
    "sum(max_1)"
   ]
  },
  {
   "cell_type": "code",
   "execution_count": 94,
   "metadata": {
    "collapsed": false
   },
   "outputs": [
    {
     "data": {
      "text/plain": [
       "'\\xe9\\xbb\\x8f\\xe6\\xb6\\xb2\\xe7\\xb5\\xb2\\xe7\\x8b\\x80\\xe9\\x99\\xb0\\xe9\\x81\\x93\\xe9\\x9e\\xad\\xe6\\xaf\\x9b\\xe6\\xbb\\xb4\\xe8\\x9f\\xb2'"
      ]
     },
     "execution_count": 94,
     "metadata": {},
     "output_type": "execute_result"
    }
   ],
   "source": [
    "np.max(df[u'ur_ot'])"
   ]
  },
  {
   "cell_type": "code",
   "execution_count": 43,
   "metadata": {
    "collapsed": false
   },
   "outputs": [
    {
     "ename": "NameError",
     "evalue": "name 'min_' is not defined",
     "output_type": "error",
     "traceback": [
      "\u001b[1;31m---------------------------------------------------------------------------\u001b[0m",
      "\u001b[1;31mNameError\u001b[0m                                 Traceback (most recent call last)",
      "\u001b[1;32m<ipython-input-43-bf36385a2191>\u001b[0m in \u001b[0;36m<module>\u001b[1;34m()\u001b[0m\n\u001b[1;32m----> 1\u001b[1;33m \u001b[0mmin_\u001b[0m\u001b[1;33m\u001b[0m\u001b[0m\n\u001b[0m",
      "\u001b[1;31mNameError\u001b[0m: name 'min_' is not defined"
     ]
    }
   ],
   "source": [
    "min_"
   ]
  },
  {
   "cell_type": "code",
   "execution_count": 98,
   "metadata": {
    "collapsed": false
   },
   "outputs": [
    {
     "data": {
      "text/html": [
       "<div>\n",
       "<table border=\"1\" class=\"dataframe\">\n",
       "  <thead>\n",
       "    <tr style=\"text-align: right;\">\n",
       "      <th></th>\n",
       "      <th>0</th>\n",
       "      <th>1</th>\n",
       "      <th>2</th>\n",
       "      <th>3</th>\n",
       "      <th>4</th>\n",
       "      <th>5</th>\n",
       "      <th>6</th>\n",
       "      <th>7</th>\n",
       "      <th>8</th>\n",
       "      <th>9</th>\n",
       "      <th>...</th>\n",
       "      <th>638</th>\n",
       "      <th>639</th>\n",
       "      <th>640</th>\n",
       "      <th>641</th>\n",
       "      <th>642</th>\n",
       "      <th>643</th>\n",
       "      <th>644</th>\n",
       "      <th>645</th>\n",
       "      <th>646</th>\n",
       "      <th>647</th>\n",
       "    </tr>\n",
       "  </thead>\n",
       "  <tbody>\n",
       "    <tr>\n",
       "      <th>0</th>\n",
       "      <td>False</td>\n",
       "      <td>False</td>\n",
       "      <td>False</td>\n",
       "      <td>False</td>\n",
       "      <td>False</td>\n",
       "      <td>False</td>\n",
       "      <td>False</td>\n",
       "      <td>False</td>\n",
       "      <td>False</td>\n",
       "      <td>True</td>\n",
       "      <td>...</td>\n",
       "      <td>True</td>\n",
       "      <td>True</td>\n",
       "      <td>True</td>\n",
       "      <td>False</td>\n",
       "      <td>False</td>\n",
       "      <td>True</td>\n",
       "      <td>True</td>\n",
       "      <td>True</td>\n",
       "      <td>True</td>\n",
       "      <td>True</td>\n",
       "    </tr>\n",
       "  </tbody>\n",
       "</table>\n",
       "<p>1 rows × 648 columns</p>\n",
       "</div>"
      ],
      "text/plain": [
       "     0      1      2      3      4      5      6      7      8     9    ...   \\\n",
       "0  False  False  False  False  False  False  False  False  False  True  ...    \n",
       "\n",
       "    638   639   640    641    642   643   644   645   646   647  \n",
       "0  True  True  True  False  False  True  True  True  True  True  \n",
       "\n",
       "[1 rows x 648 columns]"
      ]
     },
     "execution_count": 98,
     "metadata": {},
     "output_type": "execute_result"
    }
   ],
   "source": [
    "pd.DataFrame(min_).isnull()"
   ]
  },
  {
   "cell_type": "code",
   "execution_count": 102,
   "metadata": {
    "collapsed": false
   },
   "outputs": [
    {
     "data": {
      "text/plain": [
       "array([['mj0965860', 2L, 109L, 1L, 2016L, 12L, 31L, 3.0, 2.0, nan, 2.0,\n",
       "        1.0, 2.0, 1.0, 4.0, 2.0, 2.0, 2.0, 2.0, 2.0, 2.0, 2.0, 2.0, 2.0,\n",
       "        2.0, 2.0, 2.0, 9.0, 2.0, 2.0, 2.0, 2.0, 2.0, 2.0, nan, nan, 2.0,\n",
       "        6.0, 19.0, nan, 1L, 1L, nan, nan, 1L, nan, nan, 1.0, 1.0, 6.0, nan,\n",
       "        1.0, 2.0, 3.0, 2.0, 2.0, 2.0, 3.0, 3.0, 3.0, 3.0, 3.0, 3.0, 3.0,\n",
       "        1.0, nan, nan, nan, nan, 2.0, nan, nan, 2.0, 0.0, 0.0, 1.0, 12.0,\n",
       "        31.0, 1.0, 1L, 1L, 1L, 1L, 1L, 1L, 1L, 1L, 1L, 1L, 1L, 1L, 1L, 0.0,\n",
       "        1L, 1.0, 0.0, 1.0, 1L, 1L, 1L, 1L, 1L, 1L, 0.0, 1L, 1L, 1L, 1L, 1L,\n",
       "        1L, 1L, 1L, 1L, 1L, 0.0, 1L, 1L, 1L, 1L, 1L, 1L, 0.0, 0.0, 0.0,\n",
       "        0.0, 0.0, nan, nan, 0.0, nan, 0.0, nan, 0.0, nan, nan, 0.0, nan,\n",
       "        0.0, nan, 0.0, nan, 0.0, nan, nan, 0.0, nan, 0.0, nan, 0.0, nan,\n",
       "        0.0, nan, 0.0, nan, nan, nan, nan, 0.0, nan, nan, 1.0, nan, 1.0,\n",
       "        1.0, 1.0, 1.0, 1.0, 1.0, 1.0, 1.0, 1.0, 1.0, 1.0, 1.0, 1.0, 1.0,\n",
       "        1.0, 0.0, 0.0, 0.0, 0.0, nan, nan, nan, 4.0, 4.0, 4.0, 4.0, 3.0,\n",
       "        1.0, 1.0, 1.0, 1.0, 3.0, 2.0, 2.0, 3.0, 2.0, 2.0, 1.0, 1.0, 3.0,\n",
       "        nan, 0.0, nan, 0.0, nan, 1.0, 0.0, 0.0, 0.0, 0.0, nan, nan, nan,\n",
       "        nan, nan, nan, nan, nan, nan, nan, nan, nan, nan, nan, nan, nan,\n",
       "        nan, nan, nan, nan, nan, nan, nan, nan, nan, nan, nan, nan, nan,\n",
       "        nan, nan, nan, nan, nan, nan, nan, 0.0, 1.0, 3.0, 0.0, nan, 1.0,\n",
       "        nan, 0.0, nan, 0.0, 1.0, 3.0, nan, nan, nan, nan, nan, nan, nan,\n",
       "        nan, nan, nan, 2.0, nan, nan, nan, nan, nan, nan, nan, nan, nan,\n",
       "        1.0, nan, nan, nan, nan, nan, nan, nan, nan, nan, nan, 1.0, nan,\n",
       "        nan, nan, nan, 5.0, nan, 0.0, 0.0, 1.0, 0.0, 1.0, 1.0, 4.0, 0.0,\n",
       "        0.0, 0.0, 0.0, 5.0, nan, nan, nan, nan, nan, nan, nan, 5.0, 2.0,\n",
       "        3.0, nan, nan, nan, nan, nan, nan, nan, nan, nan, nan, nan, nan,\n",
       "        nan, nan, nan, nan, nan, nan, nan, nan, nan, nan, nan, nan, nan,\n",
       "        nan, 1.0, 0.0, nan, nan, 3.0, nan, 3.0, 4.0, nan, nan, 5.0, nan,\n",
       "        4.0, nan, 3.0, nan, 2.0, nan, 4.0, nan, 4.0, nan, 2.0, nan, nan,\n",
       "        2.0, nan, 2.0, nan, nan, 3.0, nan, nan, 2.0, nan, 2.0, nan, 2.0,\n",
       "        nan, nan, 3.0, nan, nan, nan, nan, nan, nan, nan, nan, nan, nan,\n",
       "        nan, nan, nan, nan, 2.0, nan, 3.0, nan, 3.0, nan, 2.0, nan, 3.0,\n",
       "        1.0, 1.0, 1.0, 0.0, 0.0, 0.0, 0.0, 0.0, 0.0, nan, 0.0, 0.0, 1.0,\n",
       "        0.0, 0.0, 0.0, 1.0, 0.0, 0.0, 191.0, 106.7, 41.138023, 39.299999,\n",
       "        93.0, 101.0, 0.94897962, nan, nan, nan, nan, nan, 198.0, nan, nan,\n",
       "        nan, 123.0, 104.0, 20.0, 96.0, 103.0, 0.0, 19.799999,\n",
       "        6.920000099999999, 17.299999, 53.5, 102.0, 34.799999, 36.0, 23.0,\n",
       "        512.0, 87.199997, 55.299999, 16.889999, 15.3, 3.1099999, 407L, nan,\n",
       "        nan, 2.52, 0.80000001, 8.3999996, 5.0999999, nan, 3.8, 215.0,\n",
       "        242.0, 409.0, 264.0, 164.0, 27.4, 1.75, 89.0, 12.0, 1215.0, 333.0,\n",
       "        103.0, 145.0, 4.2916665, nan, nan, nan, nan, nan, nan, nan, nan,\n",
       "        nan, nan, nan, nan, nan, 22.5, 2.7, nan, nan, 1.1, nan, nan, nan,\n",
       "        nan, nan, nan, nan, nan, 1.0, 1.0, 1.0, 1.0, 1.0, 1.0, 1.0, 1.0,\n",
       "        0.0, 1.02, 6.5, nan, nan, nan, nan, nan, nan, nan, nan, nan,\n",
       "        '\\xe9\\xbb\\x8f\\xe6\\xb6\\xb2\\xe7\\xb5\\xb2\\xe7\\x8b\\x80\\xe9\\x99\\xb0\\xe9\\x81\\x93\\xe9\\x9e\\xad\\xe6\\xaf\\x9b\\xe6\\xbb\\xb4\\xe8\\x9f\\xb2',\n",
       "        0.0, 1.0, 0.0, 0.0, 0.0, 1.0, 0.0, 0.0, 0.0, 1.0, 0.0, nan, 1.0,\n",
       "        0.0, 0.0, 0.0, 0.0, 0.0, 1.0, nan, nan, nan, 30.0, 23.0, nan, 1.5,\n",
       "        nan, 1.2, nan, 2.0, nan, 1.0, 19.0, 20.0, nan, 1.0, 1.0, nan, nan,\n",
       "        nan, nan, nan, nan, nan, nan, nan, nan, nan, nan, nan, nan, nan,\n",
       "        9.0, nan, nan, nan, nan, nan, nan, nan, nan, nan, nan, nan, nan,\n",
       "        nan, nan, nan, 0.0, 0.0, -9995.0, -9995.0, nan, nan, nan, nan, nan,\n",
       "        nan, nan, 9.6999998, nan, nan, nan, nan, nan, nan, nan, nan, nan,\n",
       "        nan, nan, nan, nan, nan, nan, nan, nan, nan, nan, nan, nan, nan,\n",
       "        nan, nan, nan, nan, -9995.0, -9995.0, nan, nan, nan, nan, nan]], dtype=object)"
      ]
     },
     "execution_count": 102,
     "metadata": {},
     "output_type": "execute_result"
    }
   ],
   "source": [
    "max_"
   ]
  },
  {
   "cell_type": "code",
   "execution_count": 106,
   "metadata": {
    "collapsed": false
   },
   "outputs": [],
   "source": [
    "ur_ot_ = df['ur_ot'].dropna()"
   ]
  },
  {
   "cell_type": "code",
   "execution_count": 130,
   "metadata": {
    "collapsed": false
   },
   "outputs": [
    {
     "data": {
      "text/plain": [
       "46             黏液絲狀\n",
       "47           細顆粒狀圓柱\n",
       "135            黏液絲狀\n",
       "261            黏液絲狀\n",
       "275         草酸鈣黏液絲狀\n",
       "296       尿液其它:黏液絲狀\n",
       "468            黏液絲狀\n",
       "475            黏液絲狀\n",
       "482            黏液絲狀\n",
       "504            黏液絲狀\n",
       "526            黏液絲狀\n",
       "527            黏液絲狀\n",
       "529            黏液絲狀\n",
       "549          無定形磷酸鹽\n",
       "568            黏液絲狀\n",
       "616        草酸鈣,黏液絲狀\n",
       "617            黏液絲狀\n",
       "659            黏液絲狀\n",
       "718             草酸鈣\n",
       "749          無定形尿酸鹽\n",
       "753            黏液絲狀\n",
       "773            黏液絲狀\n",
       "802          無定形磷酸鹽\n",
       "813            黏液絲狀\n",
       "815            黏液絲狀\n",
       "855            黏液絲狀\n",
       "861            黏液絲狀\n",
       "887            黏液絲狀\n",
       "923            黏液絲狀\n",
       "972         黏液絲狀酵母菌\n",
       "            ...    \n",
       "609876         黏液絲狀\n",
       "609878         黏液絲狀\n",
       "609882         黏液絲狀\n",
       "609936         黏液絲狀\n",
       "609937         黏液絲狀\n",
       "609941         黏液絲狀\n",
       "609946         黏液絲狀\n",
       "609949         黏液絲狀\n",
       "609953         黏液絲狀\n",
       "609954         黏液絲狀\n",
       "609972          草酸鈣\n",
       "610003         黏液絲狀\n",
       "610013         黏液絲狀\n",
       "610014         黏液絲狀\n",
       "610020          草酸鈣\n",
       "610021         黏液絲狀\n",
       "610033       無定形磷酸鹽\n",
       "610041         黏液絲狀\n",
       "610044         黏液絲狀\n",
       "610128         黏液絲狀\n",
       "610161         黏液絲狀\n",
       "610179         黏液絲狀\n",
       "610180         黏液絲狀\n",
       "610251         黏液絲狀\n",
       "610306          草酸鈣\n",
       "610313       細顆粒狀圓柱\n",
       "610328          草酸鈣\n",
       "610332       無定形尿酸鹽\n",
       "610342         黏液絲狀\n",
       "610377          酵母菌\n",
       "Name: ur_ot, dtype: object"
      ]
     },
     "execution_count": 130,
     "metadata": {},
     "output_type": "execute_result"
    }
   ],
   "source": [
    "ur_ot_[:]"
   ]
  },
  {
   "cell_type": "code",
   "execution_count": 112,
   "metadata": {
    "collapsed": false
   },
   "outputs": [
    {
     "data": {
      "text/plain": [
       "183"
      ]
     },
     "execution_count": 112,
     "metadata": {},
     "output_type": "execute_result"
    }
   ],
   "source": [
    "len(set(ur_ot_))"
   ]
  },
  {
   "cell_type": "code",
   "execution_count": 134,
   "metadata": {
    "collapsed": false
   },
   "outputs": [
    {
     "data": {
      "text/plain": [
       "(array([0, 0, 0, 0], dtype=int64), array([605, 606, 641, 642], dtype=int64))"
      ]
     },
     "execution_count": 134,
     "metadata": {},
     "output_type": "execute_result"
    }
   ],
   "source": [
    "np.where(max_<0)"
   ]
  },
  {
   "cell_type": "code",
   "execution_count": 147,
   "metadata": {
    "collapsed": true
   },
   "outputs": [],
   "source": [
    "pos_ = df[df.columns[[605, 606, 641, 642]]].dropna()!=-9995.0"
   ]
  },
  {
   "cell_type": "code",
   "execution_count": 152,
   "metadata": {
    "collapsed": true
   },
   "outputs": [],
   "source": [
    "drop_ = df[df.columns[[605, 606, 641, 642]]].dropna()"
   ]
  },
  {
   "cell_type": "code",
   "execution_count": 153,
   "metadata": {
    "collapsed": false
   },
   "outputs": [
    {
     "data": {
      "text/plain": [
       "(94696, 4)"
      ]
     },
     "execution_count": 153,
     "metadata": {},
     "output_type": "execute_result"
    }
   ],
   "source": [
    "drop_.shape"
   ]
  },
  {
   "cell_type": "code",
   "execution_count": 154,
   "metadata": {
    "collapsed": false
   },
   "outputs": [
    {
     "data": {
      "text/plain": [
       "(94696, 4)"
      ]
     },
     "execution_count": 154,
     "metadata": {},
     "output_type": "execute_result"
    }
   ],
   "source": [
    "pos_.shape"
   ]
  },
  {
   "cell_type": "code",
   "execution_count": 156,
   "metadata": {
    "collapsed": false
   },
   "outputs": [
    {
     "data": {
      "text/html": [
       "<div>\n",
       "<table border=\"1\" class=\"dataframe\">\n",
       "  <thead>\n",
       "    <tr style=\"text-align: right;\">\n",
       "      <th></th>\n",
       "      <th>tscore2</th>\n",
       "      <th>tscore3</th>\n",
       "      <th>ntprobnp</th>\n",
       "      <th>caronormal</th>\n",
       "    </tr>\n",
       "  </thead>\n",
       "  <tbody>\n",
       "    <tr>\n",
       "      <th>114212</th>\n",
       "      <td>1.0</td>\n",
       "      <td>0.6</td>\n",
       "      <td>42.0</td>\n",
       "      <td>1.0</td>\n",
       "    </tr>\n",
       "    <tr>\n",
       "      <th>530116</th>\n",
       "      <td>-2.0</td>\n",
       "      <td>-1.5</td>\n",
       "      <td>21.0</td>\n",
       "      <td>2.0</td>\n",
       "    </tr>\n",
       "  </tbody>\n",
       "</table>\n",
       "</div>"
      ],
      "text/plain": [
       "        tscore2  tscore3  ntprobnp  caronormal\n",
       "114212      1.0      0.6      42.0         1.0\n",
       "530116     -2.0     -1.5      21.0         2.0"
      ]
     },
     "execution_count": 156,
     "metadata": {},
     "output_type": "execute_result"
    }
   ],
   "source": [
    "drop_[pos_].dropna()"
   ]
  },
  {
   "cell_type": "code",
   "execution_count": 42,
   "metadata": {
    "collapsed": false
   },
   "outputs": [
    {
     "data": {
      "text/plain": [
       "RangeIndex(start=0, stop=610383, step=1)"
      ]
     },
     "execution_count": 42,
     "metadata": {},
     "output_type": "execute_result"
    }
   ],
   "source": [
    "df.index"
   ]
  },
  {
   "cell_type": "code",
   "execution_count": null,
   "metadata": {
    "collapsed": true
   },
   "outputs": [],
   "source": []
  },
  {
   "cell_type": "code",
   "execution_count": 157,
   "metadata": {
    "collapsed": false
   },
   "outputs": [
    {
     "name": "stderr",
     "output_type": "stream",
     "text": [
      "C:\\Anaconda2\\lib\\site-packages\\numpy\\lib\\function_base.py:3834: RuntimeWarning: Invalid value encountered in percentile\n",
      "  RuntimeWarning)\n"
     ]
    },
    {
     "data": {
      "text/html": [
       "<div>\n",
       "<table border=\"1\" class=\"dataframe\">\n",
       "  <thead>\n",
       "    <tr style=\"text-align: right;\">\n",
       "      <th></th>\n",
       "      <th>gender</th>\n",
       "      <th>age</th>\n",
       "      <th>diabetes</th>\n",
       "      <th>yr</th>\n",
       "      <th>mon</th>\n",
       "      <th>day</th>\n",
       "      <th>bloodtype</th>\n",
       "      <th>whichhand</th>\n",
       "      <th>twins</th>\n",
       "      <th>earlobe</th>\n",
       "      <th>...</th>\n",
       "      <th>solvent</th>\n",
       "      <th>asbestos</th>\n",
       "      <th>coalash</th>\n",
       "      <th>paint</th>\n",
       "      <th>radiation</th>\n",
       "      <th>pesticide</th>\n",
       "      <th>others</th>\n",
       "      <th>ergonomic</th>\n",
       "      <th>nopolution</th>\n",
       "      <th>fincome</th>\n",
       "    </tr>\n",
       "  </thead>\n",
       "  <tbody>\n",
       "    <tr>\n",
       "      <th>count</th>\n",
       "      <td>610383.000000</td>\n",
       "      <td>610383.000000</td>\n",
       "      <td>610383.000000</td>\n",
       "      <td>610383.000000</td>\n",
       "      <td>610383.000000</td>\n",
       "      <td>610383.000000</td>\n",
       "      <td>336422.000000</td>\n",
       "      <td>250796.000000</td>\n",
       "      <td>7076.0</td>\n",
       "      <td>31044.000000</td>\n",
       "      <td>...</td>\n",
       "      <td>610383.000000</td>\n",
       "      <td>610383.000000</td>\n",
       "      <td>69597.000000</td>\n",
       "      <td>69597.000000</td>\n",
       "      <td>610383.000000</td>\n",
       "      <td>69597.000000</td>\n",
       "      <td>69597.000000</td>\n",
       "      <td>540786.000000</td>\n",
       "      <td>475600.000000</td>\n",
       "      <td>334991.000000</td>\n",
       "    </tr>\n",
       "    <tr>\n",
       "      <th>mean</th>\n",
       "      <td>1.545479</td>\n",
       "      <td>41.328037</td>\n",
       "      <td>0.010664</td>\n",
       "      <td>2005.474291</td>\n",
       "      <td>6.982498</td>\n",
       "      <td>15.701750</td>\n",
       "      <td>2.332098</td>\n",
       "      <td>1.962822</td>\n",
       "      <td>1.0</td>\n",
       "      <td>1.428392</td>\n",
       "      <td>...</td>\n",
       "      <td>0.045766</td>\n",
       "      <td>0.032250</td>\n",
       "      <td>0.007874</td>\n",
       "      <td>0.015417</td>\n",
       "      <td>0.074920</td>\n",
       "      <td>0.012228</td>\n",
       "      <td>0.086009</td>\n",
       "      <td>0.083815</td>\n",
       "      <td>0.715456</td>\n",
       "      <td>3.665997</td>\n",
       "    </tr>\n",
       "    <tr>\n",
       "      <th>std</th>\n",
       "      <td>0.497928</td>\n",
       "      <td>12.368403</td>\n",
       "      <td>0.102714</td>\n",
       "      <td>5.254020</td>\n",
       "      <td>3.293332</td>\n",
       "      <td>8.731233</td>\n",
       "      <td>0.974846</td>\n",
       "      <td>0.189197</td>\n",
       "      <td>0.0</td>\n",
       "      <td>0.494854</td>\n",
       "      <td>...</td>\n",
       "      <td>0.208978</td>\n",
       "      <td>0.176664</td>\n",
       "      <td>0.088386</td>\n",
       "      <td>0.123207</td>\n",
       "      <td>0.263263</td>\n",
       "      <td>0.109901</td>\n",
       "      <td>0.280380</td>\n",
       "      <td>0.277110</td>\n",
       "      <td>0.451197</td>\n",
       "      <td>1.787560</td>\n",
       "    </tr>\n",
       "    <tr>\n",
       "      <th>min</th>\n",
       "      <td>1.000000</td>\n",
       "      <td>2.000000</td>\n",
       "      <td>0.000000</td>\n",
       "      <td>1996.000000</td>\n",
       "      <td>1.000000</td>\n",
       "      <td>1.000000</td>\n",
       "      <td>1.000000</td>\n",
       "      <td>1.000000</td>\n",
       "      <td>1.0</td>\n",
       "      <td>1.000000</td>\n",
       "      <td>...</td>\n",
       "      <td>0.000000</td>\n",
       "      <td>0.000000</td>\n",
       "      <td>0.000000</td>\n",
       "      <td>0.000000</td>\n",
       "      <td>0.000000</td>\n",
       "      <td>0.000000</td>\n",
       "      <td>0.000000</td>\n",
       "      <td>0.000000</td>\n",
       "      <td>0.000000</td>\n",
       "      <td>0.000000</td>\n",
       "    </tr>\n",
       "    <tr>\n",
       "      <th>25%</th>\n",
       "      <td>1.000000</td>\n",
       "      <td>33.000000</td>\n",
       "      <td>0.000000</td>\n",
       "      <td>2001.000000</td>\n",
       "      <td>4.000000</td>\n",
       "      <td>8.000000</td>\n",
       "      <td>NaN</td>\n",
       "      <td>NaN</td>\n",
       "      <td>NaN</td>\n",
       "      <td>NaN</td>\n",
       "      <td>...</td>\n",
       "      <td>0.000000</td>\n",
       "      <td>0.000000</td>\n",
       "      <td>NaN</td>\n",
       "      <td>NaN</td>\n",
       "      <td>0.000000</td>\n",
       "      <td>NaN</td>\n",
       "      <td>NaN</td>\n",
       "      <td>NaN</td>\n",
       "      <td>NaN</td>\n",
       "      <td>NaN</td>\n",
       "    </tr>\n",
       "    <tr>\n",
       "      <th>50%</th>\n",
       "      <td>2.000000</td>\n",
       "      <td>40.000000</td>\n",
       "      <td>0.000000</td>\n",
       "      <td>2006.000000</td>\n",
       "      <td>7.000000</td>\n",
       "      <td>16.000000</td>\n",
       "      <td>NaN</td>\n",
       "      <td>NaN</td>\n",
       "      <td>NaN</td>\n",
       "      <td>NaN</td>\n",
       "      <td>...</td>\n",
       "      <td>0.000000</td>\n",
       "      <td>0.000000</td>\n",
       "      <td>NaN</td>\n",
       "      <td>NaN</td>\n",
       "      <td>0.000000</td>\n",
       "      <td>NaN</td>\n",
       "      <td>NaN</td>\n",
       "      <td>NaN</td>\n",
       "      <td>NaN</td>\n",
       "      <td>NaN</td>\n",
       "    </tr>\n",
       "    <tr>\n",
       "      <th>75%</th>\n",
       "      <td>2.000000</td>\n",
       "      <td>49.000000</td>\n",
       "      <td>0.000000</td>\n",
       "      <td>2010.000000</td>\n",
       "      <td>10.000000</td>\n",
       "      <td>23.000000</td>\n",
       "      <td>NaN</td>\n",
       "      <td>NaN</td>\n",
       "      <td>NaN</td>\n",
       "      <td>NaN</td>\n",
       "      <td>...</td>\n",
       "      <td>0.000000</td>\n",
       "      <td>0.000000</td>\n",
       "      <td>NaN</td>\n",
       "      <td>NaN</td>\n",
       "      <td>0.000000</td>\n",
       "      <td>NaN</td>\n",
       "      <td>NaN</td>\n",
       "      <td>NaN</td>\n",
       "      <td>NaN</td>\n",
       "      <td>NaN</td>\n",
       "    </tr>\n",
       "    <tr>\n",
       "      <th>max</th>\n",
       "      <td>2.000000</td>\n",
       "      <td>109.000000</td>\n",
       "      <td>1.000000</td>\n",
       "      <td>2016.000000</td>\n",
       "      <td>12.000000</td>\n",
       "      <td>31.000000</td>\n",
       "      <td>5.000000</td>\n",
       "      <td>2.000000</td>\n",
       "      <td>1.0</td>\n",
       "      <td>2.000000</td>\n",
       "      <td>...</td>\n",
       "      <td>1.000000</td>\n",
       "      <td>1.000000</td>\n",
       "      <td>1.000000</td>\n",
       "      <td>1.000000</td>\n",
       "      <td>1.000000</td>\n",
       "      <td>1.000000</td>\n",
       "      <td>1.000000</td>\n",
       "      <td>1.000000</td>\n",
       "      <td>1.000000</td>\n",
       "      <td>7.000000</td>\n",
       "    </tr>\n",
       "  </tbody>\n",
       "</table>\n",
       "<p>8 rows × 49 columns</p>\n",
       "</div>"
      ],
      "text/plain": [
       "              gender            age       diabetes             yr  \\\n",
       "count  610383.000000  610383.000000  610383.000000  610383.000000   \n",
       "mean        1.545479      41.328037       0.010664    2005.474291   \n",
       "std         0.497928      12.368403       0.102714       5.254020   \n",
       "min         1.000000       2.000000       0.000000    1996.000000   \n",
       "25%         1.000000      33.000000       0.000000    2001.000000   \n",
       "50%         2.000000      40.000000       0.000000    2006.000000   \n",
       "75%         2.000000      49.000000       0.000000    2010.000000   \n",
       "max         2.000000     109.000000       1.000000    2016.000000   \n",
       "\n",
       "                 mon            day      bloodtype      whichhand   twins  \\\n",
       "count  610383.000000  610383.000000  336422.000000  250796.000000  7076.0   \n",
       "mean        6.982498      15.701750       2.332098       1.962822     1.0   \n",
       "std         3.293332       8.731233       0.974846       0.189197     0.0   \n",
       "min         1.000000       1.000000       1.000000       1.000000     1.0   \n",
       "25%         4.000000       8.000000            NaN            NaN     NaN   \n",
       "50%         7.000000      16.000000            NaN            NaN     NaN   \n",
       "75%        10.000000      23.000000            NaN            NaN     NaN   \n",
       "max        12.000000      31.000000       5.000000       2.000000     1.0   \n",
       "\n",
       "            earlobe      ...              solvent       asbestos  \\\n",
       "count  31044.000000      ...        610383.000000  610383.000000   \n",
       "mean       1.428392      ...             0.045766       0.032250   \n",
       "std        0.494854      ...             0.208978       0.176664   \n",
       "min        1.000000      ...             0.000000       0.000000   \n",
       "25%             NaN      ...             0.000000       0.000000   \n",
       "50%             NaN      ...             0.000000       0.000000   \n",
       "75%             NaN      ...             0.000000       0.000000   \n",
       "max        2.000000      ...             1.000000       1.000000   \n",
       "\n",
       "            coalash         paint      radiation     pesticide        others  \\\n",
       "count  69597.000000  69597.000000  610383.000000  69597.000000  69597.000000   \n",
       "mean       0.007874      0.015417       0.074920      0.012228      0.086009   \n",
       "std        0.088386      0.123207       0.263263      0.109901      0.280380   \n",
       "min        0.000000      0.000000       0.000000      0.000000      0.000000   \n",
       "25%             NaN           NaN       0.000000           NaN           NaN   \n",
       "50%             NaN           NaN       0.000000           NaN           NaN   \n",
       "75%             NaN           NaN       0.000000           NaN           NaN   \n",
       "max        1.000000      1.000000       1.000000      1.000000      1.000000   \n",
       "\n",
       "           ergonomic     nopolution        fincome  \n",
       "count  540786.000000  475600.000000  334991.000000  \n",
       "mean        0.083815       0.715456       3.665997  \n",
       "std         0.277110       0.451197       1.787560  \n",
       "min         0.000000       0.000000       0.000000  \n",
       "25%              NaN            NaN            NaN  \n",
       "50%              NaN            NaN            NaN  \n",
       "75%              NaN            NaN            NaN  \n",
       "max         1.000000       1.000000       7.000000  \n",
       "\n",
       "[8 rows x 49 columns]"
      ]
     },
     "execution_count": 157,
     "metadata": {},
     "output_type": "execute_result"
    }
   ],
   "source": [
    "df[df.columns[:50]].describe()"
   ]
  },
  {
   "cell_type": "code",
   "execution_count": 2,
   "metadata": {
    "collapsed": true
   },
   "outputs": [],
   "source": [
    "import numpy as np\n",
    "import matplotlib.pyplot as plt"
   ]
  },
  {
   "cell_type": "code",
   "execution_count": 18,
   "metadata": {
    "collapsed": false
   },
   "outputs": [
    {
     "data": {
      "image/png": "[encoded data removed]",
      "text/plain": [
       "<matplotlib.figure.Figure at 0x186d3550>"
      ]
     },
     "metadata": {},
     "output_type": "display_data"
    }
   ],
   "source": [
    "array = np.array([[1,3],[11111,5]])\n",
    "plt.imshow(array)\n",
    "plt.show()"
   ]
  },
  {
   "cell_type": "code",
   "execution_count": null,
   "metadata": {
    "collapsed": true
   },
   "outputs": [],
   "source": []
  },
  {
   "cell_type": "code",
   "execution_count": null,
   "metadata": {
    "collapsed": true
   },
   "outputs": [],
   "source": []
  },
  {
   "cell_type": "code",
   "execution_count": null,
   "metadata": {
    "collapsed": true
   },
   "outputs": [],
   "source": []
  },
  {
   "cell_type": "code",
   "execution_count": 12,
   "metadata": {
    "collapsed": false
   },
   "outputs": [],
   "source": [
    "#np.where(df.columns=='bmd_bmda')\n",
    "#np.where(df.columns=='g_ed')\n",
    "#np.where(df.columns=='uid')"
   ]
  },
  {
   "cell_type": "code",
   "execution_count": 13,
   "metadata": {
    "collapsed": false
   },
   "outputs": [
    {
     "data": {
      "text/plain": [
       "9977"
      ]
     },
     "execution_count": 13,
     "metadata": {},
     "output_type": "execute_result"
    }
   ],
   "source": [
    "sum(df['yr']==2016)"
   ]
  },
  {
   "cell_type": "code",
   "execution_count": 14,
   "metadata": {
    "collapsed": false
   },
   "outputs": [
    {
     "data": {
      "text/plain": [
       "13756"
      ]
     },
     "execution_count": 14,
     "metadata": {},
     "output_type": "execute_result"
    }
   ],
   "source": [
    "len(df['father'][df['yr']==2014])"
   ]
  },
  {
   "cell_type": "code",
   "execution_count": 67,
   "metadata": {
    "collapsed": false
   },
   "outputs": [
    {
     "name": "stdout",
     "output_type": "stream",
     "text": [
      "year total empty non_empty\n",
      "2016 9977 0 9977\n",
      "1996 16430 0 16430\n",
      "1997 24519 0 24519\n",
      "1998 28648 0 28648\n",
      "1999 30333 0 30333\n",
      "2000 34853 0 34853\n",
      "2001 31918 0 31918\n",
      "2002 31578 0 31578\n",
      "2003 30948 0 30948\n",
      "2004 34768 0 34768\n",
      "2005 36342 0 36342\n",
      "2006 38781 0 38781\n",
      "2007 37623 0 37623\n",
      "2008 38828 0 38828\n",
      "2009 38274 0 38274\n",
      "2010 34790 0 34790\n",
      "2011 30952 0 30952\n",
      "2012 29510 0 29510\n",
      "2013 24775 0 24775\n",
      "2014 13756 0 13756\n",
      "2015 12780 0 12780\n"
     ]
    }
   ],
   "source": [
    "print('year total empty non_empty')\n",
    "name_ = 'solvent'\n",
    "\n",
    "for yr in set(df['yr']):\n",
    "#yr = 2013\n",
    "    s_null = sum(df[name_][df['yr']==yr].isnull())\n",
    "    s_total = len(df[name_][df['yr']==yr])\n",
    "    print(yr, s_total, s_null, s_total-s_null)"
   ]
  },
  {
   "cell_type": "code",
   "execution_count": 32,
   "metadata": {
    "collapsed": false
   },
   "outputs": [
    {
     "name": "stdout",
     "output_type": "stream",
     "text": [
      "600\n"
     ]
    }
   ],
   "source": [
    "###  all types: 'str', 'float', 'numpy.int64', 'numpy.float64'\n",
    "num_ = 0\n",
    "for name in df.columns:\n",
    "    if type(df[name][0])== np.float64:\n",
    "        num_ += 1\n",
    "print(num_)\n",
    "\n",
    "### str: , float: , np.int64: , np.float64: "
   ]
  },
  {
   "cell_type": "code",
   "execution_count": 41,
   "metadata": {
    "collapsed": false
   },
   "outputs": [
    {
     "data": {
      "text/plain": [
       "610383"
      ]
     },
     "execution_count": 41,
     "metadata": {},
     "output_type": "execute_result"
    }
   ],
   "source": [
    "len(df)"
   ]
  },
  {
   "cell_type": "code",
   "execution_count": 46,
   "metadata": {
    "collapsed": true
   },
   "outputs": [],
   "source": [
    "import time"
   ]
  },
  {
   "cell_type": "code",
   "execution_count": 82,
   "metadata": {
    "collapsed": false
   },
   "outputs": [],
   "source": [
    "missing_value_stat = np.sum(np.array(df.isnull()),axis=0)"
   ]
  },
  {
   "cell_type": "code",
   "execution_count": 83,
   "metadata": {
    "collapsed": true
   },
   "outputs": [],
   "source": [
    "missing_value_stat = missing_value_stat/610383."
   ]
  },
  {
   "cell_type": "code",
   "execution_count": 94,
   "metadata": {
    "collapsed": false
   },
   "outputs": [
    {
     "data": {
      "text/plain": [
       "368"
      ]
     },
     "execution_count": 94,
     "metadata": {},
     "output_type": "execute_result"
    }
   ],
   "source": [
    "sum(missing_value_stat>0.5)"
   ]
  },
  {
   "cell_type": "code",
   "execution_count": 90,
   "metadata": {
    "collapsed": false
   },
   "outputs": [
    {
     "data": {
      "text/html": [
       "<div>\n",
       "<table border=\"1\" class=\"dataframe\">\n",
       "  <thead>\n",
       "    <tr style=\"text-align: right;\">\n",
       "      <th></th>\n",
       "      <th>0</th>\n",
       "    </tr>\n",
       "  </thead>\n",
       "  <tbody>\n",
       "    <tr>\n",
       "      <th>count</th>\n",
       "      <td>648.000000</td>\n",
       "    </tr>\n",
       "    <tr>\n",
       "      <th>mean</th>\n",
       "      <td>0.538179</td>\n",
       "    </tr>\n",
       "    <tr>\n",
       "      <th>std</th>\n",
       "      <td>0.399973</td>\n",
       "    </tr>\n",
       "    <tr>\n",
       "      <th>min</th>\n",
       "      <td>0.000000</td>\n",
       "    </tr>\n",
       "    <tr>\n",
       "      <th>25%</th>\n",
       "      <td>0.085411</td>\n",
       "    </tr>\n",
       "    <tr>\n",
       "      <th>50%</th>\n",
       "      <td>0.700861</td>\n",
       "    </tr>\n",
       "    <tr>\n",
       "      <th>75%</th>\n",
       "      <td>0.940265</td>\n",
       "    </tr>\n",
       "    <tr>\n",
       "      <th>max</th>\n",
       "      <td>1.000000</td>\n",
       "    </tr>\n",
       "  </tbody>\n",
       "</table>\n",
       "</div>"
      ],
      "text/plain": [
       "                0\n",
       "count  648.000000\n",
       "mean     0.538179\n",
       "std      0.399973\n",
       "min      0.000000\n",
       "25%      0.085411\n",
       "50%      0.700861\n",
       "75%      0.940265\n",
       "max      1.000000"
      ]
     },
     "execution_count": 90,
     "metadata": {},
     "output_type": "execute_result"
    }
   ],
   "source": [
    "pd.DataFrame(missing_value_stat).describe()"
   ]
  },
  {
   "cell_type": "code",
   "execution_count": 105,
   "metadata": {
    "collapsed": false
   },
   "outputs": [
    {
     "data": {
      "image/png": "[encoded data removed]",
      "text/plain": [
       "<matplotlib.figure.Figure at 0x66e0b748>"
      ]
     },
     "metadata": {},
     "output_type": "display_data"
    }
   ],
   "source": [
    "flat = missing_value_stat\n",
    "bins = np.linspace(np.min(flat), np.max(flat), 50)\n",
    "plt.hist(flat, bins=bins, color = 'blue')\n",
    "plt.show()"
   ]
  },
  {
   "cell_type": "code",
   "execution_count": 98,
   "metadata": {
    "collapsed": false
   },
   "outputs": [],
   "source": [
    "df1 = df.dropna()"
   ]
  },
  {
   "cell_type": "code",
   "execution_count": 100,
   "metadata": {
    "collapsed": false
   },
   "outputs": [
    {
     "data": {
      "text/html": [
       "<div>\n",
       "<table border=\"1\" class=\"dataframe\">\n",
       "  <thead>\n",
       "    <tr style=\"text-align: right;\">\n",
       "      <th></th>\n",
       "      <th>uid</th>\n",
       "      <th>gender</th>\n",
       "      <th>age</th>\n",
       "      <th>diabetes</th>\n",
       "      <th>yr</th>\n",
       "      <th>mon</th>\n",
       "      <th>day</th>\n",
       "      <th>bloodtype</th>\n",
       "      <th>whichhand</th>\n",
       "      <th>twins</th>\n",
       "      <th>...</th>\n",
       "      <th>igaantiea</th>\n",
       "      <th>igaantivca</th>\n",
       "      <th>ct_calcium</th>\n",
       "      <th>ntprobnp</th>\n",
       "      <th>caronormal</th>\n",
       "      <th>sevanum</th>\n",
       "      <th>sevaact</th>\n",
       "      <th>sevago</th>\n",
       "      <th>sevanom</th>\n",
       "      <th>testost</th>\n",
       "    </tr>\n",
       "  </thead>\n",
       "  <tbody>\n",
       "  </tbody>\n",
       "</table>\n",
       "<p>0 rows × 648 columns</p>\n",
       "</div>"
      ],
      "text/plain": [
       "Empty DataFrame\n",
       "Columns: [uid, gender, age, diabetes, yr, mon, day, bloodtype, whichhand, twins, earlobe, tongue, forehead, eyetype, dimple, thumb, forefinger, lfinger1, lfinger2, lfinger3, lfinger4, lfinger5, rfinger5, rfinger4, rfinger3, rfinger2, rfinger1, bornweight, father, gfather_f, gmother_f, mother, gfather_m, gmother_m, marriage_96, marriage_98, marriage_14, education, occupation, pollution, solvent, asbestos, coalash, paint, radiation, pesticide, others, ergonomic, nopolution, fincome, pincome, review01, review02, review03, review04, review05, review06, review07, review08, envion01, envion02, envion03, envion04, envion05, relate48b, relate49b, relate50b, firstchild_01, firstchild_05, suckle, relate51b, relate52b_03, relate52b_14, mcstop, mcstopage, mclastyr, mclastmon, mclastday, infect, mdrug01, mdrug02, mdrug03, mdrug04, mdrug05, mdrug06, mdrug07, mdrug08, mdrug10, mdrug11, mdrug12, mdrug13, mdrug14, mdrug15, mdrug09, mdrugother, mdrug18, nopsick, psick01, psick02, psick03, ...]\n",
       "Index: []\n",
       "\n",
       "[0 rows x 648 columns]"
      ]
     },
     "execution_count": 100,
     "metadata": {},
     "output_type": "execute_result"
    }
   ],
   "source": [
    "df1"
   ]
  },
  {
   "cell_type": "code",
   "execution_count": null,
   "metadata": {
    "collapsed": true
   },
   "outputs": [],
   "source": [
    "type(df[name][0])"
   ]
  },
  {
   "cell_type": "code",
   "execution_count": 92,
   "metadata": {
    "collapsed": false
   },
   "outputs": [],
   "source": [
    "num_coming = df['uid'].value_counts()"
   ]
  },
  {
   "cell_type": "code",
   "execution_count": 98,
   "metadata": {
    "collapsed": false
   },
   "outputs": [
    {
     "name": "stdout",
     "output_type": "stream",
     "text": [
      "3     36834\n",
      "4     21812\n",
      "5     14256\n",
      "6      9774\n",
      "7      7068\n",
      "8      5393\n",
      "9      3858\n",
      "10     2934\n",
      "11     2326\n",
      "12     1841\n",
      "13     1415\n",
      "14     1092\n",
      "15      882\n",
      "16      667\n",
      "17      452\n",
      "18      295\n",
      "19      211\n",
      "20      107\n",
      "21       54\n",
      "22        8\n",
      "24        4\n",
      "23        3\n",
      "25        2\n",
      "33        1\n",
      "28        1\n",
      "35        1\n",
      "Name: uid, dtype: int64\n",
      "610383\n"
     ]
    }
   ],
   "source": [
    "print((num_coming).value_counts())\n",
    "print(np.sum(num_coming))"
   ]
  },
  {
   "cell_type": "code",
   "execution_count": 107,
   "metadata": {
    "collapsed": false
   },
   "outputs": [
    {
     "data": {
      "text/plain": [
       "[True, True]"
      ]
     },
     "execution_count": 107,
     "metadata": {},
     "output_type": "execute_result"
    }
   ],
   "source": [
    "[True, False] and [True, True]"
   ]
  },
  {
   "cell_type": "code",
   "execution_count": 110,
   "metadata": {
    "collapsed": false
   },
   "outputs": [
    {
     "data": {
      "text/plain": [
       "6509"
      ]
     },
     "execution_count": 110,
     "metadata": {},
     "output_type": "execute_result"
    }
   ],
   "source": [
    "list1 = list(df['dm_fg']<70)\n",
    "list1 = list(df['dm_fg2']<70)\n",
    "list1 = list(df['dm_g']<70)\n",
    "list2 = list(df['diabetes']==1)\n",
    "sum(list1 and list2)"
   ]
  },
  {
   "cell_type": "code",
   "execution_count": 50,
   "metadata": {
    "collapsed": false
   },
   "outputs": [],
   "source": [
    "# CHECK features correlation\n",
    "#t1 = time.time()\n",
    "#corr = df.corr()\n",
    "# print(time.time() - t1) = 612.4951391220093"
   ]
  },
  {
   "cell_type": "code",
   "execution_count": 68,
   "metadata": {
    "collapsed": true
   },
   "outputs": [],
   "source": [
    "corr.to_csv('corr.csv', index=False)"
   ]
  },
  {
   "cell_type": "code",
   "execution_count": 67,
   "metadata": {
    "collapsed": true
   },
   "outputs": [],
   "source": [
    "corr = pd.read_csv('corr.csv')"
   ]
  },
  {
   "cell_type": "code",
   "execution_count": null,
   "metadata": {
    "collapsed": true
   },
   "outputs": [],
   "source": []
  },
  {
   "cell_type": "code",
   "execution_count": null,
   "metadata": {
    "collapsed": true
   },
   "outputs": [],
   "source": []
  },
  {
   "cell_type": "code",
   "execution_count": 207,
   "metadata": {
    "collapsed": true
   },
   "outputs": [],
   "source": [
    "aaa = pd.DataFrame([[1,2,3],[4,5,6]])"
   ]
  },
  {
   "cell_type": "code",
   "execution_count": 208,
   "metadata": {
    "collapsed": false
   },
   "outputs": [
    {
     "data": {
      "text/html": [
       "<div>\n",
       "<table border=\"1\" class=\"dataframe\">\n",
       "  <thead>\n",
       "    <tr style=\"text-align: right;\">\n",
       "      <th></th>\n",
       "      <th>0</th>\n",
       "      <th>1</th>\n",
       "      <th>2</th>\n",
       "    </tr>\n",
       "  </thead>\n",
       "  <tbody>\n",
       "    <tr>\n",
       "      <th>0</th>\n",
       "      <td>1</td>\n",
       "      <td>2</td>\n",
       "      <td>3</td>\n",
       "    </tr>\n",
       "    <tr>\n",
       "      <th>1</th>\n",
       "      <td>4</td>\n",
       "      <td>5</td>\n",
       "      <td>6</td>\n",
       "    </tr>\n",
       "  </tbody>\n",
       "</table>\n",
       "</div>"
      ],
      "text/plain": [
       "   0  1  2\n",
       "0  1  2  3\n",
       "1  4  5  6"
      ]
     },
     "execution_count": 208,
     "metadata": {},
     "output_type": "execute_result"
    }
   ],
   "source": [
    "aaa"
   ]
  },
  {
   "cell_type": "code",
   "execution_count": 209,
   "metadata": {
    "collapsed": false
   },
   "outputs": [
    {
     "ename": "AttributeError",
     "evalue": "'DataFrame' object has no attribute 'writerows'",
     "output_type": "error",
     "traceback": [
      "\u001b[1;31m---------------------------------------------------------------------------\u001b[0m",
      "\u001b[1;31mAttributeError\u001b[0m                            Traceback (most recent call last)",
      "\u001b[1;32m<ipython-input-209-6da066e324e2>\u001b[0m in \u001b[0;36m<module>\u001b[1;34m()\u001b[0m\n\u001b[1;32m----> 1\u001b[1;33m \u001b[0maaa\u001b[0m\u001b[1;33m.\u001b[0m\u001b[0mwriterows\u001b[0m\u001b[1;33m(\u001b[0m\u001b[1;34m'aaa.csv'\u001b[0m\u001b[1;33m)\u001b[0m\u001b[1;33m\u001b[0m\u001b[0m\n\u001b[0m",
      "\u001b[1;32mC:\\Anaconda2\\lib\\site-packages\\pandas\\core\\generic.pyc\u001b[0m in \u001b[0;36m__getattr__\u001b[1;34m(self, name)\u001b[0m\n\u001b[0;32m   2670\u001b[0m             \u001b[1;32mif\u001b[0m \u001b[0mname\u001b[0m \u001b[1;32min\u001b[0m \u001b[0mself\u001b[0m\u001b[1;33m.\u001b[0m\u001b[0m_info_axis\u001b[0m\u001b[1;33m:\u001b[0m\u001b[1;33m\u001b[0m\u001b[0m\n\u001b[0;32m   2671\u001b[0m                 \u001b[1;32mreturn\u001b[0m \u001b[0mself\u001b[0m\u001b[1;33m[\u001b[0m\u001b[0mname\u001b[0m\u001b[1;33m]\u001b[0m\u001b[1;33m\u001b[0m\u001b[0m\n\u001b[1;32m-> 2672\u001b[1;33m             \u001b[1;32mreturn\u001b[0m \u001b[0mobject\u001b[0m\u001b[1;33m.\u001b[0m\u001b[0m__getattribute__\u001b[0m\u001b[1;33m(\u001b[0m\u001b[0mself\u001b[0m\u001b[1;33m,\u001b[0m \u001b[0mname\u001b[0m\u001b[1;33m)\u001b[0m\u001b[1;33m\u001b[0m\u001b[0m\n\u001b[0m\u001b[0;32m   2673\u001b[0m \u001b[1;33m\u001b[0m\u001b[0m\n\u001b[0;32m   2674\u001b[0m     \u001b[1;32mdef\u001b[0m \u001b[0m__setattr__\u001b[0m\u001b[1;33m(\u001b[0m\u001b[0mself\u001b[0m\u001b[1;33m,\u001b[0m \u001b[0mname\u001b[0m\u001b[1;33m,\u001b[0m \u001b[0mvalue\u001b[0m\u001b[1;33m)\u001b[0m\u001b[1;33m:\u001b[0m\u001b[1;33m\u001b[0m\u001b[0m\n",
      "\u001b[1;31mAttributeError\u001b[0m: 'DataFrame' object has no attribute 'writerows'"
     ]
    }
   ],
   "source": [
    "\n",
    "www = \n",
    "aaa.writerows('aaa.csv')"
   ]
  },
  {
   "cell_type": "code",
   "execution_count": null,
   "metadata": {
    "collapsed": true
   },
   "outputs": [],
   "source": []
  },
  {
   "cell_type": "code",
   "execution_count": null,
   "metadata": {
    "collapsed": true
   },
   "outputs": [],
   "source": []
  },
  {
   "cell_type": "code",
   "execution_count": 44,
   "metadata": {
    "collapsed": false
   },
   "outputs": [
    {
     "data": {
      "text/html": [
       "<div>\n",
       "<table border=\"1\" class=\"dataframe\">\n",
       "  <thead>\n",
       "    <tr style=\"text-align: right;\">\n",
       "      <th></th>\n",
       "      <th>age</th>\n",
       "      <th>mon</th>\n",
       "      <th>day</th>\n",
       "      <th>bloodtype</th>\n",
       "      <th>whichhand</th>\n",
       "    </tr>\n",
       "  </thead>\n",
       "  <tbody>\n",
       "    <tr>\n",
       "      <th>age</th>\n",
       "      <td>1.000000</td>\n",
       "      <td>-0.021035</td>\n",
       "      <td>-0.002461</td>\n",
       "      <td>-0.005908</td>\n",
       "      <td>-0.003610</td>\n",
       "    </tr>\n",
       "    <tr>\n",
       "      <th>mon</th>\n",
       "      <td>-0.021035</td>\n",
       "      <td>1.000000</td>\n",
       "      <td>-0.002054</td>\n",
       "      <td>-0.002543</td>\n",
       "      <td>-0.000064</td>\n",
       "    </tr>\n",
       "    <tr>\n",
       "      <th>day</th>\n",
       "      <td>-0.002461</td>\n",
       "      <td>-0.002054</td>\n",
       "      <td>1.000000</td>\n",
       "      <td>0.001519</td>\n",
       "      <td>0.002585</td>\n",
       "    </tr>\n",
       "    <tr>\n",
       "      <th>bloodtype</th>\n",
       "      <td>-0.005908</td>\n",
       "      <td>-0.002543</td>\n",
       "      <td>0.001519</td>\n",
       "      <td>1.000000</td>\n",
       "      <td>0.000899</td>\n",
       "    </tr>\n",
       "    <tr>\n",
       "      <th>whichhand</th>\n",
       "      <td>-0.003610</td>\n",
       "      <td>-0.000064</td>\n",
       "      <td>0.002585</td>\n",
       "      <td>0.000899</td>\n",
       "      <td>1.000000</td>\n",
       "    </tr>\n",
       "  </tbody>\n",
       "</table>\n",
       "</div>"
      ],
      "text/plain": [
       "                age       mon       day  bloodtype  whichhand\n",
       "age        1.000000 -0.021035 -0.002461  -0.005908  -0.003610\n",
       "mon       -0.021035  1.000000 -0.002054  -0.002543  -0.000064\n",
       "day       -0.002461 -0.002054  1.000000   0.001519   0.002585\n",
       "bloodtype -0.005908 -0.002543  0.001519   1.000000   0.000899\n",
       "whichhand -0.003610 -0.000064  0.002585   0.000899   1.000000"
      ]
     },
     "execution_count": 44,
     "metadata": {},
     "output_type": "execute_result"
    }
   ],
   "source": [
    "select_list = [1,4,5,6,7]\n",
    "corr.loc[corr.columns[select_list]][select_list]"
   ]
  },
  {
   "cell_type": "code",
   "execution_count": null,
   "metadata": {
    "collapsed": false
   },
   "outputs": [],
   "source": []
  },
  {
   "cell_type": "code",
   "execution_count": 24,
   "metadata": {
    "collapsed": false
   },
   "outputs": [
    {
     "data": {
      "text/plain": [
       "mdrug05           0.654692\n",
       "psick10           0.608324\n",
       "dm_g              0.510962\n",
       "dm_fg2            0.499902\n",
       "dm_fg             0.468721\n",
       "ushba1c2          0.297062\n",
       "ur_glu            0.266462\n",
       "insulin           0.229324\n",
       "android           0.166667\n",
       "mdrug04           0.112014\n",
       "g_bmi             0.105657\n",
       "g_wc              0.104342\n",
       "psick09           0.103299\n",
       "scrnormal         0.098984\n",
       "mdrug01           0.097857\n",
       "g_cc              0.097142\n",
       "g_cci             0.095805\n",
       "g_whr             0.095460\n",
       "bapwv_l           0.089535\n",
       "age               0.087817\n",
       "l_tg              0.085582\n",
       "g_ssl             0.084724\n",
       "as_liverus        0.083512\n",
       "mcstop            0.083213\n",
       "bapwv_r           0.083171\n",
       "g_fat             0.079690\n",
       "ee_k              0.079415\n",
       "cyfra21_1         0.078432\n",
       "relate50b         0.075259\n",
       "mdrug07           0.074486\n",
       "antihbe           0.073817\n",
       "g_wei             0.073429\n",
       "cocohabitamoun    0.072138\n",
       "g_dsl             0.071603\n",
       "lgsnormal         0.070436\n",
       "lf_ggt            0.069531\n",
       "g_ssr             0.067857\n",
       "g_hc              0.065698\n",
       "firstchild_05     0.063011\n",
       "mdrug03           0.062785\n",
       "totalbody         0.060756\n",
       "g_dsr             0.060424\n",
       "marriage_14       0.059621\n",
       "hs_crp            0.059143\n",
       "thynormal         0.058476\n",
       "sgsnormal         0.057592\n",
       "yr                0.056563\n",
       "au_l              0.055876\n",
       "lf_gpt            0.055396\n",
       "Name: diabetes, dtype: float64"
      ]
     },
     "execution_count": 24,
     "metadata": {},
     "output_type": "execute_result"
    }
   ],
   "source": [
    "corr.loc[:,'diabetes'].abs().sort_values(ascending=False)[1:50]"
   ]
  },
  {
   "cell_type": "code",
   "execution_count": 64,
   "metadata": {
    "collapsed": false
   },
   "outputs": [
    {
     "data": {
      "text/plain": [
       "Index(['mdrug05', 'psick10', 'dm_g', 'dm_fg2', 'dm_fg', 'ushba1c2', 'ur_glu',\n",
       "       'insulin', 'android', 'mdrug04', 'g_bmi', 'g_wc', 'psick09',\n",
       "       'scrnormal', 'mdrug01', 'g_cc', 'g_cci', 'g_whr', 'bapwv_l', 'age',\n",
       "       'l_tg', 'g_ssl', 'as_liverus', 'mcstop', 'bapwv_r', 'g_fat', 'ee_k',\n",
       "       'cyfra21_1', 'relate50b', 'mdrug07', 'antihbe', 'g_wei',\n",
       "       'cocohabitamoun', 'g_dsl', 'lgsnormal', 'lf_ggt', 'g_ssr', 'g_hc',\n",
       "       'firstchild_05', 'mdrug03', 'totalbody', 'g_dsr', 'marriage_14',\n",
       "       'hs_crp', 'thynormal', 'sgsnormal', 'yr', 'au_l', 'lf_gpt'],\n",
       "      dtype='object')"
      ]
     },
     "execution_count": 64,
     "metadata": {},
     "output_type": "execute_result"
    }
   ],
   "source": [
    "lst_1 = corr.loc[:,'diabetes'].abs().sort_values(ascending=False)[1:50]\n",
    "lst_1.index"
   ]
  },
  {
   "cell_type": "code",
   "execution_count": 25,
   "metadata": {
    "collapsed": false
   },
   "outputs": [
    {
     "data": {
      "text/plain": [
       "havigg            0.054796\n",
       "nopsick           0.054710\n",
       "relate49b         0.054280\n",
       "smokeyear_09      0.053969\n",
       "bmd_loc           0.053854\n",
       "au_r              0.053341\n",
       "x_kub             0.053102\n",
       "ur_pro            0.051652\n",
       "cocohabityear     0.049249\n",
       "e2                0.048755\n",
       "lf_got            0.048424\n",
       "x_che             0.048267\n",
       "education         0.048161\n",
       "occupation        0.047677\n",
       "psick12           0.047669\n",
       "eyenormal         0.046347\n",
       "relate63b         0.046163\n",
       "relate48b         0.045956\n",
       "relate52b_14      0.045636\n",
       "rsick10           0.044817\n",
       "marriage_98       0.044717\n",
       "isd_sytpha        0.044638\n",
       "l_ch              0.042843\n",
       "urinebap          0.042732\n",
       "psick21           0.041869\n",
       "cpi_ca            0.040982\n",
       "rf_bun            0.040722\n",
       "firstchild_01     0.040698\n",
       "cr_fobt           0.040441\n",
       "smokeamoun_03     0.040247\n",
       "cbc_leu           0.039611\n",
       "i_crp             0.038977\n",
       "opheart_96        0.038907\n",
       "ranormal_val      0.038716\n",
       "rabella           0.038490\n",
       "relate52b_03      0.038482\n",
       "exerciseperiod    0.037886\n",
       "vi_sle            0.037632\n",
       "psick20           0.037302\n",
       "ncocohabityear    0.037287\n",
       "rf_egfr           0.037188\n",
       "l_hdlc            0.036881\n",
       "hbeag             0.036694\n",
       "relate60b         0.036690\n",
       "lffvcper          0.035919\n",
       "snanormal         0.035888\n",
       "sameagehealth     0.035880\n",
       "mdrug02           0.034664\n",
       "ca19_9            0.033710\n",
       "ur_ph             0.033302\n",
       "Name: diabetes, dtype: float64"
      ]
     },
     "execution_count": 25,
     "metadata": {},
     "output_type": "execute_result"
    }
   ],
   "source": [
    "corr.loc[:,'diabetes'].abs().sort_values(ascending=False)[50:100]"
   ]
  },
  {
   "cell_type": "code",
   "execution_count": 26,
   "metadata": {
    "collapsed": false
   },
   "outputs": [
    {
     "data": {
      "text/plain": [
       "secondsportfrequ    0.033237\n",
       "lipo                0.032454\n",
       "otherproblem_ex     0.032394\n",
       "relate20a           0.032349\n",
       "pf_fev1             0.032286\n",
       "drinkyear           0.031939\n",
       "psick23             0.031587\n",
       "pf_fvc              0.030496\n",
       "food20_98           0.029866\n",
       "cbc_hema            0.029809\n",
       "snenormal           0.029640\n",
       "firstsportfrequ     0.029561\n",
       "relate44b           0.029398\n",
       "c13                 0.029243\n",
       "sndnormal           0.029231\n",
       "sncnormal           0.029150\n",
       "g_pul               0.029071\n",
       "isd_hbabcv          0.028932\n",
       "snbnormal           0.028650\n",
       "as_kid              0.028611\n",
       "secondsport         0.028385\n",
       "aboutbonejoints     0.028199\n",
       "lf_ldh              0.027657\n",
       "cbc_hemo            0.027654\n",
       "relate07a           0.027553\n",
       "jogging             0.026762\n",
       "earlobe             0.026711\n",
       "nsmokeyear_09       0.026627\n",
       "vi_tonl             0.026565\n",
       "emotional           0.026306\n",
       "marriage_96         0.026299\n",
       "x_ugi               0.025999\n",
       "tu_cea              0.025949\n",
       "food18_98           0.025670\n",
       "opbubble_96         0.025637\n",
       "g_slr               0.025532\n",
       "mcstopage           0.025423\n",
       "smokeyear_96        0.025408\n",
       "vi_tonr             0.025356\n",
       "ur_sdcaup           0.025279\n",
       "isd_hbabsv          0.025195\n",
       "as_gall             0.025053\n",
       "sleeptime_09        0.024641\n",
       "smokeamoun_97       0.024447\n",
       "review08            0.024285\n",
       "abi_l               0.024021\n",
       "abi_r               0.023989\n",
       "relate61b_03        0.023965\n",
       "antihbc             0.023769\n",
       "cbc_ery             0.023643\n",
       "Name: diabetes, dtype: float64"
      ]
     },
     "execution_count": 26,
     "metadata": {},
     "output_type": "execute_result"
    }
   ],
   "source": [
    "corr.loc[:,'diabetes'].abs().sort_values(ascending=False)[100:150]"
   ]
  },
  {
   "cell_type": "code",
   "execution_count": 27,
   "metadata": {
    "collapsed": false
   },
   "outputs": [
    {
     "data": {
      "text/plain": [
       "opno                   0.023343\n",
       "forehead               0.023326\n",
       "ua_ua                  0.023111\n",
       "cause_cantsport        0.023030\n",
       "ur_sdcalo              0.022596\n",
       "npnormal               0.022590\n",
       "ballsports             0.022420\n",
       "drinkkind1             0.022367\n",
       "sleeptype6             0.022287\n",
       "relate02a              0.022251\n",
       "opur_96                0.022097\n",
       "fincome                0.022062\n",
       "opfemale_01            0.021719\n",
       "g_ac                   0.021586\n",
       "relate59b              0.021439\n",
       "l_chol                 0.021410\n",
       "opbrain_96             0.021280\n",
       "smokeornot_03          0.020610\n",
       "envion05               0.020566\n",
       "g_dlr                  0.020363\n",
       "relate61b_14           0.020339\n",
       "opother_96             0.020077\n",
       "g_ed                   0.020021\n",
       "lightsport             0.019900\n",
       "ekg_ekg                0.019715\n",
       "opchest_96             0.019670\n",
       "cbc_rdw                0.019592\n",
       "ent_ear                0.019457\n",
       "lfmmfper               0.019416\n",
       "relate21a              0.019394\n",
       "physical_fitness       0.019325\n",
       "oplung_96              0.018955\n",
       "powerwalking           0.018864\n",
       "relate62b              0.018847\n",
       "relate47b              0.018846\n",
       "bornweight             0.018773\n",
       "brenormal              0.018588\n",
       "pf_mmf                 0.018476\n",
       "cocohabit_98           0.018226\n",
       "nutri16                0.017807\n",
       "reduce_pressure        0.017732\n",
       "antihbs                0.017653\n",
       "psick11                0.017341\n",
       "food21_97              0.017292\n",
       "gy_pap                 0.017278\n",
       "food19_09              0.017257\n",
       "intensify_endurance    0.017109\n",
       "ur_sg                  0.016937\n",
       "rf_cre                 0.016701\n",
       "ent_neck               0.016462\n",
       "Name: diabetes, dtype: float64"
      ]
     },
     "execution_count": 27,
     "metadata": {},
     "output_type": "execute_result"
    }
   ],
   "source": [
    "corr.loc[:,'diabetes'].abs().sort_values(ascending=False)[150:200]"
   ]
  },
  {
   "cell_type": "code",
   "execution_count": 15,
   "metadata": {
    "collapsed": false
   },
   "outputs": [
    {
     "data": {
      "image/png": "[encoded data removed]",
      "text/plain": [
       "<matplotlib.figure.Figure at 0x7f91aa72a400>"
      ]
     },
     "metadata": {},
     "output_type": "display_data"
    }
   ],
   "source": [
    "#df_train.info()\n",
    "df[df.columns[:20]].hist(bins=50, figsize=(11,8),color='grey')\n",
    "plt.show()"
   ]
  },
  {
   "cell_type": "code",
   "execution_count": 16,
   "metadata": {
    "collapsed": false
   },
   "outputs": [
    {
     "data": {
      "image/png": "[encoded data removed]",
      "text/plain": [
       "<matplotlib.figure.Figure at 0x7f91ac4d5748>"
      ]
     },
     "metadata": {},
     "output_type": "display_data"
    }
   ],
   "source": [
    "df[df.columns[20:40]].hist(bins=50, figsize=(11,8),color='grey')\n",
    "plt.show()"
   ]
  },
  {
   "cell_type": "code",
   "execution_count": 17,
   "metadata": {
    "collapsed": false
   },
   "outputs": [
    {
     "data": {
      "image/png": "[encoded data removed]",
      "text/plain": [
       "<matplotlib.figure.Figure at 0x7f91ac7ae4a8>"
      ]
     },
     "metadata": {},
     "output_type": "display_data"
    }
   ],
   "source": [
    "df[df.columns[40:60]].hist(bins=50, figsize=(11,8),color='grey')\n",
    "plt.show()"
   ]
  },
  {
   "cell_type": "code",
   "execution_count": null,
   "metadata": {
    "collapsed": true
   },
   "outputs": [],
   "source": []
  },
  {
   "cell_type": "code",
   "execution_count": null,
   "metadata": {
    "collapsed": true
   },
   "outputs": [],
   "source": []
  },
  {
   "cell_type": "code",
   "execution_count": null,
   "metadata": {
    "collapsed": true
   },
   "outputs": [],
   "source": []
  },
  {
   "cell_type": "code",
   "execution_count": null,
   "metadata": {
    "collapsed": true
   },
   "outputs": [],
   "source": []
  },
  {
   "cell_type": "code",
   "execution_count": null,
   "metadata": {
    "collapsed": true
   },
   "outputs": [],
   "source": []
  },
  {
   "cell_type": "code",
   "execution_count": null,
   "metadata": {
    "collapsed": true
   },
   "outputs": [],
   "source": []
  },
  {
   "cell_type": "code",
   "execution_count": 11,
   "metadata": {
    "collapsed": false
   },
   "outputs": [
    {
     "data": {
      "text/plain": [
       "Index(['uid', 'gender', 'age', 'diabetes', 'yr', 'mon', 'day', 'bloodtype',\n",
       "       'whichhand', 'twins', 'earlobe', 'tongue', 'forehead', 'eyetype',\n",
       "       'dimple', 'thumb', 'forefinger', 'lfinger1', 'lfinger2', 'lfinger3',\n",
       "       'lfinger4', 'lfinger5', 'rfinger5', 'rfinger4', 'rfinger3', 'rfinger2',\n",
       "       'rfinger1', 'bornweight', 'father', 'gfather_f', 'gmother_f', 'mother',\n",
       "       'gfather_m', 'gmother_m', 'marriage_96', 'marriage_98', 'marriage_14',\n",
       "       'education', 'occupation', 'pollution', 'solvent', 'asbestos',\n",
       "       'coalash', 'paint', 'radiation', 'pesticide', 'others', 'ergonomic',\n",
       "       'nopolution', 'fincome', 'pincome', 'review01', 'review02', 'review03',\n",
       "       'review04', 'review05', 'review06', 'review07', 'review08', 'envion01',\n",
       "       'envion02', 'envion03', 'envion04', 'envion05', 'relate48b',\n",
       "       'relate49b', 'relate50b', 'firstchild_01', 'firstchild_05', 'suckle',\n",
       "       'relate51b', 'relate52b_03', 'relate52b_14', 'mcstop', 'mcstopage',\n",
       "       'mclastyr', 'mclastmon', 'mclastday', 'infect', 'mdrug01', 'mdrug02',\n",
       "       'mdrug03', 'mdrug04', 'mdrug05', 'mdrug06', 'mdrug07', 'mdrug08',\n",
       "       'mdrug10', 'mdrug11', 'mdrug12', 'mdrug13', 'mdrug14', 'mdrug15',\n",
       "       'mdrug09', 'mdrugother', 'mdrug18', 'nopsick', 'psick01', 'psick02',\n",
       "       'psick03'],\n",
       "      dtype='object')"
      ]
     },
     "execution_count": 11,
     "metadata": {},
     "output_type": "execute_result"
    }
   ],
   "source": [
    "df.columns[:100]"
   ]
  },
  {
   "cell_type": "code",
   "execution_count": 12,
   "metadata": {
    "collapsed": false
   },
   "outputs": [
    {
     "data": {
      "text/plain": [
       "Index(['psick04', 'psick05', 'psick06', 'psick07', 'psick08', 'psick09',\n",
       "       'psick10', 'psick11', 'psick12', 'psick13', 'psick14', 'psick15',\n",
       "       'psick16', 'psick17', 'psick18', 'psick19', 'psick20', 'psick21',\n",
       "       'psick22', 'psick23', 'psick24', 'psick25', 'psick26', 'psick27',\n",
       "       'psick28', 'relate46b', 'operationy', 'opbrain_96', 'opbrain_01',\n",
       "       'opeye_96', 'opeye_01', 'opent_96', 'opent_03', 'relate32b', 'opt3_96',\n",
       "       'opt3_01', 'oplung_96', 'oplung_01', 'opheart_96', 'opheart_01',\n",
       "       'opchest_96', 'opchest_01', 'relate54b', 'opstomach_96', 'opstomach_01',\n",
       "       'opbubble_96', 'opbubble_01', 'opodigest_96', 'opodigest_01',\n",
       "       'opcaecum_00', 'opcaecum_01', 'opur_96', 'opur_01', 'opsubur_96',\n",
       "       'opsubur_01', 'relate58b', 'opfemale_96', 'opfemale_01', 'relate47b',\n",
       "       'opbone_96', 'opbone_01', 'opother_96', 'opother_01', 'opno', 'rsickno',\n",
       "       'rsick01', 'rsick02', 'rsick03', 'rsick04', 'rsick05', 'rsick06',\n",
       "       'rsick07', 'rsick08', 'rsick09', 'rsick10', 'rsick11', 'rsick12',\n",
       "       'rsick13', 'rsick14', 'rsick15', 'rsick17', 'relate55b', 'heartdisease',\n",
       "       'oldwound_ex', 'sameagehealth', 'paindegree', 'energy', 'emotional',\n",
       "       'relate05a', 'relate21a', 'relate07a', 'relate10a', 'relate22a',\n",
       "       'relate23a', 'relate11a', 'relate12a', 'relate15a', 'relate16a',\n",
       "       'relate17a', 'relate24a'],\n",
       "      dtype='object')"
      ]
     },
     "execution_count": 12,
     "metadata": {},
     "output_type": "execute_result"
    }
   ],
   "source": [
    "df.columns[100:200]"
   ]
  },
  {
   "cell_type": "code",
   "execution_count": 13,
   "metadata": {
    "collapsed": false
   },
   "outputs": [
    {
     "data": {
      "text/plain": [
       "Index(['relate29a', 'relate30a', 'relate33b_99', 'relate33b_01', 'wstatus',\n",
       "       'relate34b', 'relate08a', 'relate21b', 'relate22b', 'relate23b',\n",
       "       'relate35b', 'relate31b', 'relate01a', 'relate02a', 'relate03a',\n",
       "       'relate04a', 'relate06a', 'relate09a', 'relate13a', 'relate14a',\n",
       "       'relate18a', 'relate19a', 'relate20a', 'relate25a', 'relate26a',\n",
       "       'relate27a', 'relate28a', 'relate36b', 'eara', 'earb', 'earc', 'eard',\n",
       "       'eare', 'earf', 'nosea', 'noseb', 'nosec', 'nosed', 'nosee', 'nosef',\n",
       "       'noseg', 'throata', 'throatb', 'throatc', 'throatd', 'throate',\n",
       "       'throatf', 'neck', 'relate24b', 'relate25b', 'relate62b', 'relate26b',\n",
       "       'relate63b', 'relate27b', 'relate28b_96', 'relate28b_03', 'relate29b',\n",
       "       'relate43b', 'relate44b', 'relate45b', 'relate30b', 'relate56b',\n",
       "       'relate57b', 'relate59b', 'relate60b', 'relate61b_03', 'relate61b_14',\n",
       "       'smokeornot_96', 'smokeornot_97', 'smokeornot_98', 'smokeornot_03',\n",
       "       'smokeyear_96', 'smokeyear_09', 'nsmokeyear_96', 'nsmokeyear_09',\n",
       "       'smokeamoun_96', 'smokeamoun_97', 'smokeamoun_03', 'drinkornot_96',\n",
       "       'drinkornot_97', 'drinkornot_98', 'drinkhabit_96', 'drinkhabit_97',\n",
       "       'drinkyear', 'drinkkind1', 'drinkkind2', 'drinkkind3', 'drinkkind4',\n",
       "       'ndrinkyear', 'cocohabit_96', 'cocohabit_97', 'cocohabit_98',\n",
       "       'cocohabityear', 'cocohabitamoun', 'ncocohabityear', 'sleeptime_96',\n",
       "       'sleeptime_09', 'sleeptype', 'sleeptype1', 'sleeptype2'],\n",
       "      dtype='object')"
      ]
     },
     "execution_count": 13,
     "metadata": {},
     "output_type": "execute_result"
    }
   ],
   "source": [
    "df.columns[200:300]"
   ]
  },
  {
   "cell_type": "code",
   "execution_count": 14,
   "metadata": {
    "collapsed": false
   },
   "outputs": [
    {
     "data": {
      "text/plain": [
       "Index(['sleeptype3', 'sleeptype4', 'sleeptype5', 'sleeptype6', 'workstreng',\n",
       "       'aboutbonejoints', 'chestpain_noneex', 'chestpain_ex', 'lostsense',\n",
       "       'firstsport', 'lightsport', 'meansport', 'heavysport', 'violtsport',\n",
       "       'sportornot_96', 'sportornot_97', 'sportornot_98', 'firstsportfrequ',\n",
       "       'firstsporttime', 'firstsportbreath', 'secondsport', 'secondsportfrequ',\n",
       "       'secondsporttime', 'secondsportbreath', 'otherproblem_ex',\n",
       "       'cause_cantsport', 'weight_control', 'intensify_heartlung',\n",
       "       'intensify_endurance', 'improve_flexibility', 'physical_fitness',\n",
       "       'reduce_pressure', 'exercise_others', 'exerciseperiod', 'exercisetype',\n",
       "       'jogging', 'speedwalking', 'powerwalking', 'bicycle', 'ballsports',\n",
       "       'gym', 'swimming', 'ex_others', 'exercisecompared', 'pulse_rate',\n",
       "       'pulse_rate_avg', 'foodtime', 'vegetarian', 'food14_96', 'food14_97',\n",
       "       'food14_98', 'food15_96', 'food15_98', 'food16', 'food22', 'food17_96',\n",
       "       'food17_98', 'food18_96', 'food18_98', 'food09_96', 'food09_98',\n",
       "       'food07_96', 'food07_98', 'food05_96', 'food05_98', 'food06_96',\n",
       "       'food06_98', 'food08_96', 'food08_98', 'food03_96', 'food03_97',\n",
       "       'food03_98', 'food04_96', 'food04_98', 'food10_96', 'food10_97',\n",
       "       'food10_98', 'food11_96', 'food11_97', 'food11_98', 'food12_98',\n",
       "       'food12_09', 'food13_96', 'food13_98', 'food21_96', 'food21_97',\n",
       "       'food21_98', 'food22a', 'food22b', 'food22c', 'food22d', 'food22e_98',\n",
       "       'food22e_01', 'food22f', 'food22g', 'food22h', 'food22i', 'food22j',\n",
       "       'food22k', 'food19_96'],\n",
       "      dtype='object')"
      ]
     },
     "execution_count": 14,
     "metadata": {},
     "output_type": "execute_result"
    }
   ],
   "source": [
    "df.columns[300:400]"
   ]
  },
  {
   "cell_type": "code",
   "execution_count": 15,
   "metadata": {
    "collapsed": false
   },
   "outputs": [
    {
     "data": {
      "text/plain": [
       "Index(['food19_98', 'food19_09', 'food20_96', 'food20_98', 'food23_96',\n",
       "       'food23_98', 'food24_96', 'food24_98', 'food25_96', 'food25_98',\n",
       "       'nutrino', 'nutri01', 'nutri02', 'nutri03', 'nutri04', 'nutri05',\n",
       "       'nutri06', 'nutri07', 'nutri08', 'nutri09', 'nutri10', 'nutri11',\n",
       "       'nutri12', 'nutri13', 'nutri14', 'nutri15', 'nutri16', 'nutri17',\n",
       "       'nutri18', 'g_hei', 'g_wei', 'g_bmi', 'g_fat', 'g_wc', 'g_hc', 'g_whr',\n",
       "       'g_temp', 'g_ac', 'g_sll', 'g_slr', 'g_ssl', 'g_ssr', 'g_dll', 'g_dlr',\n",
       "       'g_dsl', 'g_dsr', 'g_pul', 'g_rr', 'g_cc', 'g_cci', 'g_ed', 'cbc_leu',\n",
       "       'cbc_ery', 'cbc_hemo', 'cbc_hema', 'cbc_mcv', 'cbc_mch', 'cbc_mchc',\n",
       "       'cbc_rdw', 'cbc_pla', 'wbc_n', 'wbc_l', 'wbc_m', 'wbc_e', 'wbc_b',\n",
       "       'dm_fg', 'dm_fg2', 'dm_g', 'lf_tb', 'lf_db', 'lf_tp', 'lf_alb', 'lf_ag',\n",
       "       'lf_glo', 'lf_alp', 'lf_got', 'lf_gpt', 'lf_ggt', 'lf_ldh', 'rf_bun',\n",
       "       'rf_cre', 'rf_egfr', 'ua_ua', 'l_tg', 'l_chol', 'l_hdlc', 'l_ldlc',\n",
       "       'l_ch', 'cpi_ca', 'cpi_p', 'cpi_fe', 'cpi_tibc', 'cpi_ts', 'ee_amy',\n",
       "       'ee_cpk', 'ee_na', 'ee_k', 'ee_cl', 'isd_hbagsv', 'isd_hbabsv'],\n",
       "      dtype='object')"
      ]
     },
     "execution_count": 15,
     "metadata": {},
     "output_type": "execute_result"
    }
   ],
   "source": [
    "df.columns[400:500]"
   ]
  },
  {
   "cell_type": "code",
   "execution_count": 16,
   "metadata": {
    "collapsed": false
   },
   "outputs": [
    {
     "data": {
      "text/plain": [
       "Index(['isd_hbabcv', 'tu_afp', 'tu_cea', 'tf_t3', 'tf_t4', 'tf_ft4', 'tf_tsh',\n",
       "       'i_crp', 'i_rafo', 'i_raf', 'isd_syrpr', 'isd_sytpha', 'bg_type',\n",
       "       'bg_rh', 'ur_leu', 'ur_app', 'ur_pro', 'ur_glu', 'ur_bil', 'ur_urob',\n",
       "       'ur_ob', 'ur_ket', 'ur_nit', 'ur_sg', 'ur_ph', 'ur_sdrlo', 'ur_sdrhi',\n",
       "       'ur_sdwlo', 'ur_sdwhi', 'ur_sdeplo', 'ur_sdephi', 'ur_sdcalo',\n",
       "       'ur_sdcaup', 'ur_sdbac', 'ur_ot', 'cr_stool', 'as_liverus', 'as_idu',\n",
       "       'as_cbdu', 'as_gall', 'as_kid', 'as_hpv', 'as_pan', 'as_spl', 'x_che',\n",
       "       'x_kub', 'x_ugi', 'ekg_ekg', 'ent_ear', 'ent_nose', 'ent_thr', 'ent_np',\n",
       "       'ent_op', 'ent_neck', 'pf_fvc', 'pf_fev1', 'pf_mmf', 'au_l', 'au_r',\n",
       "       'vi_sle', 'vi_vanr', 'vi_vacr', 'vi_vanl', 'vi_vacl', 'vi_color',\n",
       "       'vi_stra', 'vi_ast', 'vi_tonl', 'vi_tonr', 'gy_pap', 'bmd_bmd',\n",
       "       'bmd_loc', 'bmd_bmds', 'bmd_bmda', 'abi_l', 'abi_r', 'bapwv_l',\n",
       "       'bapwv_r', 'android', 'totalbody', 'insulin', 'ushba1c2', 'lipo',\n",
       "       'ca72_4', 'cyfra21_1', 'thynormal', 'hs_crp', 'ranormal_val', 'homocy',\n",
       "       'cr_fobt', 'brenormal', 'scrnormal', 'pronormal', 'lffvcper',\n",
       "       'lffevper', 'lfmmfper', 'eyenormal', 'gynnormal', 'fsh', 'e2'],\n",
       "      dtype='object')"
      ]
     },
     "execution_count": 16,
     "metadata": {},
     "output_type": "execute_result"
    }
   ],
   "source": [
    "df.columns[500:600]"
   ]
  },
  {
   "cell_type": "code",
   "execution_count": 17,
   "metadata": {
    "collapsed": false
   },
   "outputs": [
    {
     "data": {
      "text/plain": [
       "Index(['lh', 'prolact', 'bmdanaly', 'tpos2', 'tpos3', 'tscore2', 'tscore3',\n",
       "       'tlnormal', 'urinebap', 'hivnormal', 'cvirus', 'psa', 'urinedpd',\n",
       "       'ca15_3', 'ca125', 'ca19_9', 'sgsnormal', 'lgsnormal', 'snanormal',\n",
       "       'snbnormal', 'sncnormal', 'sndnormal', 'snenormal', 'npnormal', 'hpv',\n",
       "       'hpyloriab', 'c13_val', 'c13', 'havigg', 'hbsag', 'antihbs', 'antihbc',\n",
       "       'hbeag_val', 'hbeag', 'antihbe_val', 'antihbe', 'rabella',\n",
       "       'igaantivca_val', 'igaantiea', 'igaantivca', 'ct_calcium', 'ntprobnp',\n",
       "       'caronormal', 'sevanum', 'sevaact', 'sevago', 'sevanom', 'testost'],\n",
       "      dtype='object')"
      ]
     },
     "execution_count": 17,
     "metadata": {},
     "output_type": "execute_result"
    }
   ],
   "source": [
    "df.columns[600:]"
   ]
  },
  {
   "cell_type": "code",
   "execution_count": null,
   "metadata": {
    "collapsed": true
   },
   "outputs": [],
   "source": []
  },
  {
   "cell_type": "code",
   "execution_count": null,
   "metadata": {
    "collapsed": true
   },
   "outputs": [],
   "source": []
  },
  {
   "cell_type": "code",
   "execution_count": null,
   "metadata": {
    "collapsed": true
   },
   "outputs": [],
   "source": []
  },
  {
   "cell_type": "code",
   "execution_count": null,
   "metadata": {
    "collapsed": true
   },
   "outputs": [],
   "source": []
  },
  {
   "cell_type": "code",
   "execution_count": null,
   "metadata": {
    "collapsed": true
   },
   "outputs": [],
   "source": []
  },
  {
   "cell_type": "markdown",
   "metadata": {},
   "source": [
    "### 丟棄'name', 'seller', 'offerType', 'model', 'nrOfPictures'"
   ]
  },
  {
   "cell_type": "code",
   "execution_count": 4,
   "metadata": {
    "collapsed": false
   },
   "outputs": [],
   "source": [
    "df = df.drop(['name', 'seller', 'offerType', 'model', 'nrOfPictures' ], axis = 1)"
   ]
  },
  {
   "cell_type": "code",
   "execution_count": 5,
   "metadata": {
    "collapsed": true
   },
   "outputs": [],
   "source": [
    "df_test = df_test.drop(['name', 'seller', 'offerType', 'model', 'nrOfPictures' ], axis = 1)"
   ]
  },
  {
   "cell_type": "code",
   "execution_count": null,
   "metadata": {
    "collapsed": true
   },
   "outputs": [],
   "source": []
  },
  {
   "cell_type": "code",
   "execution_count": null,
   "metadata": {
    "collapsed": true
   },
   "outputs": [],
   "source": []
  },
  {
   "cell_type": "code",
   "execution_count": null,
   "metadata": {
    "collapsed": true
   },
   "outputs": [],
   "source": []
  },
  {
   "cell_type": "code",
   "execution_count": null,
   "metadata": {
    "collapsed": true
   },
   "outputs": [],
   "source": []
  },
  {
   "cell_type": "code",
   "execution_count": null,
   "metadata": {
    "collapsed": true
   },
   "outputs": [],
   "source": []
  },
  {
   "cell_type": "code",
   "execution_count": null,
   "metadata": {
    "collapsed": true
   },
   "outputs": [],
   "source": []
  }
 ],
 "metadata": {
  "anaconda-cloud": {},
  "kernelspec": {
   "display_name": "Python 2",
   "language": "python",
   "name": "python2"
  },
  "language_info": {
   "codemirror_mode": {
    "name": "ipython",
    "version": 2
   },
   "file_extension": ".py",
   "mimetype": "text/x-python",
   "name": "python",
   "nbconvert_exporter": "python",
   "pygments_lexer": "ipython2",
   "version": "2.7.12"
  }
 },
 "nbformat": 4,
 "nbformat_minor": 0
}
